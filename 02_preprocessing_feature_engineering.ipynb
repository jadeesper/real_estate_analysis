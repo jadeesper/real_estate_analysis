{
 "cells": [
  {
   "cell_type": "markdown",
   "metadata": {},
   "source": [
    "# Preprocessing des données et Feature engineering"
   ]
  },
  {
   "cell_type": "code",
   "execution_count": 1,
   "metadata": {},
   "outputs": [],
   "source": [
    "import findspark\n",
    "import pyspark\n",
    "from pyspark import HiveContext\n",
    "findspark.init()"
   ]
  },
  {
   "cell_type": "code",
   "execution_count": 2,
   "metadata": {},
   "outputs": [],
   "source": [
    "from pyspark.sql.functions import col\n",
    "from pyspark.sql.functions import count\n",
    "from pyspark.sql.functions import isnull\n",
    "from pyspark.sql.functions import split\n",
    "from pyspark.sql.functions import sum\n",
    "from pyspark.sql.functions import when"
   ]
  },
  {
   "cell_type": "code",
   "execution_count": 42,
   "metadata": {},
   "outputs": [],
   "source": [
    "from pyspark.sql import SparkSession\n",
    "spark = SparkSession.builder.appName(\"Data Import\").getOrCreate()"
   ]
  },
  {
   "cell_type": "code",
   "execution_count": 43,
   "metadata": {},
   "outputs": [
    {
     "data": {
      "text/html": [
       "<div>\n",
       "<style scoped>\n",
       "    .dataframe tbody tr th:only-of-type {\n",
       "        vertical-align: middle;\n",
       "    }\n",
       "\n",
       "    .dataframe tbody tr th {\n",
       "        vertical-align: top;\n",
       "    }\n",
       "\n",
       "    .dataframe thead th {\n",
       "        text-align: right;\n",
       "    }\n",
       "</style>\n",
       "<table border=\"1\" class=\"dataframe\">\n",
       "  <thead>\n",
       "    <tr style=\"text-align: right;\">\n",
       "      <th></th>\n",
       "      <th>lien</th>\n",
       "      <th>titre</th>\n",
       "      <th>surface</th>\n",
       "      <th>nb_pieces</th>\n",
       "      <th>nb_chambres</th>\n",
       "      <th>annee_constr</th>\n",
       "      <th>nb_features_int</th>\n",
       "      <th>features_int</th>\n",
       "      <th>features_ext</th>\n",
       "      <th>terrain</th>\n",
       "      <th>prix</th>\n",
       "    </tr>\n",
       "  </thead>\n",
       "  <tbody>\n",
       "    <tr>\n",
       "      <th>0</th>\n",
       "      <td>https://www.laforet.com/agence-immobiliere/par...</td>\n",
       "      <td>Appartement T1 Paris 15</td>\n",
       "      <td>10 mÂ²</td>\n",
       "      <td>1 piÃ¨ce(s)</td>\n",
       "      <td>None</td>\n",
       "      <td>None</td>\n",
       "      <td>2</td>\n",
       "      <td>Cuisine Kitchenet</td>\n",
       "      <td></td>\n",
       "      <td>0</td>\n",
       "      <td>99â¯500Â â¬</td>\n",
       "    </tr>\n",
       "    <tr>\n",
       "      <th>1</th>\n",
       "      <td>https://www.laforet.com/agence-immobiliere/par...</td>\n",
       "      <td>Appartement T1 Paris 18</td>\n",
       "      <td>25 mÂ²</td>\n",
       "      <td>1 piÃ¨ce(s)</td>\n",
       "      <td>None</td>\n",
       "      <td>None</td>\n",
       "      <td>4</td>\n",
       "      <td>Cuisine Ouverte\\n                       \\n    ...</td>\n",
       "      <td></td>\n",
       "      <td>0</td>\n",
       "      <td>243â¯000Â â¬</td>\n",
       "    </tr>\n",
       "    <tr>\n",
       "      <th>2</th>\n",
       "      <td>https://www.laforet.com/agence-immobiliere/par...</td>\n",
       "      <td>Appartement T1 Boulogne-Billancourt</td>\n",
       "      <td>12.5 mÂ²</td>\n",
       "      <td>1 piÃ¨ce(s)</td>\n",
       "      <td>None</td>\n",
       "      <td>Charges mensuelles copro : 64 â¬</td>\n",
       "      <td>4</td>\n",
       "      <td>Cuisine Kitchenet\\n                       \\n  ...</td>\n",
       "      <td></td>\n",
       "      <td>0</td>\n",
       "      <td>112â¯500Â â¬</td>\n",
       "    </tr>\n",
       "    <tr>\n",
       "      <th>3</th>\n",
       "      <td>https://www.laforet.com/agence-immobiliere/dij...</td>\n",
       "      <td>Appartement T3 Dijon</td>\n",
       "      <td>65.84 mÂ²</td>\n",
       "      <td>3 piÃ¨ce(s)</td>\n",
       "      <td>2 chambre(s)</td>\n",
       "      <td>Ann. const. : 2005</td>\n",
       "      <td>10</td>\n",
       "      <td>Cuisine Nue\\n                       \\n        ...</td>\n",
       "      <td></td>\n",
       "      <td>1</td>\n",
       "      <td>211â¯700Â â¬</td>\n",
       "    </tr>\n",
       "    <tr>\n",
       "      <th>4</th>\n",
       "      <td>https://www.laforet.com/agence-immobiliere/par...</td>\n",
       "      <td>Appartement T1 Paris 11</td>\n",
       "      <td>15 mÂ²</td>\n",
       "      <td>1 piÃ¨ce(s)</td>\n",
       "      <td>None</td>\n",
       "      <td>Soumis Ã  la copropriÃ©tÃ©</td>\n",
       "      <td>2</td>\n",
       "      <td>Cuisine Kitchenet</td>\n",
       "      <td></td>\n",
       "      <td>0</td>\n",
       "      <td>187â¯250Â â¬</td>\n",
       "    </tr>\n",
       "    <tr>\n",
       "      <th>5</th>\n",
       "      <td>https://www.laforet.com/agence-immobiliere/par...</td>\n",
       "      <td>Appartement T3 Paris 15</td>\n",
       "      <td>75 mÂ²</td>\n",
       "      <td>3 piÃ¨ce(s)</td>\n",
       "      <td>2 chambre(s)</td>\n",
       "      <td>Ann. const. : 1970</td>\n",
       "      <td>8</td>\n",
       "      <td>Cuisine IndÃ©pendante\\n                       ...</td>\n",
       "      <td></td>\n",
       "      <td>0</td>\n",
       "      <td>725â¯500Â â¬</td>\n",
       "    </tr>\n",
       "    <tr>\n",
       "      <th>6</th>\n",
       "      <td>https://www.laforet.com/agence-immobiliere/ron...</td>\n",
       "      <td>Appartement T2 Lille</td>\n",
       "      <td>29.34 mÂ²</td>\n",
       "      <td>2 piÃ¨ce(s)</td>\n",
       "      <td>1 chambre(s)</td>\n",
       "      <td>Soumis Ã  la copropriÃ©tÃ©</td>\n",
       "      <td>4</td>\n",
       "      <td>Cuisine Kitchenet\\n                       \\n  ...</td>\n",
       "      <td></td>\n",
       "      <td>0</td>\n",
       "      <td>83â¯000Â â¬</td>\n",
       "    </tr>\n",
       "    <tr>\n",
       "      <th>7</th>\n",
       "      <td>https://www.laforet.com/agence-immobiliere/sar...</td>\n",
       "      <td>Maison T3 Sartrouville</td>\n",
       "      <td>57.41 mÂ²</td>\n",
       "      <td>3 piÃ¨ce(s)</td>\n",
       "      <td>2 chambre(s)</td>\n",
       "      <td>Ann. const. : 1948</td>\n",
       "      <td>8</td>\n",
       "      <td>Cuisine Nue\\n                       \\n        ...</td>\n",
       "      <td></td>\n",
       "      <td>1</td>\n",
       "      <td>336â¯000Â â¬</td>\n",
       "    </tr>\n",
       "    <tr>\n",
       "      <th>8</th>\n",
       "      <td>https://www.laforet.com/agence-immobiliere/tav...</td>\n",
       "      <td>Appartement T4 Taverny</td>\n",
       "      <td>76.44 mÂ²</td>\n",
       "      <td>4 piÃ¨ce(s)</td>\n",
       "      <td>3 chambre(s)</td>\n",
       "      <td>Ann. const. : 1970</td>\n",
       "      <td>4</td>\n",
       "      <td>1 terrasse(s)\\n                       \\n      ...</td>\n",
       "      <td></td>\n",
       "      <td>0</td>\n",
       "      <td>249â¯000Â â¬</td>\n",
       "    </tr>\n",
       "    <tr>\n",
       "      <th>9</th>\n",
       "      <td>https://www.laforet.com/agence-immobiliere/mou...</td>\n",
       "      <td>Maison T6 prÃ¨s de Bury</td>\n",
       "      <td>156 mÂ²</td>\n",
       "      <td>6 piÃ¨ce(s)</td>\n",
       "      <td>3 chambre(s)</td>\n",
       "      <td>None</td>\n",
       "      <td>2</td>\n",
       "      <td>Cuisine AmÃ©nagÃ©e/Ã©quipÃ©e</td>\n",
       "      <td></td>\n",
       "      <td>1</td>\n",
       "      <td>293â¯000Â â¬</td>\n",
       "    </tr>\n",
       "  </tbody>\n",
       "</table>\n",
       "</div>"
      ],
      "text/plain": [
       "                                                lien  \\\n",
       "0  https://www.laforet.com/agence-immobiliere/par...   \n",
       "1  https://www.laforet.com/agence-immobiliere/par...   \n",
       "2  https://www.laforet.com/agence-immobiliere/par...   \n",
       "3  https://www.laforet.com/agence-immobiliere/dij...   \n",
       "4  https://www.laforet.com/agence-immobiliere/par...   \n",
       "5  https://www.laforet.com/agence-immobiliere/par...   \n",
       "6  https://www.laforet.com/agence-immobiliere/ron...   \n",
       "7  https://www.laforet.com/agence-immobiliere/sar...   \n",
       "8  https://www.laforet.com/agence-immobiliere/tav...   \n",
       "9  https://www.laforet.com/agence-immobiliere/mou...   \n",
       "\n",
       "                                 titre    surface    nb_pieces   nb_chambres  \\\n",
       "0              Appartement T1 Paris 15     10 mÂ²  1 piÃ¨ce(s)          None   \n",
       "1              Appartement T1 Paris 18     25 mÂ²  1 piÃ¨ce(s)          None   \n",
       "2  Appartement T1 Boulogne-Billancourt   12.5 mÂ²  1 piÃ¨ce(s)          None   \n",
       "3                 Appartement T3 Dijon  65.84 mÂ²  3 piÃ¨ce(s)  2 chambre(s)   \n",
       "4              Appartement T1 Paris 11     15 mÂ²  1 piÃ¨ce(s)          None   \n",
       "5              Appartement T3 Paris 15     75 mÂ²  3 piÃ¨ce(s)  2 chambre(s)   \n",
       "6                 Appartement T2 Lille  29.34 mÂ²  2 piÃ¨ce(s)  1 chambre(s)   \n",
       "7               Maison T3 Sartrouville  57.41 mÂ²  3 piÃ¨ce(s)  2 chambre(s)   \n",
       "8               Appartement T4 Taverny  76.44 mÂ²  4 piÃ¨ce(s)  3 chambre(s)   \n",
       "9              Maison T6 prÃ¨s de Bury    156 mÂ²  6 piÃ¨ce(s)  3 chambre(s)   \n",
       "\n",
       "                        annee_constr  nb_features_int  \\\n",
       "0                               None                2   \n",
       "1                               None                4   \n",
       "2  Charges mensuelles copro : 64 â¬                4   \n",
       "3                 Ann. const. : 2005               10   \n",
       "4         Soumis Ã  la copropriÃ©tÃ©                2   \n",
       "5                 Ann. const. : 1970                8   \n",
       "6         Soumis Ã  la copropriÃ©tÃ©                4   \n",
       "7                 Ann. const. : 1948                8   \n",
       "8                 Ann. const. : 1970                4   \n",
       "9                               None                2   \n",
       "\n",
       "                                        features_int features_ext  terrain  \\\n",
       "0                                  Cuisine Kitchenet                     0   \n",
       "1  Cuisine Ouverte\\n                       \\n    ...                     0   \n",
       "2  Cuisine Kitchenet\\n                       \\n  ...                     0   \n",
       "3  Cuisine Nue\\n                       \\n        ...                     1   \n",
       "4                                  Cuisine Kitchenet                     0   \n",
       "5  Cuisine IndÃ©pendante\\n                       ...                     0   \n",
       "6  Cuisine Kitchenet\\n                       \\n  ...                     0   \n",
       "7  Cuisine Nue\\n                       \\n        ...                     1   \n",
       "8  1 terrasse(s)\\n                       \\n      ...                     0   \n",
       "9                       Cuisine AmÃ©nagÃ©e/Ã©quipÃ©e                     1   \n",
       "\n",
       "             prix  \n",
       "0   99â¯500Â â¬  \n",
       "1  243â¯000Â â¬  \n",
       "2  112â¯500Â â¬  \n",
       "3  211â¯700Â â¬  \n",
       "4  187â¯250Â â¬  \n",
       "5  725â¯500Â â¬  \n",
       "6   83â¯000Â â¬  \n",
       "7  336â¯000Â â¬  \n",
       "8  249â¯000Â â¬  \n",
       "9  293â¯000Â â¬  "
      ]
     },
     "execution_count": 43,
     "metadata": {},
     "output_type": "execute_result"
    }
   ],
   "source": [
    "df = spark.read.parquet(\"LaForet_listings.parquet\", header=True, inferSchema=True) \n",
    "\n",
    "df.limit(10).toPandas()"
   ]
  },
  {
   "cell_type": "code",
   "execution_count": 44,
   "metadata": {},
   "outputs": [
    {
     "name": "stdout",
     "output_type": "stream",
     "text": [
      "Shape: (rows, columns) - (1100, 11)\n"
     ]
    }
   ],
   "source": [
    "print(\"Shape: (rows, columns) -\", (df.count(), len(df.columns)))"
   ]
  },
  {
   "cell_type": "code",
   "execution_count": 45,
   "metadata": {},
   "outputs": [
    {
     "name": "stdout",
     "output_type": "stream",
     "text": [
      "+----+-----+-------+---------+-----------+------------+---------------+------------+------------+-------+----+\n",
      "|lien|titre|surface|nb_pieces|nb_chambres|annee_constr|nb_features_int|features_int|features_ext|terrain|prix|\n",
      "+----+-----+-------+---------+-----------+------------+---------------+------------+------------+-------+----+\n",
      "|   0|    0|      0|        2|         87|         162|              0|           0|           0|      0|   0|\n",
      "+----+-----+-------+---------+-----------+------------+---------------+------------+------------+-------+----+\n",
      "\n"
     ]
    }
   ],
   "source": [
    "# On regarde le nombre de valeurs manquantes par colonne\n",
    "df.select([sum(when(df[col].isNull(), 1).otherwise(0)).alias(col) for col in df.columns]).show()\n"
   ]
  },
  {
   "cell_type": "markdown",
   "metadata": {},
   "source": [
    "Notre base de données contient relativement peu de valeurs manquantes.\n",
    "\n",
    "## Nettoyage des données\n",
    "\n",
    " Nettoyage et creation de nouvelles valeurs à partir de la colonne \"titre\""
   ]
  },
  {
   "cell_type": "code",
   "execution_count": 46,
   "metadata": {},
   "outputs": [],
   "source": [
    "## On extrait le premier mot dans une colonne \"type\" pour obtenir le type de logement\n",
    "df = df.withColumn(\"type\", split(col(\"titre\"), \" \")[0])"
   ]
  },
  {
   "cell_type": "code",
   "execution_count": 47,
   "metadata": {},
   "outputs": [
    {
     "name": "stdout",
     "output_type": "stream",
     "text": [
      "+-----------+-----+\n",
      "|       type|count|\n",
      "+-----------+-----+\n",
      "|Appartement|  687|\n",
      "|       Loft|    1|\n",
      "|     Maison|  412|\n",
      "+-----------+-----+\n",
      "\n"
     ]
    }
   ],
   "source": [
    "df.groupBy(\"type\").count().sort(\"type\").show()"
   ]
  },
  {
   "cell_type": "code",
   "execution_count": 484,
   "metadata": {},
   "outputs": [],
   "source": [
    "#Possibilité de changer la valeur 'Loft'à 'appartement' car il n'y en a qu'1\n",
    "\n",
    "#from pyspark.sql.functions import expr\n",
    "\n",
    "#data = df.withColumn(\"type\", expr(\"CASE WHEN type='Loft' THEN 'Appartement' ELSE type END\"))\n"
   ]
  },
  {
   "cell_type": "code",
   "execution_count": 48,
   "metadata": {},
   "outputs": [],
   "source": [
    "## On extrait egalement la ville du titre\n",
    "\n",
    "# pour faire une fonction à la main qui peut faire des operation plus compliquées, on importe UDF (user defined function)\n",
    "import re #pour les regex\n",
    "from pyspark.sql.functions import udf #pour pouvoir appliquer notre fonction a un df\n",
    "from pyspark.sql.types import StringType\n",
    "\n",
    "# On definit la fonction de recherche de ville\n",
    "def find_city_name(label: str) -> str:\n",
    "    try:\n",
    "        res = re.search(r'.*T\\d+(.*)',label).group(1) #le nom de la ville est après 'Appartement T1' par exemple\n",
    "        return res\n",
    "    except:\n",
    "        res= label.rsplit(None, 1)[-1] #sinon on prend le dernier element de la cell\n",
    "        return res\n",
    "\n",
    "# On cree un UDF a partir de notre fonction\n",
    "find_city_name_udf = udf(find_city_name, StringType())\n",
    "\n",
    "# On cree une nouvelle colonne avec le nom des villes\n",
    "df = df.withColumn(\"villes\", find_city_name_udf(df[\"titre\"]))\n"
   ]
  },
  {
   "cell_type": "code",
   "execution_count": 49,
   "metadata": {},
   "outputs": [
    {
     "data": {
      "text/html": [
       "<div>\n",
       "<style scoped>\n",
       "    .dataframe tbody tr th:only-of-type {\n",
       "        vertical-align: middle;\n",
       "    }\n",
       "\n",
       "    .dataframe tbody tr th {\n",
       "        vertical-align: top;\n",
       "    }\n",
       "\n",
       "    .dataframe thead th {\n",
       "        text-align: right;\n",
       "    }\n",
       "</style>\n",
       "<table border=\"1\" class=\"dataframe\">\n",
       "  <thead>\n",
       "    <tr style=\"text-align: right;\">\n",
       "      <th></th>\n",
       "      <th>lien</th>\n",
       "      <th>titre</th>\n",
       "      <th>surface</th>\n",
       "      <th>nb_pieces</th>\n",
       "      <th>nb_chambres</th>\n",
       "      <th>annee_constr</th>\n",
       "      <th>nb_features_int</th>\n",
       "      <th>features_int</th>\n",
       "      <th>features_ext</th>\n",
       "      <th>terrain</th>\n",
       "      <th>prix</th>\n",
       "      <th>type</th>\n",
       "      <th>villes</th>\n",
       "    </tr>\n",
       "  </thead>\n",
       "  <tbody>\n",
       "    <tr>\n",
       "      <th>0</th>\n",
       "      <td>https://www.laforet.com/agence-immobiliere/par...</td>\n",
       "      <td>Appartement T1 Paris 15</td>\n",
       "      <td>10 mÂ²</td>\n",
       "      <td>1 piÃ¨ce(s)</td>\n",
       "      <td>None</td>\n",
       "      <td>None</td>\n",
       "      <td>2</td>\n",
       "      <td>Cuisine Kitchenet</td>\n",
       "      <td></td>\n",
       "      <td>0</td>\n",
       "      <td>99â¯500Â â¬</td>\n",
       "      <td>Appartement</td>\n",
       "      <td>Paris 15</td>\n",
       "    </tr>\n",
       "  </tbody>\n",
       "</table>\n",
       "</div>"
      ],
      "text/plain": [
       "                                                lien                    titre  \\\n",
       "0  https://www.laforet.com/agence-immobiliere/par...  Appartement T1 Paris 15   \n",
       "\n",
       "  surface    nb_pieces nb_chambres annee_constr  nb_features_int  \\\n",
       "0  10 mÂ²  1 piÃ¨ce(s)        None         None                2   \n",
       "\n",
       "        features_int features_ext  terrain           prix         type  \\\n",
       "0  Cuisine Kitchenet                     0  99â¯500Â â¬  Appartement   \n",
       "\n",
       "      villes  \n",
       "0   Paris 15  "
      ]
     },
     "execution_count": 49,
     "metadata": {},
     "output_type": "execute_result"
    }
   ],
   "source": [
    "df.limit(1).toPandas()"
   ]
  },
  {
   "cell_type": "code",
   "execution_count": 50,
   "metadata": {},
   "outputs": [],
   "source": [
    "#Les colonnes voulues sont ajoutées, mais on n'a pas encore des noms de villes nettoyés\n",
    "from pyspark.sql.functions import regexp_replace \n",
    "from pyspark.sql.functions import trim\n",
    "\n",
    "# On remplace la mention 'pres de'\n",
    "df = df.withColumn(\"villes\", regexp_replace(df[\"villes\"], \"prÃ¨s de\", \"\"))\n",
    "\n",
    "#on enleve les espaces en trop\n",
    "df = df.withColumn(\"villes\", trim(df[\"villes\"]))\n",
    "\n"
   ]
  },
  {
   "cell_type": "markdown",
   "metadata": {},
   "source": [
    "### Nettoyage du au problème d'encoding"
   ]
  },
  {
   "cell_type": "code",
   "execution_count": 51,
   "metadata": {},
   "outputs": [],
   "source": [
    "df = df.select([regexp_replace(col, 'Ã[¨©]', 'e').alias(col) for col in df.columns]) \n",
    "df = df.select([regexp_replace(col, 'Ã´', 'o').alias(col) for col in df.columns])\n",
    "df = df.select([regexp_replace(col, 'a', 'E').alias(col) for col in df.columns])\n",
    "df = df.select([regexp_replace(col, '[Ã]', 'a').alias(col) for col in df.columns])  "
   ]
  },
  {
   "cell_type": "markdown",
   "metadata": {},
   "source": [
    "### Nettoyage des colonnes 'surface', 'nb_pieces' 'nb_chambres' et 'prix'"
   ]
  },
  {
   "cell_type": "code",
   "execution_count": 52,
   "metadata": {},
   "outputs": [],
   "source": [
    "#On enleve les mesures: 'mÂ²' et 'piÃ¨ce(s)' et les lettres polluantes dans le prix\n",
    "from pyspark.sql.functions import regexp_extract\n",
    "\n",
    "df = df.withColumn(\"surface\", regexp_replace(df[\"surface\"], \"mÂ²\", \"\")) \n",
    "df = df.withColumn(\"nb_pieces\", regexp_extract(df[\"nb_pieces\"], \"^(\\d+)\", 1))\n",
    "df = df.withColumn(\"nb_chambres\", regexp_extract(df[\"nb_chambres\"], \"^(\\d+)\", 1))\n",
    "df= df.withColumn(\"prix\", regexp_replace(df[\"prix\"], \"[^\\d]+\", \"\"))\n"
   ]
  },
  {
   "cell_type": "code",
   "execution_count": 53,
   "metadata": {},
   "outputs": [],
   "source": [
    "# on trim au cas ou \n",
    "df = df.withColumn(\"surface\", trim(df[\"surface\"]))\n",
    "df = df.withColumn(\"nb_pieces\", trim(df[\"nb_pieces\"]))\n",
    "df = df.withColumn(\"nb_chambres\", trim(df[\"nb_chambres\"]))\n",
    "df = df.withColumn(\"prix\", trim(df[\"prix\"]))"
   ]
  },
  {
   "cell_type": "code",
   "execution_count": 14,
   "metadata": {},
   "outputs": [
    {
     "data": {
      "text/html": [
       "<div>\n",
       "<style scoped>\n",
       "    .dataframe tbody tr th:only-of-type {\n",
       "        vertical-align: middle;\n",
       "    }\n",
       "\n",
       "    .dataframe tbody tr th {\n",
       "        vertical-align: top;\n",
       "    }\n",
       "\n",
       "    .dataframe thead th {\n",
       "        text-align: right;\n",
       "    }\n",
       "</style>\n",
       "<table border=\"1\" class=\"dataframe\">\n",
       "  <thead>\n",
       "    <tr style=\"text-align: right;\">\n",
       "      <th></th>\n",
       "      <th>lien</th>\n",
       "      <th>titre</th>\n",
       "      <th>surface</th>\n",
       "      <th>nb_pieces</th>\n",
       "      <th>nb_chambres</th>\n",
       "      <th>annee_constr</th>\n",
       "      <th>nb_features_int</th>\n",
       "      <th>features_int</th>\n",
       "      <th>features_ext</th>\n",
       "      <th>terrain</th>\n",
       "      <th>prix</th>\n",
       "      <th>type</th>\n",
       "      <th>villes</th>\n",
       "    </tr>\n",
       "  </thead>\n",
       "  <tbody>\n",
       "    <tr>\n",
       "      <th>0</th>\n",
       "      <td>https://www.laforet.com/agence-immobiliere/par...</td>\n",
       "      <td>Appartement T1 Paris 15</td>\n",
       "      <td>10</td>\n",
       "      <td>1</td>\n",
       "      <td>None</td>\n",
       "      <td>None</td>\n",
       "      <td>2</td>\n",
       "      <td>Cuisine Kitchenet</td>\n",
       "      <td></td>\n",
       "      <td>0</td>\n",
       "      <td>99500</td>\n",
       "      <td>Appartement</td>\n",
       "      <td>Paris 15</td>\n",
       "    </tr>\n",
       "  </tbody>\n",
       "</table>\n",
       "</div>"
      ],
      "text/plain": [
       "                                                lien                    titre  \\\n",
       "0  https://www.laforet.com/agence-immobiliere/par...  Appartement T1 Paris 15   \n",
       "\n",
       "  surface nb_pieces nb_chambres annee_constr nb_features_int  \\\n",
       "0      10         1        None         None               2   \n",
       "\n",
       "        features_int features_ext terrain   prix         type    villes  \n",
       "0  Cuisine Kitchenet                    0  99500  Appartement  Paris 15  "
      ]
     },
     "execution_count": 14,
     "metadata": {},
     "output_type": "execute_result"
    }
   ],
   "source": [
    "df.limit(1).toPandas()"
   ]
  },
  {
   "cell_type": "markdown",
   "metadata": {},
   "source": [
    "### Nettoyage de la colonne ann_constr\n",
    "Les données de cette colonne peuvent correspondre à d'autres types d'information que l'année de construction, car sur le site, quand l'année de construction du bien n'est pas mentionnée, une autre information se place au meme endroit\n",
    "\n",
    "On se debarasse donc de cette information."
   ]
  },
  {
   "cell_type": "code",
   "execution_count": 54,
   "metadata": {},
   "outputs": [],
   "source": [
    "#On ne garde que l'information souhaitée\n",
    "df = df.withColumn(\"annee_constr\", when(df[\"annee_constr\"].rlike(\"^Ann. const.\"), df[\"annee_constr\"]).otherwise(None))\n",
    "\n",
    "#On ne garde que les digits\n",
    "df= df.withColumn(\"annee_constr\", regexp_replace(df[\"annee_constr\"], \"[^\\d]+\", \"\"))"
   ]
  },
  {
   "cell_type": "markdown",
   "metadata": {},
   "source": [
    "### Traitement des valeurs manquantes\n",
    "On commence par effectuer une transformation string/numeric aux colonnes ou c'est adapté.\n",
    "\n",
    "On pourra par la suite faire une imputation de valeurs manquantes par la moyenne/médiane.."
   ]
  },
  {
   "cell_type": "code",
   "execution_count": 55,
   "metadata": {},
   "outputs": [
    {
     "name": "stdout",
     "output_type": "stream",
     "text": [
      "root\n",
      " |-- lien: string (nullable = true)\n",
      " |-- titre: string (nullable = true)\n",
      " |-- surface: string (nullable = true)\n",
      " |-- nb_pieces: string (nullable = true)\n",
      " |-- nb_chambres: string (nullable = true)\n",
      " |-- annee_constr: string (nullable = true)\n",
      " |-- nb_features_int: string (nullable = true)\n",
      " |-- features_int: string (nullable = true)\n",
      " |-- features_ext: string (nullable = true)\n",
      " |-- terrain: string (nullable = true)\n",
      " |-- prix: string (nullable = true)\n",
      " |-- type: string (nullable = true)\n",
      " |-- villes: string (nullable = true)\n",
      "\n"
     ]
    }
   ],
   "source": [
    "df.printSchema()"
   ]
  },
  {
   "cell_type": "code",
   "execution_count": 56,
   "metadata": {},
   "outputs": [],
   "source": [
    "#On commence par transformer les types des colonnes en numerique\n",
    "columns_to_num = ['surface','nb_pieces','nb_chambres','annee_constr', 'nb_features_int','terrain','prix']\n",
    "\n",
    "df = df.select([col(c).cast(\"double\").alias(c) if c in columns_to_num else c for c in df.columns])"
   ]
  },
  {
   "cell_type": "code",
   "execution_count": 57,
   "metadata": {},
   "outputs": [
    {
     "name": "stdout",
     "output_type": "stream",
     "text": [
      "+----+-----+-------+---------+-----------+------------+---------------+------------+------------+-------+----+----+------+\n",
      "|lien|titre|surface|nb_pieces|nb_chambres|annee_constr|nb_features_int|features_int|features_ext|terrain|prix|type|villes|\n",
      "+----+-----+-------+---------+-----------+------------+---------------+------------+------------+-------+----+----+------+\n",
      "|   0|    0|      0|        2|         90|         411|              0|           0|           0|      0|   0|   0|     0|\n",
      "+----+-----+-------+---------+-----------+------------+---------------+------------+------------+-------+----+----+------+\n",
      "\n"
     ]
    }
   ],
   "source": [
    "#On regarde le nombre de valeurs manquantes par colonne\n",
    "df.select([sum(when(df[col].isNull(), 1).otherwise(0)).alias(col) for col in df.columns]).show()"
   ]
  },
  {
   "cell_type": "code",
   "execution_count": 58,
   "metadata": {},
   "outputs": [
    {
     "data": {
      "text/html": [
       "<div>\n",
       "<style scoped>\n",
       "    .dataframe tbody tr th:only-of-type {\n",
       "        vertical-align: middle;\n",
       "    }\n",
       "\n",
       "    .dataframe tbody tr th {\n",
       "        vertical-align: top;\n",
       "    }\n",
       "\n",
       "    .dataframe thead th {\n",
       "        text-align: right;\n",
       "    }\n",
       "</style>\n",
       "<table border=\"1\" class=\"dataframe\">\n",
       "  <thead>\n",
       "    <tr style=\"text-align: right;\">\n",
       "      <th></th>\n",
       "      <th>lien</th>\n",
       "      <th>titre</th>\n",
       "      <th>surface</th>\n",
       "      <th>nb_pieces</th>\n",
       "      <th>nb_chambres</th>\n",
       "      <th>annee_constr</th>\n",
       "      <th>nb_features_int</th>\n",
       "      <th>features_int</th>\n",
       "      <th>features_ext</th>\n",
       "      <th>terrain</th>\n",
       "      <th>prix</th>\n",
       "      <th>type</th>\n",
       "      <th>villes</th>\n",
       "    </tr>\n",
       "  </thead>\n",
       "  <tbody>\n",
       "    <tr>\n",
       "      <th>0</th>\n",
       "      <td>https://www.laforet.com/agence-immobiliere/bri...</td>\n",
       "      <td>Maison Lavaudieu</td>\n",
       "      <td>90.0</td>\n",
       "      <td>NaN</td>\n",
       "      <td>NaN</td>\n",
       "      <td>NaN</td>\n",
       "      <td>2.0</td>\n",
       "      <td>1 cave(s)</td>\n",
       "      <td></td>\n",
       "      <td>0.0</td>\n",
       "      <td>111000.0</td>\n",
       "      <td>Maison</td>\n",
       "      <td>Lavaudieu</td>\n",
       "    </tr>\n",
       "    <tr>\n",
       "      <th>1</th>\n",
       "      <td>https://www.laforet.com/agence-immobiliere/bri...</td>\n",
       "      <td>Maison Lavaudieu</td>\n",
       "      <td>90.0</td>\n",
       "      <td>NaN</td>\n",
       "      <td>NaN</td>\n",
       "      <td>NaN</td>\n",
       "      <td>2.0</td>\n",
       "      <td>1 cave(s)</td>\n",
       "      <td></td>\n",
       "      <td>0.0</td>\n",
       "      <td>144000.0</td>\n",
       "      <td>Maison</td>\n",
       "      <td>Lavaudieu</td>\n",
       "    </tr>\n",
       "  </tbody>\n",
       "</table>\n",
       "</div>"
      ],
      "text/plain": [
       "                                                lien             titre  \\\n",
       "0  https://www.laforet.com/agence-immobiliere/bri...  Maison Lavaudieu   \n",
       "1  https://www.laforet.com/agence-immobiliere/bri...  Maison Lavaudieu   \n",
       "\n",
       "   surface  nb_pieces  nb_chambres  annee_constr  nb_features_int  \\\n",
       "0     90.0        NaN          NaN           NaN              2.0   \n",
       "1     90.0        NaN          NaN           NaN              2.0   \n",
       "\n",
       "  features_int features_ext  terrain      prix    type     villes  \n",
       "0    1 cave(s)                   0.0  111000.0  Maison  Lavaudieu  \n",
       "1    1 cave(s)                   0.0  144000.0  Maison  Lavaudieu  "
      ]
     },
     "execution_count": 58,
     "metadata": {},
     "output_type": "execute_result"
    }
   ],
   "source": [
    "exemple = df.filter(col('nb_pieces').isNull())\n",
    "exemple.limit(2).toPandas()"
   ]
  },
  {
   "cell_type": "code",
   "execution_count": 59,
   "metadata": {},
   "outputs": [],
   "source": [
    "#Colonne nb_pieces: on fait une imputation par la moyenne comme il n'y a que 2 valeurs manquantes\n",
    "\n",
    "from pyspark.sql.functions import ceil, mean\n",
    "\n",
    "# On calcule la moyenne \n",
    "mean_nb_pieces = df.agg(ceil(mean(df['nb_pieces']))).first()[0]\n",
    "\n",
    "# On remplit les valeurs manquantes de la colonne avec la moyenne\n",
    "df = df.na.fill({'nb_pieces': mean_nb_pieces})\n"
   ]
  },
  {
   "cell_type": "code",
   "execution_count": 60,
   "metadata": {},
   "outputs": [],
   "source": [
    "#Colonne nb_chambres: on deduit le nombre de chambres en faisant une imputation par la moyenne groupée \n",
    "#en fonction du nombre de pieces des biens\n",
    "\n",
    "from pyspark.sql.functions import coalesce\n",
    "\n",
    "df2 = df.groupby(\"nb_pieces\").agg(mean(\"nb_chambres\").alias(\"mean_nb_chambres\"))\n",
    "df = df.join(df2, on=\"nb_pieces\", how=\"left\")\n",
    "df = df.withColumn('nb_chambres', coalesce('nb_chambres', 'mean_nb_chambres'))\n",
    "df = df.drop(\"mean_nb_chambres\")"
   ]
  },
  {
   "cell_type": "code",
   "execution_count": 61,
   "metadata": {},
   "outputs": [
    {
     "name": "stdout",
     "output_type": "stream",
     "text": [
      "+---------+----+-----+-------+-----------+------------+---------------+------------+------------+-------+----+----+------+\n",
      "|nb_pieces|lien|titre|surface|nb_chambres|annee_constr|nb_features_int|features_int|features_ext|terrain|prix|type|villes|\n",
      "+---------+----+-----+-------+-----------+------------+---------------+------------+------------+-------+----+----+------+\n",
      "|        0|   0|    0|      0|          0|         411|              0|           0|           0|      0|   0|   0|     0|\n",
      "+---------+----+-----+-------+-----------+------------+---------------+------------+------------+-------+----+----+------+\n",
      "\n"
     ]
    }
   ],
   "source": [
    "df.select([sum(when(df[col].isNull(), 1).otherwise(0)).alias(col) for col in df.columns]).show()"
   ]
  },
  {
   "cell_type": "markdown",
   "metadata": {},
   "source": [
    "On décide de ne pas remplacer les valeurs manquantes de la colonne 'annee_constr', car elles represetent un trop gros nombre d'observations et qu'aucune autre variable ne semble pouvoir instrumentaliser celle-ci (même en faisant des moyennes groupées, les valeurs remplies ne seront pas proche de la realité). On prefere plutot mettre des 0 afin de marquer les observations ou l'année n'est pas donnée"
   ]
  },
  {
   "cell_type": "code",
   "execution_count": 87,
   "metadata": {},
   "outputs": [],
   "source": [
    "from pyspark.sql.functions import lit\n",
    "\n",
    "df = df.withColumn(\"annee_constr\", \n",
    "                   when(df[\"annee_constr\"].isNull(), lit(0)).otherwise(df[\"annee_constr\"]))\n"
   ]
  },
  {
   "cell_type": "markdown",
   "metadata": {},
   "source": [
    "## Feature engineering\n",
    "\n",
    "Les variables 'features_ext' et 'features_int' ne sont pas directement exploitables: elles représentent les aménagements exterieurs et interieurs des biens. Ces caractéristiques peuvent être différentes pour chaque logement, on décide donc de transformer un peu ces variables."
   ]
  },
  {
   "cell_type": "code",
   "execution_count": 62,
   "metadata": {},
   "outputs": [],
   "source": [
    "#on commence par nettoyer les colonnes features_ext et features_int\n",
    "df = df.withColumn(\"features_ext\", regexp_replace(\"features_ext\", \"\\n                       \\n                        \", \", \"))\n",
    "df = df.withColumn(\"features_int\", regexp_replace(\"features_int\", \"\\n                       \\n                        \", \", \"))"
   ]
  },
  {
   "cell_type": "code",
   "execution_count": 63,
   "metadata": {},
   "outputs": [
    {
     "name": "stdout",
     "output_type": "stream",
     "text": [
      "+--------------------------------+-----+\n",
      "|features_ext                    |count|\n",
      "+--------------------------------+-----+\n",
      "|                                |1009 |\n",
      "|1 place(s) ext.                 |21   |\n",
      "|1 place(s) int.                 |16   |\n",
      "|1 place(s) int., 1 place(s) ext.|5    |\n",
      "|1 place(s) int., 4 place(s) ext.|1    |\n",
      "|2 place(s) ext.                 |1    |\n",
      "|2 place(s) ext., Avec piscine   |2    |\n",
      "|2 place(s) int.                 |2    |\n",
      "|2 place(s) int., 2 place(s) ext.|1    |\n",
      "|3 place(s) int., Avec piscine   |1    |\n",
      "|31 place(s) ext.                |1    |\n",
      "|4 place(s) ext.                 |1    |\n",
      "|4 place(s) int.                 |1    |\n",
      "|4 place(s) int., Avec piscine   |1    |\n",
      "|Avec piscine                    |37   |\n",
      "+--------------------------------+-----+\n",
      "\n"
     ]
    }
   ],
   "source": [
    "#On regarde les valeurs uniques dans la colonne features_ext et les occurences de ces valeurs\n",
    "df.groupBy(\"features_ext\").count().sort(\"features_ext\").show(truncate=False)"
   ]
  },
  {
   "cell_type": "markdown",
   "metadata": {},
   "source": [
    "Pour la variable features_ext, on remarque que le grosse majorité des logements n'en a pas. Cette variable est reservée aux logements qui ont un espace exterieur, donc des logements plus chers. On peut creer des variables à partir de ces valeurs"
   ]
  },
  {
   "cell_type": "code",
   "execution_count": 64,
   "metadata": {},
   "outputs": [],
   "source": [
    "from pyspark.sql.functions import when, lit\n",
    "\n",
    "#on cree une variable \"piscine\"\n",
    "df = df.withColumn(\"piscine\", when(df[\"features_ext\"].contains(\"piscine\"), lit(1)).otherwise(lit(0)))"
   ]
  },
  {
   "cell_type": "code",
   "execution_count": 65,
   "metadata": {},
   "outputs": [],
   "source": [
    "#on cree une fonction qui nous permet de récuperer le nombre de features specifiques que contient le bien\n",
    "\n",
    "from pyspark.sql.types import IntegerType\n",
    "\n",
    "def extract_amount(value, substring):\n",
    "    if substring in value:\n",
    "        return int(value.split(substring)[0].strip().split(\" \")[-1]) #on extrait le chiffre precedant le feature qui nous interesse\n",
    "    else:\n",
    "        return 0\n",
    "\n",
    "udf_extract_amount = udf(extract_amount, IntegerType())\n"
   ]
  },
  {
   "cell_type": "code",
   "execution_count": 66,
   "metadata": {},
   "outputs": [],
   "source": [
    "#on applique la fonction à la variable \"parking_int\" que l'on veut creer a partir de la mention \"place(s) int.\" dans la colonne \"features_ext\"\n",
    "\n",
    "df = df.withColumn(\"parking_int\", udf_extract_amount(df['features_ext'], lit(\"place(s) int.\")))"
   ]
  },
  {
   "cell_type": "code",
   "execution_count": 67,
   "metadata": {},
   "outputs": [
    {
     "name": "stdout",
     "output_type": "stream",
     "text": [
      "+-----------+-----+\n",
      "|parking_int|count|\n",
      "+-----------+-----+\n",
      "|0          |1072 |\n",
      "|1          |22   |\n",
      "|2          |3    |\n",
      "|3          |1    |\n",
      "|4          |2    |\n",
      "+-----------+-----+\n",
      "\n"
     ]
    }
   ],
   "source": [
    "#on verifie que la fonction marche bien\n",
    "df.groupBy(\"parking_int\").count().sort(\"parking_int\").show(truncate=False) "
   ]
  },
  {
   "cell_type": "code",
   "execution_count": 68,
   "metadata": {},
   "outputs": [],
   "source": [
    "#meme principe pour les places de parking exterieures\n",
    "\n",
    "df = df.withColumn(\"parking_ext\", udf_extract_amount(df['features_ext'], lit(\"place(s) ext.\")))"
   ]
  },
  {
   "cell_type": "code",
   "execution_count": 69,
   "metadata": {},
   "outputs": [],
   "source": [
    "#on peut creer une seule variable 'parking', qui est l'addition des 2\n",
    "df = df.withColumn(\"place_parking\", col(\"parking_int\") + col(\"parking_ext\"))\n",
    "df = df.drop(\"parking_int\").drop(\"parking_ext\")\n"
   ]
  },
  {
   "cell_type": "code",
   "execution_count": 70,
   "metadata": {},
   "outputs": [
    {
     "data": {
      "text/html": [
       "<div>\n",
       "<style scoped>\n",
       "    .dataframe tbody tr th:only-of-type {\n",
       "        vertical-align: middle;\n",
       "    }\n",
       "\n",
       "    .dataframe tbody tr th {\n",
       "        vertical-align: top;\n",
       "    }\n",
       "\n",
       "    .dataframe thead th {\n",
       "        text-align: right;\n",
       "    }\n",
       "</style>\n",
       "<table border=\"1\" class=\"dataframe\">\n",
       "  <thead>\n",
       "    <tr style=\"text-align: right;\">\n",
       "      <th></th>\n",
       "      <th>nb_pieces</th>\n",
       "      <th>lien</th>\n",
       "      <th>titre</th>\n",
       "      <th>surface</th>\n",
       "      <th>nb_chambres</th>\n",
       "      <th>annee_constr</th>\n",
       "      <th>nb_features_int</th>\n",
       "      <th>features_int</th>\n",
       "      <th>features_ext</th>\n",
       "      <th>terrain</th>\n",
       "      <th>prix</th>\n",
       "      <th>type</th>\n",
       "      <th>villes</th>\n",
       "      <th>piscine</th>\n",
       "      <th>place_parking</th>\n",
       "    </tr>\n",
       "  </thead>\n",
       "  <tbody>\n",
       "    <tr>\n",
       "      <th>0</th>\n",
       "      <td>1.0</td>\n",
       "      <td>https://www.laforet.com/agence-immobiliere/par...</td>\n",
       "      <td>Appartement T1 Paris 15</td>\n",
       "      <td>10.0</td>\n",
       "      <td>1.0</td>\n",
       "      <td>NaN</td>\n",
       "      <td>2.0</td>\n",
       "      <td>Cuisine Kitchenet</td>\n",
       "      <td></td>\n",
       "      <td>0.0</td>\n",
       "      <td>99500.0</td>\n",
       "      <td>Appartement</td>\n",
       "      <td>Paris 15</td>\n",
       "      <td>0</td>\n",
       "      <td>0</td>\n",
       "    </tr>\n",
       "  </tbody>\n",
       "</table>\n",
       "</div>"
      ],
      "text/plain": [
       "   nb_pieces                                               lien  \\\n",
       "0        1.0  https://www.laforet.com/agence-immobiliere/par...   \n",
       "\n",
       "                     titre  surface  nb_chambres  annee_constr  \\\n",
       "0  Appartement T1 Paris 15     10.0          1.0           NaN   \n",
       "\n",
       "   nb_features_int       features_int features_ext  terrain     prix  \\\n",
       "0              2.0  Cuisine Kitchenet                   0.0  99500.0   \n",
       "\n",
       "          type    villes  piscine  place_parking  \n",
       "0  Appartement  Paris 15        0              0  "
      ]
     },
     "execution_count": 70,
     "metadata": {},
     "output_type": "execute_result"
    }
   ],
   "source": [
    "df.limit(1).toPandas()"
   ]
  },
  {
   "cell_type": "markdown",
   "metadata": {},
   "source": [
    "On passe maintenant au traitement de la colonne features_int"
   ]
  },
  {
   "cell_type": "code",
   "execution_count": 73,
   "metadata": {},
   "outputs": [
    {
     "data": {
      "text/html": [
       "<div>\n",
       "<style scoped>\n",
       "    .dataframe tbody tr th:only-of-type {\n",
       "        vertical-align: middle;\n",
       "    }\n",
       "\n",
       "    .dataframe tbody tr th {\n",
       "        vertical-align: top;\n",
       "    }\n",
       "\n",
       "    .dataframe thead th {\n",
       "        text-align: right;\n",
       "    }\n",
       "</style>\n",
       "<table border=\"1\" class=\"dataframe\">\n",
       "  <thead>\n",
       "    <tr style=\"text-align: right;\">\n",
       "      <th></th>\n",
       "      <th>features_int</th>\n",
       "      <th>count</th>\n",
       "    </tr>\n",
       "  </thead>\n",
       "  <tbody>\n",
       "    <tr>\n",
       "      <th>0</th>\n",
       "      <td></td>\n",
       "      <td>140</td>\n",
       "    </tr>\n",
       "    <tr>\n",
       "      <th>1</th>\n",
       "      <td>1 balcon(s)</td>\n",
       "      <td>6</td>\n",
       "    </tr>\n",
       "    <tr>\n",
       "      <th>2</th>\n",
       "      <td>1 balcon(s), 1 cave(s)</td>\n",
       "      <td>3</td>\n",
       "    </tr>\n",
       "    <tr>\n",
       "      <th>3</th>\n",
       "      <td>1 balcon(s), 1 cave(s), 2 garage(s)</td>\n",
       "      <td>1</td>\n",
       "    </tr>\n",
       "    <tr>\n",
       "      <th>4</th>\n",
       "      <td>1 balcon(s), 1 cave(s), Avec sous-sol, 1 garag...</td>\n",
       "      <td>4</td>\n",
       "    </tr>\n",
       "    <tr>\n",
       "      <th>...</th>\n",
       "      <td>...</td>\n",
       "      <td>...</td>\n",
       "    </tr>\n",
       "    <tr>\n",
       "      <th>95</th>\n",
       "      <td>Cuisine Amenagee/equipee, 1 balcon(s), 1 cave(s)</td>\n",
       "      <td>4</td>\n",
       "    </tr>\n",
       "    <tr>\n",
       "      <th>96</th>\n",
       "      <td>Cuisine Amenagee/equipee, 1 balcon(s), 1 cave(...</td>\n",
       "      <td>3</td>\n",
       "    </tr>\n",
       "    <tr>\n",
       "      <th>97</th>\n",
       "      <td>Cuisine Amenagee/equipee, 1 balcon(s), 1 terra...</td>\n",
       "      <td>1</td>\n",
       "    </tr>\n",
       "    <tr>\n",
       "      <th>98</th>\n",
       "      <td>Cuisine Amenagee/equipee, 1 balcon(s), 1 terra...</td>\n",
       "      <td>1</td>\n",
       "    </tr>\n",
       "    <tr>\n",
       "      <th>99</th>\n",
       "      <td>Cuisine Amenagee/equipee, 1 balcon(s), 1 terra...</td>\n",
       "      <td>1</td>\n",
       "    </tr>\n",
       "  </tbody>\n",
       "</table>\n",
       "<p>100 rows × 2 columns</p>\n",
       "</div>"
      ],
      "text/plain": [
       "                                         features_int  count\n",
       "0                                                        140\n",
       "1                                         1 balcon(s)      6\n",
       "2                              1 balcon(s), 1 cave(s)      3\n",
       "3                 1 balcon(s), 1 cave(s), 2 garage(s)      1\n",
       "4   1 balcon(s), 1 cave(s), Avec sous-sol, 1 garag...      4\n",
       "..                                                ...    ...\n",
       "95   Cuisine Amenagee/equipee, 1 balcon(s), 1 cave(s)      4\n",
       "96  Cuisine Amenagee/equipee, 1 balcon(s), 1 cave(...      3\n",
       "97  Cuisine Amenagee/equipee, 1 balcon(s), 1 terra...      1\n",
       "98  Cuisine Amenagee/equipee, 1 balcon(s), 1 terra...      1\n",
       "99  Cuisine Amenagee/equipee, 1 balcon(s), 1 terra...      1\n",
       "\n",
       "[100 rows x 2 columns]"
      ]
     },
     "execution_count": 73,
     "metadata": {},
     "output_type": "execute_result"
    }
   ],
   "source": [
    "features=df.groupBy(\"features_int\").count().sort(\"features_int\")\n",
    "features.limit(100).toPandas()"
   ]
  },
  {
   "cell_type": "markdown",
   "metadata": {},
   "source": [
    "On peut voir que la majorité des logements ont des aménagements interieurs mentionnés sur le site, un certain nombre de termes reviennent souvent, on peut donc en créer des variables"
   ]
  },
  {
   "cell_type": "code",
   "execution_count": 72,
   "metadata": {},
   "outputs": [],
   "source": [
    "#creation des variables binaires\n",
    "\n",
    "#on cree une variable \"cuisine_amenagee\"\n",
    "df = df.withColumn(\"cuisine_amenagee\", when(df[\"features_int\"].contains(\"Cuisine Amenagee\"), lit(1)).otherwise(lit(0)))\n",
    "\n",
    "#on cree une variable \"ascenseur\"\n",
    "df = df.withColumn(\"ascenseur\", when(df[\"features_int\"].contains(\"ascenseur\"), lit(1)).otherwise(lit(0)))\n",
    "\n",
    "#on cree une variable \"sous_sol\"\n",
    "df = df.withColumn(\"sous_sol\", when(df[\"features_int\"].contains(\"sous-sol\"), lit(1)).otherwise(lit(0)))"
   ]
  },
  {
   "cell_type": "code",
   "execution_count": 74,
   "metadata": {},
   "outputs": [],
   "source": [
    "#on cree des variables numeriques\n",
    "\n",
    "#on compte le nombre de balcons\n",
    "df = df.withColumn(\"balcons\", udf_extract_amount(df['features_int'], lit(\"balcon(s)\")))\n",
    "\n",
    "#on extrait le nombre de terrasses\n",
    "df = df.withColumn(\"terrasses\", udf_extract_amount(df['features_int'], lit(\"terrasse(s)\")))\n",
    "\n",
    "#on extrait le nombre de caves\n",
    "df = df.withColumn(\"caves\", udf_extract_amount(df['features_int'], lit(\"cave(s)\")))\n",
    "\n",
    "#on extrait le nombre de garages\n",
    "df = df.withColumn(\"garages\", udf_extract_amount(df['features_int'], lit(\"garage(s)\")))\n"
   ]
  },
  {
   "cell_type": "code",
   "execution_count": 77,
   "metadata": {},
   "outputs": [
    {
     "name": "stdout",
     "output_type": "stream",
     "text": [
      "+-------+-----+\n",
      "|garages|count|\n",
      "+-------+-----+\n",
      "|0      |878  |\n",
      "|1      |198  |\n",
      "|2      |22   |\n",
      "|3      |1    |\n",
      "|4      |1    |\n",
      "+-------+-----+\n",
      "\n"
     ]
    }
   ],
   "source": [
    "df.groupBy(\"garages\").count().sort(\"garages\").show(truncate=False) \n"
   ]
  },
  {
   "cell_type": "code",
   "execution_count": 89,
   "metadata": {},
   "outputs": [
    {
     "data": {
      "text/html": [
       "<div>\n",
       "<style scoped>\n",
       "    .dataframe tbody tr th:only-of-type {\n",
       "        vertical-align: middle;\n",
       "    }\n",
       "\n",
       "    .dataframe tbody tr th {\n",
       "        vertical-align: top;\n",
       "    }\n",
       "\n",
       "    .dataframe thead th {\n",
       "        text-align: right;\n",
       "    }\n",
       "</style>\n",
       "<table border=\"1\" class=\"dataframe\">\n",
       "  <thead>\n",
       "    <tr style=\"text-align: right;\">\n",
       "      <th></th>\n",
       "      <th>nb_pieces</th>\n",
       "      <th>lien</th>\n",
       "      <th>titre</th>\n",
       "      <th>surface</th>\n",
       "      <th>nb_chambres</th>\n",
       "      <th>annee_constr</th>\n",
       "      <th>nb_features_int</th>\n",
       "      <th>features_int</th>\n",
       "      <th>features_ext</th>\n",
       "      <th>terrain</th>\n",
       "      <th>...</th>\n",
       "      <th>villes</th>\n",
       "      <th>piscine</th>\n",
       "      <th>place_parking</th>\n",
       "      <th>cuisine_amenagee</th>\n",
       "      <th>ascenseur</th>\n",
       "      <th>sous_sol</th>\n",
       "      <th>balcons</th>\n",
       "      <th>terrasses</th>\n",
       "      <th>caves</th>\n",
       "      <th>garages</th>\n",
       "    </tr>\n",
       "  </thead>\n",
       "  <tbody>\n",
       "    <tr>\n",
       "      <th>0</th>\n",
       "      <td>1</td>\n",
       "      <td>https://www.laforet.com/agence-immobiliere/par...</td>\n",
       "      <td>Appartement T1 Paris 15</td>\n",
       "      <td>10</td>\n",
       "      <td>1</td>\n",
       "      <td>0</td>\n",
       "      <td>2</td>\n",
       "      <td>Cuisine Kitchenet</td>\n",
       "      <td></td>\n",
       "      <td>0</td>\n",
       "      <td>...</td>\n",
       "      <td>Paris 15</td>\n",
       "      <td>0</td>\n",
       "      <td>0</td>\n",
       "      <td>0</td>\n",
       "      <td>0</td>\n",
       "      <td>0</td>\n",
       "      <td>0</td>\n",
       "      <td>0</td>\n",
       "      <td>0</td>\n",
       "      <td>0</td>\n",
       "    </tr>\n",
       "  </tbody>\n",
       "</table>\n",
       "<p>1 rows × 22 columns</p>\n",
       "</div>"
      ],
      "text/plain": [
       "   nb_pieces                                               lien  \\\n",
       "0          1  https://www.laforet.com/agence-immobiliere/par...   \n",
       "\n",
       "                     titre  surface  nb_chambres  annee_constr  \\\n",
       "0  Appartement T1 Paris 15       10            1             0   \n",
       "\n",
       "   nb_features_int       features_int features_ext  terrain  ...    villes  \\\n",
       "0                2  Cuisine Kitchenet                     0  ...  Paris 15   \n",
       "\n",
       "  piscine place_parking  cuisine_amenagee  ascenseur  sous_sol  balcons  \\\n",
       "0       0             0                 0          0         0        0   \n",
       "\n",
       "   terrasses  caves  garages  \n",
       "0          0      0        0  \n",
       "\n",
       "[1 rows x 22 columns]"
      ]
     },
     "execution_count": 89,
     "metadata": {},
     "output_type": "execute_result"
    }
   ],
   "source": [
    "df.limit(1).toPandas()"
   ]
  },
  {
   "cell_type": "markdown",
   "metadata": {},
   "source": [
    "On peut a present voir les fréquences et statistiques descriptives de notre base"
   ]
  },
  {
   "cell_type": "code",
   "execution_count": 88,
   "metadata": {},
   "outputs": [],
   "source": [
    "# on change le type de certaine scolonne en float pour avoir une meilleur visualisation par la suite\n",
    "from pyspark.sql.types import IntegerType\n",
    "\n",
    "cols = ['prix', 'terrain', 'nb_features_int','annee_constr','nb_chambres','surface','nb_pieces']\n",
    "\n",
    "for col in cols:\n",
    "    df = df.withColumn(col, df[col].cast(IntegerType()))\n"
   ]
  },
  {
   "cell_type": "code",
   "execution_count": 90,
   "metadata": {},
   "outputs": [],
   "source": [
    "import pandas as pd\n",
    "pandas_df = df.toPandas()\n",
    "#pandas_df.to_parquet('Clean_data.parquet')\n",
    "pandas_df.to_csv(\"Clean_data.csv\", index=False)\n"
   ]
  }
 ],
 "metadata": {
  "kernelspec": {
   "display_name": "advanced_python",
   "language": "python",
   "name": "advanced_python"
  },
  "language_info": {
   "codemirror_mode": {
    "name": "ipython",
    "version": 3
   },
   "file_extension": ".py",
   "mimetype": "text/x-python",
   "name": "python",
   "nbconvert_exporter": "python",
   "pygments_lexer": "ipython3",
   "version": "3.9.12"
  },
  "orig_nbformat": 4,
  "vscode": {
   "interpreter": {
    "hash": "b583c5b94c8084b8cf47f5d75b5d0f2d58267411625bfbb02acfac9c9f20b633"
   }
  }
 },
 "nbformat": 4,
 "nbformat_minor": 2
}
