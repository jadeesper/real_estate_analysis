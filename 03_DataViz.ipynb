{
 "cells": [
  {
   "cell_type": "markdown",
   "metadata": {},
   "source": [
    "# Visualisation des données"
   ]
  },
  {
   "cell_type": "code",
   "execution_count": 4,
   "metadata": {},
   "outputs": [],
   "source": [
    "import pandas as pd\n",
    "import plotly.express as px\n"
   ]
  },
  {
   "cell_type": "code",
   "execution_count": 19,
   "metadata": {},
   "outputs": [],
   "source": [
    "data = pd.read_csv('Clean_data.csv')"
   ]
  },
  {
   "cell_type": "code",
   "execution_count": 47,
   "metadata": {},
   "outputs": [
    {
     "data": {
      "text/html": [
       "<div>\n",
       "<style scoped>\n",
       "    .dataframe tbody tr th:only-of-type {\n",
       "        vertical-align: middle;\n",
       "    }\n",
       "\n",
       "    .dataframe tbody tr th {\n",
       "        vertical-align: top;\n",
       "    }\n",
       "\n",
       "    .dataframe thead th {\n",
       "        text-align: right;\n",
       "    }\n",
       "</style>\n",
       "<table border=\"1\" class=\"dataframe\">\n",
       "  <thead>\n",
       "    <tr style=\"text-align: right;\">\n",
       "      <th></th>\n",
       "      <th>nb_pieces</th>\n",
       "      <th>lien</th>\n",
       "      <th>titre</th>\n",
       "      <th>surface</th>\n",
       "      <th>nb_chambres</th>\n",
       "      <th>annee_constr</th>\n",
       "      <th>nb_features_int</th>\n",
       "      <th>features_int</th>\n",
       "      <th>features_ext</th>\n",
       "      <th>terrain</th>\n",
       "      <th>...</th>\n",
       "      <th>piscine</th>\n",
       "      <th>place_parking</th>\n",
       "      <th>cuisine_amenagee</th>\n",
       "      <th>ascenseur</th>\n",
       "      <th>sous_sol</th>\n",
       "      <th>balcons</th>\n",
       "      <th>terrasses</th>\n",
       "      <th>caves</th>\n",
       "      <th>garages</th>\n",
       "      <th>nb_features_ext</th>\n",
       "    </tr>\n",
       "  </thead>\n",
       "  <tbody>\n",
       "    <tr>\n",
       "      <th>0</th>\n",
       "      <td>1</td>\n",
       "      <td>https://www.laforet.com/agence-immobiliere/par...</td>\n",
       "      <td>Appartement T1 Paris 15</td>\n",
       "      <td>10</td>\n",
       "      <td>1</td>\n",
       "      <td>0</td>\n",
       "      <td>2</td>\n",
       "      <td>Cuisine Kitchenet</td>\n",
       "      <td>NaN</td>\n",
       "      <td>0</td>\n",
       "      <td>...</td>\n",
       "      <td>0</td>\n",
       "      <td>0</td>\n",
       "      <td>0</td>\n",
       "      <td>0</td>\n",
       "      <td>0</td>\n",
       "      <td>0</td>\n",
       "      <td>0</td>\n",
       "      <td>0</td>\n",
       "      <td>0</td>\n",
       "      <td>0</td>\n",
       "    </tr>\n",
       "    <tr>\n",
       "      <th>1</th>\n",
       "      <td>1</td>\n",
       "      <td>https://www.laforet.com/agence-immobiliere/par...</td>\n",
       "      <td>Appartement T1 Paris 18</td>\n",
       "      <td>25</td>\n",
       "      <td>1</td>\n",
       "      <td>0</td>\n",
       "      <td>4</td>\n",
       "      <td>Cuisine Ouverte, 1 cave(s)</td>\n",
       "      <td>NaN</td>\n",
       "      <td>0</td>\n",
       "      <td>...</td>\n",
       "      <td>0</td>\n",
       "      <td>0</td>\n",
       "      <td>0</td>\n",
       "      <td>0</td>\n",
       "      <td>0</td>\n",
       "      <td>0</td>\n",
       "      <td>0</td>\n",
       "      <td>1</td>\n",
       "      <td>0</td>\n",
       "      <td>0</td>\n",
       "    </tr>\n",
       "    <tr>\n",
       "      <th>2</th>\n",
       "      <td>1</td>\n",
       "      <td>https://www.laforet.com/agence-immobiliere/par...</td>\n",
       "      <td>Appartement T1 Boulogne-Billancourt</td>\n",
       "      <td>12</td>\n",
       "      <td>1</td>\n",
       "      <td>0</td>\n",
       "      <td>4</td>\n",
       "      <td>Cuisine Kitchenet, Avec ascenseur</td>\n",
       "      <td>NaN</td>\n",
       "      <td>0</td>\n",
       "      <td>...</td>\n",
       "      <td>0</td>\n",
       "      <td>0</td>\n",
       "      <td>0</td>\n",
       "      <td>1</td>\n",
       "      <td>0</td>\n",
       "      <td>0</td>\n",
       "      <td>0</td>\n",
       "      <td>0</td>\n",
       "      <td>0</td>\n",
       "      <td>0</td>\n",
       "    </tr>\n",
       "    <tr>\n",
       "      <th>3</th>\n",
       "      <td>3</td>\n",
       "      <td>https://www.laforet.com/agence-immobiliere/dij...</td>\n",
       "      <td>Appartement T3 Dijon</td>\n",
       "      <td>65</td>\n",
       "      <td>2</td>\n",
       "      <td>2005</td>\n",
       "      <td>10</td>\n",
       "      <td>Cuisine Nue, Avec ascenseur, 1 terrasse(s), 1 ...</td>\n",
       "      <td>NaN</td>\n",
       "      <td>1</td>\n",
       "      <td>...</td>\n",
       "      <td>0</td>\n",
       "      <td>0</td>\n",
       "      <td>0</td>\n",
       "      <td>1</td>\n",
       "      <td>1</td>\n",
       "      <td>0</td>\n",
       "      <td>1</td>\n",
       "      <td>1</td>\n",
       "      <td>0</td>\n",
       "      <td>0</td>\n",
       "    </tr>\n",
       "    <tr>\n",
       "      <th>4</th>\n",
       "      <td>1</td>\n",
       "      <td>https://www.laforet.com/agence-immobiliere/par...</td>\n",
       "      <td>Appartement T1 Paris 11</td>\n",
       "      <td>15</td>\n",
       "      <td>1</td>\n",
       "      <td>0</td>\n",
       "      <td>2</td>\n",
       "      <td>Cuisine Kitchenet</td>\n",
       "      <td>NaN</td>\n",
       "      <td>0</td>\n",
       "      <td>...</td>\n",
       "      <td>0</td>\n",
       "      <td>0</td>\n",
       "      <td>0</td>\n",
       "      <td>0</td>\n",
       "      <td>0</td>\n",
       "      <td>0</td>\n",
       "      <td>0</td>\n",
       "      <td>0</td>\n",
       "      <td>0</td>\n",
       "      <td>0</td>\n",
       "    </tr>\n",
       "  </tbody>\n",
       "</table>\n",
       "<p>5 rows × 23 columns</p>\n",
       "</div>"
      ],
      "text/plain": [
       "   nb_pieces                                               lien  \\\n",
       "0          1  https://www.laforet.com/agence-immobiliere/par...   \n",
       "1          1  https://www.laforet.com/agence-immobiliere/par...   \n",
       "2          1  https://www.laforet.com/agence-immobiliere/par...   \n",
       "3          3  https://www.laforet.com/agence-immobiliere/dij...   \n",
       "4          1  https://www.laforet.com/agence-immobiliere/par...   \n",
       "\n",
       "                                 titre  surface  nb_chambres  annee_constr  \\\n",
       "0              Appartement T1 Paris 15       10            1             0   \n",
       "1              Appartement T1 Paris 18       25            1             0   \n",
       "2  Appartement T1 Boulogne-Billancourt       12            1             0   \n",
       "3                 Appartement T3 Dijon       65            2          2005   \n",
       "4              Appartement T1 Paris 11       15            1             0   \n",
       "\n",
       "   nb_features_int                                       features_int  \\\n",
       "0                2                                  Cuisine Kitchenet   \n",
       "1                4                         Cuisine Ouverte, 1 cave(s)   \n",
       "2                4                  Cuisine Kitchenet, Avec ascenseur   \n",
       "3               10  Cuisine Nue, Avec ascenseur, 1 terrasse(s), 1 ...   \n",
       "4                2                                  Cuisine Kitchenet   \n",
       "\n",
       "  features_ext  terrain  ...  piscine place_parking cuisine_amenagee  \\\n",
       "0          NaN        0  ...        0             0                0   \n",
       "1          NaN        0  ...        0             0                0   \n",
       "2          NaN        0  ...        0             0                0   \n",
       "3          NaN        1  ...        0             0                0   \n",
       "4          NaN        0  ...        0             0                0   \n",
       "\n",
       "   ascenseur  sous_sol  balcons  terrasses  caves  garages  nb_features_ext  \n",
       "0          0         0        0          0      0        0                0  \n",
       "1          0         0        0          0      1        0                0  \n",
       "2          1         0        0          0      0        0                0  \n",
       "3          1         1        0          1      1        0                0  \n",
       "4          0         0        0          0      0        0                0  \n",
       "\n",
       "[5 rows x 23 columns]"
      ]
     },
     "execution_count": 47,
     "metadata": {},
     "output_type": "execute_result"
    }
   ],
   "source": [
    "data.head()"
   ]
  },
  {
   "cell_type": "markdown",
   "metadata": {},
   "source": [
    "### On regarde les logements selon leur type"
   ]
  },
  {
   "cell_type": "code",
   "execution_count": 10,
   "metadata": {},
   "outputs": [
    {
     "data": {
      "application/vnd.plotly.v1+json": {
       "config": {
        "plotlyServerURL": "https://plot.ly"
       },
       "data": [
        {
         "alignmentgroup": "True",
         "hovertemplate": "index=%{x}<br>y=%{y}<br>text=%{text}<br>type=%{marker.color}<extra></extra>",
         "legendgroup": "",
         "marker": {
          "color": [
           687,
           412,
           1
          ],
          "coloraxis": "coloraxis",
          "pattern": {
           "shape": ""
          }
         },
         "name": "",
         "offsetgroup": "",
         "orientation": "v",
         "showlegend": false,
         "text": [
          687,
          412,
          1
         ],
         "textposition": "auto",
         "type": "bar",
         "x": [
          "Appartement",
          "Maison",
          "Loft"
         ],
         "xaxis": "x",
         "y": [
          687,
          412,
          1
         ],
         "yaxis": "y"
        }
       ],
       "layout": {
        "barmode": "relative",
        "coloraxis": {
         "colorbar": {
          "title": {
           "text": "type"
          }
         },
         "colorscale": [
          [
           0,
           "#0d0887"
          ],
          [
           0.1111111111111111,
           "#46039f"
          ],
          [
           0.2222222222222222,
           "#7201a8"
          ],
          [
           0.3333333333333333,
           "#9c179e"
          ],
          [
           0.4444444444444444,
           "#bd3786"
          ],
          [
           0.5555555555555556,
           "#d8576b"
          ],
          [
           0.6666666666666666,
           "#ed7953"
          ],
          [
           0.7777777777777778,
           "#fb9f3a"
          ],
          [
           0.8888888888888888,
           "#fdca26"
          ],
          [
           1,
           "#f0f921"
          ]
         ]
        },
        "legend": {
         "tracegroupgap": 0
        },
        "margin": {
         "t": 60
        },
        "template": {
         "data": {
          "bar": [
           {
            "error_x": {
             "color": "#2a3f5f"
            },
            "error_y": {
             "color": "#2a3f5f"
            },
            "marker": {
             "line": {
              "color": "#E5ECF6",
              "width": 0.5
             },
             "pattern": {
              "fillmode": "overlay",
              "size": 10,
              "solidity": 0.2
             }
            },
            "type": "bar"
           }
          ],
          "barpolar": [
           {
            "marker": {
             "line": {
              "color": "#E5ECF6",
              "width": 0.5
             },
             "pattern": {
              "fillmode": "overlay",
              "size": 10,
              "solidity": 0.2
             }
            },
            "type": "barpolar"
           }
          ],
          "carpet": [
           {
            "aaxis": {
             "endlinecolor": "#2a3f5f",
             "gridcolor": "white",
             "linecolor": "white",
             "minorgridcolor": "white",
             "startlinecolor": "#2a3f5f"
            },
            "baxis": {
             "endlinecolor": "#2a3f5f",
             "gridcolor": "white",
             "linecolor": "white",
             "minorgridcolor": "white",
             "startlinecolor": "#2a3f5f"
            },
            "type": "carpet"
           }
          ],
          "choropleth": [
           {
            "colorbar": {
             "outlinewidth": 0,
             "ticks": ""
            },
            "type": "choropleth"
           }
          ],
          "contour": [
           {
            "colorbar": {
             "outlinewidth": 0,
             "ticks": ""
            },
            "colorscale": [
             [
              0,
              "#0d0887"
             ],
             [
              0.1111111111111111,
              "#46039f"
             ],
             [
              0.2222222222222222,
              "#7201a8"
             ],
             [
              0.3333333333333333,
              "#9c179e"
             ],
             [
              0.4444444444444444,
              "#bd3786"
             ],
             [
              0.5555555555555556,
              "#d8576b"
             ],
             [
              0.6666666666666666,
              "#ed7953"
             ],
             [
              0.7777777777777778,
              "#fb9f3a"
             ],
             [
              0.8888888888888888,
              "#fdca26"
             ],
             [
              1,
              "#f0f921"
             ]
            ],
            "type": "contour"
           }
          ],
          "contourcarpet": [
           {
            "colorbar": {
             "outlinewidth": 0,
             "ticks": ""
            },
            "type": "contourcarpet"
           }
          ],
          "heatmap": [
           {
            "colorbar": {
             "outlinewidth": 0,
             "ticks": ""
            },
            "colorscale": [
             [
              0,
              "#0d0887"
             ],
             [
              0.1111111111111111,
              "#46039f"
             ],
             [
              0.2222222222222222,
              "#7201a8"
             ],
             [
              0.3333333333333333,
              "#9c179e"
             ],
             [
              0.4444444444444444,
              "#bd3786"
             ],
             [
              0.5555555555555556,
              "#d8576b"
             ],
             [
              0.6666666666666666,
              "#ed7953"
             ],
             [
              0.7777777777777778,
              "#fb9f3a"
             ],
             [
              0.8888888888888888,
              "#fdca26"
             ],
             [
              1,
              "#f0f921"
             ]
            ],
            "type": "heatmap"
           }
          ],
          "heatmapgl": [
           {
            "colorbar": {
             "outlinewidth": 0,
             "ticks": ""
            },
            "colorscale": [
             [
              0,
              "#0d0887"
             ],
             [
              0.1111111111111111,
              "#46039f"
             ],
             [
              0.2222222222222222,
              "#7201a8"
             ],
             [
              0.3333333333333333,
              "#9c179e"
             ],
             [
              0.4444444444444444,
              "#bd3786"
             ],
             [
              0.5555555555555556,
              "#d8576b"
             ],
             [
              0.6666666666666666,
              "#ed7953"
             ],
             [
              0.7777777777777778,
              "#fb9f3a"
             ],
             [
              0.8888888888888888,
              "#fdca26"
             ],
             [
              1,
              "#f0f921"
             ]
            ],
            "type": "heatmapgl"
           }
          ],
          "histogram": [
           {
            "marker": {
             "pattern": {
              "fillmode": "overlay",
              "size": 10,
              "solidity": 0.2
             }
            },
            "type": "histogram"
           }
          ],
          "histogram2d": [
           {
            "colorbar": {
             "outlinewidth": 0,
             "ticks": ""
            },
            "colorscale": [
             [
              0,
              "#0d0887"
             ],
             [
              0.1111111111111111,
              "#46039f"
             ],
             [
              0.2222222222222222,
              "#7201a8"
             ],
             [
              0.3333333333333333,
              "#9c179e"
             ],
             [
              0.4444444444444444,
              "#bd3786"
             ],
             [
              0.5555555555555556,
              "#d8576b"
             ],
             [
              0.6666666666666666,
              "#ed7953"
             ],
             [
              0.7777777777777778,
              "#fb9f3a"
             ],
             [
              0.8888888888888888,
              "#fdca26"
             ],
             [
              1,
              "#f0f921"
             ]
            ],
            "type": "histogram2d"
           }
          ],
          "histogram2dcontour": [
           {
            "colorbar": {
             "outlinewidth": 0,
             "ticks": ""
            },
            "colorscale": [
             [
              0,
              "#0d0887"
             ],
             [
              0.1111111111111111,
              "#46039f"
             ],
             [
              0.2222222222222222,
              "#7201a8"
             ],
             [
              0.3333333333333333,
              "#9c179e"
             ],
             [
              0.4444444444444444,
              "#bd3786"
             ],
             [
              0.5555555555555556,
              "#d8576b"
             ],
             [
              0.6666666666666666,
              "#ed7953"
             ],
             [
              0.7777777777777778,
              "#fb9f3a"
             ],
             [
              0.8888888888888888,
              "#fdca26"
             ],
             [
              1,
              "#f0f921"
             ]
            ],
            "type": "histogram2dcontour"
           }
          ],
          "mesh3d": [
           {
            "colorbar": {
             "outlinewidth": 0,
             "ticks": ""
            },
            "type": "mesh3d"
           }
          ],
          "parcoords": [
           {
            "line": {
             "colorbar": {
              "outlinewidth": 0,
              "ticks": ""
             }
            },
            "type": "parcoords"
           }
          ],
          "pie": [
           {
            "automargin": true,
            "type": "pie"
           }
          ],
          "scatter": [
           {
            "fillpattern": {
             "fillmode": "overlay",
             "size": 10,
             "solidity": 0.2
            },
            "type": "scatter"
           }
          ],
          "scatter3d": [
           {
            "line": {
             "colorbar": {
              "outlinewidth": 0,
              "ticks": ""
             }
            },
            "marker": {
             "colorbar": {
              "outlinewidth": 0,
              "ticks": ""
             }
            },
            "type": "scatter3d"
           }
          ],
          "scattercarpet": [
           {
            "marker": {
             "colorbar": {
              "outlinewidth": 0,
              "ticks": ""
             }
            },
            "type": "scattercarpet"
           }
          ],
          "scattergeo": [
           {
            "marker": {
             "colorbar": {
              "outlinewidth": 0,
              "ticks": ""
             }
            },
            "type": "scattergeo"
           }
          ],
          "scattergl": [
           {
            "marker": {
             "colorbar": {
              "outlinewidth": 0,
              "ticks": ""
             }
            },
            "type": "scattergl"
           }
          ],
          "scattermapbox": [
           {
            "marker": {
             "colorbar": {
              "outlinewidth": 0,
              "ticks": ""
             }
            },
            "type": "scattermapbox"
           }
          ],
          "scatterpolar": [
           {
            "marker": {
             "colorbar": {
              "outlinewidth": 0,
              "ticks": ""
             }
            },
            "type": "scatterpolar"
           }
          ],
          "scatterpolargl": [
           {
            "marker": {
             "colorbar": {
              "outlinewidth": 0,
              "ticks": ""
             }
            },
            "type": "scatterpolargl"
           }
          ],
          "scatterternary": [
           {
            "marker": {
             "colorbar": {
              "outlinewidth": 0,
              "ticks": ""
             }
            },
            "type": "scatterternary"
           }
          ],
          "surface": [
           {
            "colorbar": {
             "outlinewidth": 0,
             "ticks": ""
            },
            "colorscale": [
             [
              0,
              "#0d0887"
             ],
             [
              0.1111111111111111,
              "#46039f"
             ],
             [
              0.2222222222222222,
              "#7201a8"
             ],
             [
              0.3333333333333333,
              "#9c179e"
             ],
             [
              0.4444444444444444,
              "#bd3786"
             ],
             [
              0.5555555555555556,
              "#d8576b"
             ],
             [
              0.6666666666666666,
              "#ed7953"
             ],
             [
              0.7777777777777778,
              "#fb9f3a"
             ],
             [
              0.8888888888888888,
              "#fdca26"
             ],
             [
              1,
              "#f0f921"
             ]
            ],
            "type": "surface"
           }
          ],
          "table": [
           {
            "cells": {
             "fill": {
              "color": "#EBF0F8"
             },
             "line": {
              "color": "white"
             }
            },
            "header": {
             "fill": {
              "color": "#C8D4E3"
             },
             "line": {
              "color": "white"
             }
            },
            "type": "table"
           }
          ]
         },
         "layout": {
          "annotationdefaults": {
           "arrowcolor": "#2a3f5f",
           "arrowhead": 0,
           "arrowwidth": 1
          },
          "autotypenumbers": "strict",
          "coloraxis": {
           "colorbar": {
            "outlinewidth": 0,
            "ticks": ""
           }
          },
          "colorscale": {
           "diverging": [
            [
             0,
             "#8e0152"
            ],
            [
             0.1,
             "#c51b7d"
            ],
            [
             0.2,
             "#de77ae"
            ],
            [
             0.3,
             "#f1b6da"
            ],
            [
             0.4,
             "#fde0ef"
            ],
            [
             0.5,
             "#f7f7f7"
            ],
            [
             0.6,
             "#e6f5d0"
            ],
            [
             0.7,
             "#b8e186"
            ],
            [
             0.8,
             "#7fbc41"
            ],
            [
             0.9,
             "#4d9221"
            ],
            [
             1,
             "#276419"
            ]
           ],
           "sequential": [
            [
             0,
             "#0d0887"
            ],
            [
             0.1111111111111111,
             "#46039f"
            ],
            [
             0.2222222222222222,
             "#7201a8"
            ],
            [
             0.3333333333333333,
             "#9c179e"
            ],
            [
             0.4444444444444444,
             "#bd3786"
            ],
            [
             0.5555555555555556,
             "#d8576b"
            ],
            [
             0.6666666666666666,
             "#ed7953"
            ],
            [
             0.7777777777777778,
             "#fb9f3a"
            ],
            [
             0.8888888888888888,
             "#fdca26"
            ],
            [
             1,
             "#f0f921"
            ]
           ],
           "sequentialminus": [
            [
             0,
             "#0d0887"
            ],
            [
             0.1111111111111111,
             "#46039f"
            ],
            [
             0.2222222222222222,
             "#7201a8"
            ],
            [
             0.3333333333333333,
             "#9c179e"
            ],
            [
             0.4444444444444444,
             "#bd3786"
            ],
            [
             0.5555555555555556,
             "#d8576b"
            ],
            [
             0.6666666666666666,
             "#ed7953"
            ],
            [
             0.7777777777777778,
             "#fb9f3a"
            ],
            [
             0.8888888888888888,
             "#fdca26"
            ],
            [
             1,
             "#f0f921"
            ]
           ]
          },
          "colorway": [
           "#636efa",
           "#EF553B",
           "#00cc96",
           "#ab63fa",
           "#FFA15A",
           "#19d3f3",
           "#FF6692",
           "#B6E880",
           "#FF97FF",
           "#FECB52"
          ],
          "font": {
           "color": "#2a3f5f"
          },
          "geo": {
           "bgcolor": "white",
           "lakecolor": "white",
           "landcolor": "#E5ECF6",
           "showlakes": true,
           "showland": true,
           "subunitcolor": "white"
          },
          "hoverlabel": {
           "align": "left"
          },
          "hovermode": "closest",
          "mapbox": {
           "style": "light"
          },
          "paper_bgcolor": "white",
          "plot_bgcolor": "#E5ECF6",
          "polar": {
           "angularaxis": {
            "gridcolor": "white",
            "linecolor": "white",
            "ticks": ""
           },
           "bgcolor": "#E5ECF6",
           "radialaxis": {
            "gridcolor": "white",
            "linecolor": "white",
            "ticks": ""
           }
          },
          "scene": {
           "xaxis": {
            "backgroundcolor": "#E5ECF6",
            "gridcolor": "white",
            "gridwidth": 2,
            "linecolor": "white",
            "showbackground": true,
            "ticks": "",
            "zerolinecolor": "white"
           },
           "yaxis": {
            "backgroundcolor": "#E5ECF6",
            "gridcolor": "white",
            "gridwidth": 2,
            "linecolor": "white",
            "showbackground": true,
            "ticks": "",
            "zerolinecolor": "white"
           },
           "zaxis": {
            "backgroundcolor": "#E5ECF6",
            "gridcolor": "white",
            "gridwidth": 2,
            "linecolor": "white",
            "showbackground": true,
            "ticks": "",
            "zerolinecolor": "white"
           }
          },
          "shapedefaults": {
           "line": {
            "color": "#2a3f5f"
           }
          },
          "ternary": {
           "aaxis": {
            "gridcolor": "white",
            "linecolor": "white",
            "ticks": ""
           },
           "baxis": {
            "gridcolor": "white",
            "linecolor": "white",
            "ticks": ""
           },
           "bgcolor": "#E5ECF6",
           "caxis": {
            "gridcolor": "white",
            "linecolor": "white",
            "ticks": ""
           }
          },
          "title": {
           "x": 0.05
          },
          "xaxis": {
           "automargin": true,
           "gridcolor": "white",
           "linecolor": "white",
           "ticks": "",
           "title": {
            "standoff": 15
           },
           "zerolinecolor": "white",
           "zerolinewidth": 2
          },
          "yaxis": {
           "automargin": true,
           "gridcolor": "white",
           "linecolor": "white",
           "ticks": "",
           "title": {
            "standoff": 15
           },
           "zerolinecolor": "white",
           "zerolinewidth": 2
          }
         }
        },
        "title": {
         "text": "Comptage pour chaque type de logement"
        },
        "xaxis": {
         "anchor": "y",
         "domain": [
          0,
          1
         ],
         "title": {
          "text": "index"
         }
        },
        "yaxis": {
         "anchor": "x",
         "domain": [
          0,
          1
         ],
         "title": {
          "text": "y"
         }
        }
       }
      }
     },
     "metadata": {},
     "output_type": "display_data"
    }
   ],
   "source": [
    "\n",
    "# On fait un graphique pour avoir le nombre de logements en fonction de leur type\n",
    "counts = data['type'].value_counts()\n",
    "fig = px.bar(counts, x=counts.index, y=counts.values, text=counts.values, color='type')\n",
    "fig.update_layout(title='Comptage pour chaque type de logement')\n",
    "fig.show()\n",
    "\n"
   ]
  },
  {
   "cell_type": "markdown",
   "metadata": {},
   "source": [
    "### On analyse les logements et leur prix"
   ]
  },
  {
   "cell_type": "code",
   "execution_count": 76,
   "metadata": {},
   "outputs": [
    {
     "data": {
      "application/vnd.plotly.v1+json": {
       "config": {
        "plotlyServerURL": "https://plot.ly"
       },
       "data": [
        {
         "hovertemplate": "surface=%{x}<br>prix=%{y}<extra></extra>",
         "legendgroup": "",
         "marker": {
          "color": "#636efa",
          "symbol": "circle"
         },
         "mode": "markers",
         "name": "",
         "showlegend": false,
         "type": "scattergl",
         "x": [
          10,
          25,
          12,
          65,
          15,
          75,
          29,
          57,
          76,
          156,
          118,
          92,
          69,
          79,
          43,
          38,
          102,
          69,
          69,
          50,
          76,
          79,
          66,
          42,
          9,
          145,
          37,
          33,
          82,
          27,
          32,
          90,
          193,
          92,
          112,
          49,
          70,
          64,
          135,
          48,
          74,
          54,
          56,
          44,
          47,
          22,
          19,
          68,
          60,
          40,
          61,
          77,
          113,
          40,
          45,
          37,
          36,
          32,
          29,
          31,
          23,
          34,
          17,
          6,
          23,
          20,
          59,
          84,
          87,
          124,
          86,
          93,
          132,
          70,
          25,
          19,
          160,
          104,
          91,
          80,
          82,
          16,
          22,
          82,
          113,
          114,
          32,
          47,
          76,
          161,
          190,
          68,
          78,
          72,
          100,
          22,
          77,
          145,
          27,
          76,
          30,
          150,
          100,
          147,
          120,
          123,
          105,
          54,
          110,
          132,
          61,
          95,
          85,
          37,
          65,
          132,
          80,
          48,
          99,
          70,
          44,
          54,
          44,
          47,
          90,
          120,
          111,
          155,
          65,
          80,
          77,
          49,
          173,
          46,
          75,
          32,
          8,
          90,
          60,
          25,
          43,
          52,
          99,
          75,
          39,
          70,
          60,
          60,
          24,
          79,
          102,
          107,
          62,
          96,
          76,
          78,
          73,
          55,
          178,
          31,
          171,
          21,
          130,
          108,
          156,
          210,
          43,
          112,
          25,
          128,
          170,
          45,
          14,
          40,
          79,
          62,
          84,
          90,
          77,
          180,
          78,
          53,
          51,
          72,
          110,
          25,
          75,
          93,
          66,
          101,
          150,
          46,
          150,
          75,
          34,
          31,
          72,
          63,
          35,
          58,
          50,
          69,
          53,
          31,
          34,
          23,
          135,
          135,
          49,
          80,
          150,
          80,
          74,
          22,
          52,
          55,
          46,
          34,
          70,
          31,
          31,
          14,
          14,
          70,
          74,
          64,
          90,
          56,
          110,
          33,
          37,
          115,
          100,
          100,
          200,
          40,
          41,
          42,
          29,
          120,
          77,
          117,
          99,
          132,
          43,
          48,
          31,
          39,
          48,
          64,
          64,
          27,
          20,
          13,
          12,
          47,
          91,
          91,
          193,
          64,
          104,
          102,
          108,
          37,
          28,
          19,
          120,
          90,
          92,
          54,
          28,
          90,
          85,
          53,
          20,
          59,
          74,
          56,
          156,
          118,
          43,
          70,
          177,
          29,
          177,
          123,
          76,
          140,
          70,
          19,
          23,
          57,
          62,
          62,
          180,
          54,
          68,
          83,
          178,
          87,
          20,
          19,
          124,
          38,
          58,
          96,
          31,
          44,
          73,
          62,
          115,
          81,
          92,
          54,
          82,
          99,
          167,
          290,
          134,
          114,
          230,
          33,
          97,
          167,
          38,
          52,
          70,
          36,
          50,
          27,
          44,
          101,
          56,
          135,
          22,
          82,
          168,
          98,
          171,
          140,
          145,
          67,
          45,
          160,
          86,
          63,
          166,
          130,
          47,
          98,
          174,
          87,
          63,
          42,
          25,
          96,
          91,
          47,
          15,
          82,
          109,
          85,
          52,
          94,
          47,
          52,
          145,
          136,
          95,
          92,
          50,
          69,
          116,
          113,
          59,
          27,
          125,
          88,
          48,
          131,
          94,
          86,
          110,
          8,
          130,
          90,
          159,
          53,
          121,
          85,
          73,
          38,
          61,
          43,
          130,
          183,
          127,
          156,
          32,
          104,
          104,
          62,
          80,
          56,
          105,
          92,
          20,
          110,
          120,
          118,
          135,
          120,
          78,
          60,
          43,
          30,
          152,
          182,
          65,
          49,
          63,
          88,
          128,
          36,
          69,
          25,
          51,
          110,
          135,
          108,
          21,
          20,
          74,
          131,
          38,
          107,
          55,
          67,
          65,
          96,
          210,
          27,
          34,
          90,
          27,
          86,
          77,
          102,
          49,
          31,
          145,
          69,
          92,
          92,
          67,
          130,
          24,
          58,
          68,
          183,
          70,
          56,
          134,
          53,
          59,
          105,
          85,
          68,
          41,
          171,
          125,
          110,
          103,
          86,
          74,
          78,
          89,
          89,
          110,
          83,
          95,
          98,
          19,
          24,
          42,
          19,
          60,
          110,
          80,
          60,
          98,
          177,
          50,
          50,
          106,
          140,
          200,
          120,
          98,
          87,
          211,
          17,
          122,
          52,
          26,
          56,
          77,
          77,
          77,
          63,
          60,
          84,
          83,
          33,
          92,
          68,
          74,
          56,
          61,
          45,
          44,
          14,
          52,
          52,
          61,
          20,
          27,
          111,
          74,
          63,
          42,
          38,
          106,
          28,
          50,
          75,
          114,
          31,
          85,
          95,
          60,
          29,
          74,
          84,
          102,
          64,
          32,
          41,
          131,
          140,
          83,
          159,
          72,
          112,
          37,
          105,
          12,
          21,
          293,
          41,
          53,
          89,
          44,
          85,
          63,
          93,
          69,
          25,
          32,
          19,
          44,
          66,
          152,
          25,
          160,
          74,
          98,
          182,
          126,
          35,
          54,
          150,
          173,
          42,
          120,
          46,
          115,
          92,
          245,
          132,
          130,
          140,
          119,
          74,
          62,
          88,
          64,
          46,
          68,
          53,
          38,
          48,
          80,
          19,
          64,
          67,
          52,
          66,
          91,
          12,
          37,
          96,
          68,
          73,
          100,
          85,
          83,
          86,
          54,
          51,
          90,
          100,
          118,
          170,
          81,
          104,
          140,
          86,
          44,
          65,
          31,
          43,
          123,
          64,
          130,
          168,
          160,
          10,
          240,
          60,
          58,
          90,
          10,
          156,
          106,
          64,
          52,
          200,
          70,
          33,
          59,
          57,
          125,
          101,
          75,
          80,
          29,
          25,
          14,
          53,
          297,
          125,
          70,
          107,
          68,
          20,
          55,
          78,
          230,
          51,
          77,
          144,
          40,
          79,
          42,
          102,
          34,
          21,
          22,
          28,
          160,
          14,
          140,
          40,
          26,
          38,
          74,
          34,
          82,
          90,
          96,
          60,
          156,
          38,
          50,
          86,
          75,
          137,
          119,
          46,
          71,
          102,
          44,
          90,
          96,
          157,
          29,
          142,
          76,
          53,
          158,
          50,
          151,
          41,
          97,
          49,
          80,
          43,
          80,
          24,
          23,
          18,
          12,
          60,
          26,
          26,
          150,
          150,
          165,
          86,
          123,
          56,
          62,
          43,
          23,
          234,
          119,
          116,
          64,
          97,
          53,
          121,
          105,
          105,
          76,
          247,
          67,
          138,
          63,
          22,
          26,
          125,
          140,
          86,
          55,
          27,
          93,
          31,
          50,
          38,
          51,
          67,
          98,
          43,
          181,
          80,
          56,
          107,
          53,
          44,
          76,
          73,
          34,
          93,
          53,
          111,
          60,
          110,
          60,
          72,
          36,
          65,
          47,
          48,
          48,
          116,
          52,
          53,
          60,
          60,
          54,
          103,
          126,
          43,
          52,
          64,
          64,
          125,
          84,
          51,
          66,
          54,
          41,
          40,
          36,
          215,
          41,
          190,
          37,
          13,
          67,
          78,
          58,
          62,
          68,
          59,
          29,
          108,
          113,
          67,
          65,
          66,
          85,
          42,
          79,
          75,
          65,
          159,
          51,
          82,
          35,
          180,
          22,
          29,
          81,
          25,
          73,
          200,
          70,
          45,
          34,
          64,
          105,
          59,
          32,
          20,
          86,
          57,
          86,
          84,
          21,
          140,
          87,
          117,
          84,
          75,
          40,
          34,
          106,
          23,
          122,
          31,
          117,
          94,
          140,
          25,
          16,
          101,
          207,
          125,
          60,
          104,
          33,
          47,
          85,
          90,
          14,
          167,
          145,
          124,
          100,
          18,
          100,
          18,
          53,
          70,
          48,
          64,
          97,
          116,
          58,
          58,
          68,
          58,
          105,
          90,
          86,
          102,
          16,
          48,
          68,
          110,
          44,
          150,
          75,
          67,
          48,
          28,
          74,
          100,
          92,
          86,
          116,
          39,
          100,
          124,
          82,
          29,
          92,
          69,
          54,
          92,
          92,
          92,
          45,
          99,
          143,
          75,
          73,
          28,
          62,
          110,
          75,
          31,
          79,
          71,
          26,
          49,
          87,
          154,
          80,
          138,
          57,
          87,
          55,
          155,
          48,
          142,
          104,
          93,
          80,
          67,
          157,
          51,
          21,
          125,
          67,
          36,
          72,
          76,
          42,
          55,
          132,
          103,
          130,
          61,
          70,
          84,
          105,
          455,
          45,
          455,
          93,
          66,
          70,
          73,
          156,
          18,
          62,
          73,
          45,
          24,
          67,
          120,
          103,
          45,
          96,
          170,
          30,
          81,
          45,
          96,
          54,
          54,
          28,
          95,
          197,
          39,
          31,
          32,
          69,
          167,
          73,
          66,
          135,
          43,
          25,
          200,
          91,
          54,
          67,
          45,
          38,
          59,
          57,
          128,
          36,
          34,
          76,
          94,
          1046,
          75,
          320,
          40,
          89,
          52,
          121,
          34,
          43,
          115,
          61,
          84,
          23,
          100,
          26,
          87,
          23,
          78,
          28,
          185,
          96,
          61,
          51,
          81,
          82,
          82,
          295,
          112,
          33,
          75,
          176,
          83,
          25,
          93,
          44,
          66,
          56,
          42,
          46,
          36,
          43,
          60,
          30,
          145,
          119,
          115,
          62,
          79,
          57,
          56,
          160,
          85,
          23,
          96,
          205,
          95,
          102,
          74,
          88,
          66,
          81,
          85,
          132,
          55,
          50,
          56,
          21,
          69,
          20,
          36,
          84,
          43,
          88,
          42,
          83,
          65,
          72,
          140,
          11,
          21
         ],
         "xaxis": "x",
         "y": [
          99500,
          243000,
          112500,
          211700,
          187250,
          725500,
          83000,
          336000,
          249000,
          293000,
          184500,
          174000,
          109500,
          97000,
          78900,
          108000,
          397000,
          673000,
          673000,
          183400,
          174900,
          830000,
          610000,
          436650,
          99000,
          116300,
          380000,
          351000,
          282960,
          300000,
          105000,
          199900,
          424000,
          289000,
          218500,
          118000,
          83000,
          92000,
          378420,
          129000,
          87000,
          68000,
          68000,
          61000,
          59000,
          42000,
          200000,
          630000,
          219000,
          525000,
          680000,
          870000,
          447800,
          525000,
          513000,
          439000,
          389480,
          348140,
          347750,
          333000,
          315000,
          315000,
          199000,
          89000,
          190000,
          251000,
          389500,
          1020000,
          1040000,
          1645000,
          820000,
          310000,
          337000,
          262000,
          243000,
          217000,
          520000,
          222000,
          498000,
          430000,
          290000,
          210000,
          207000,
          799000,
          275000,
          339000,
          56183,
          139900,
          1095000,
          310000,
          446000,
          428500,
          260000,
          240000,
          395000,
          275000,
          755000,
          366400,
          227000,
          214000,
          129600,
          997000,
          179000,
          440000,
          489000,
          540000,
          198740,
          229000,
          560000,
          579000,
          205000,
          359990,
          165000,
          315000,
          349000,
          1420000,
          134000,
          129000,
          129000,
          118000,
          90000,
          68000,
          61000,
          59000,
          131000,
          320000,
          997500,
          273000,
          97000,
          570000,
          693000,
          530000,
          399000,
          448000,
          800000,
          241500,
          109000,
          910000,
          500000,
          250000,
          102000,
          192000,
          445000,
          733500,
          459000,
          149300,
          330000,
          330000,
          311000,
          339000,
          730000,
          220000,
          129000,
          84900,
          730000,
          299500,
          783800,
          607100,
          479000,
          189000,
          225000,
          37000,
          443000,
          499000,
          452800,
          278000,
          260000,
          599000,
          215000,
          355000,
          499000,
          223000,
          151000,
          313000,
          194000,
          225000,
          699000,
          366800,
          224700,
          1100000,
          450000,
          300000,
          298000,
          530000,
          459000,
          208600,
          199900,
          310000,
          55000,
          425000,
          530000,
          447000,
          375000,
          639000,
          425000,
          365000,
          139000,
          700000,
          54000,
          580000,
          74120,
          673000,
          219000,
          285000,
          249000,
          273000,
          1357000,
          1357000,
          169890,
          187000,
          375000,
          1020000,
          732000,
          38000,
          542000,
          526000,
          447000,
          409000,
          35000,
          365000,
          349000,
          199000,
          155000,
          115000,
          297800,
          76923,
          147000,
          480000,
          269000,
          362000,
          315000,
          1080000,
          1190000,
          1190000,
          539000,
          485000,
          255000,
          117700,
          300000,
          337400,
          604000,
          330000,
          299000,
          590000,
          245000,
          450000,
          331000,
          292000,
          593000,
          599999,
          599999,
          178500,
          184000,
          140000,
          150000,
          545000,
          945000,
          945000,
          424000,
          92000,
          418000,
          565000,
          620000,
          386000,
          299000,
          245000,
          799900,
          180000,
          699000,
          435000,
          270000,
          294000,
          395000,
          160000,
          233275,
          526400,
          275000,
          335000,
          293000,
          184500,
          78900,
          285000,
          459000,
          116000,
          459000,
          368000,
          242000,
          177500,
          326000,
          99000,
          77000,
          254600,
          129000,
          395000,
          760000,
          620000,
          850000,
          224000,
          195000,
          175000,
          157000,
          155000,
          310000,
          108000,
          109000,
          84900,
          152000,
          205000,
          349000,
          647900,
          273000,
          227900,
          289000,
          54000,
          314400,
          298680,
          1050000,
          827920,
          471600,
          304160,
          262000,
          235000,
          141190,
          449990,
          265000,
          200000,
          212000,
          133500,
          179400,
          269000,
          139500,
          197400,
          68000,
          295000,
          42000,
          265000,
          87150,
          399000,
          1320000,
          452000,
          138000,
          45000,
          299900,
          520000,
          565000,
          265000,
          779000,
          925000,
          147500,
          98900,
          212500,
          280500,
          700000,
          410000,
          223000,
          210500,
          125000,
          499500,
          147500,
          152000,
          790000,
          285000,
          244700,
          279500,
          199000,
          212800,
          252000,
          370000,
          270000,
          174000,
          159000,
          109500,
          379000,
          207400,
          430000,
          269000,
          950000,
          649000,
          186000,
          525000,
          346000,
          299000,
          179990,
          74000,
          627000,
          491150,
          169000,
          82540,
          184830,
          229000,
          276000,
          400000,
          280900,
          90000,
          199000,
          129900,
          129000,
          99000,
          372500,
          359000,
          345000,
          360000,
          189500,
          192400,
          99000,
          250000,
          28500,
          70000,
          550000,
          422000,
          378420,
          549000,
          525000,
          192500,
          425000,
          155000,
          50000,
          579000,
          159000,
          220000,
          349000,
          179000,
          355000,
          205000,
          242900,
          294000,
          139500,
          385000,
          321000,
          275500,
          216000,
          252000,
          118000,
          950000,
          196000,
          399000,
          203000,
          199000,
          265000,
          163900,
          278000,
          255600,
          330200,
          232200,
          365000,
          299000,
          470000,
          469000,
          118000,
          180000,
          252000,
          175490,
          956800,
          956800,
          735000,
          925000,
          140000,
          179000,
          125000,
          273600,
          115000,
          139900,
          308800,
          598500,
          67000,
          360000,
          394000,
          168000,
          255000,
          225000,
          313000,
          273000,
          360000,
          529000,
          87000,
          295000,
          499500,
          499500,
          275000,
          235000,
          549900,
          399000,
          265000,
          78000,
          360000,
          112000,
          148000,
          269000,
          1020000,
          134500,
          206700,
          156000,
          159950,
          175450,
          229000,
          177500,
          399000,
          173840,
          199000,
          451500,
          335000,
          145000,
          549000,
          520000,
          210000,
          485000,
          589000,
          589000,
          589000,
          128500,
          671000,
          110000,
          384825,
          200000,
          695000,
          625000,
          399000,
          309000,
          299000,
          259000,
          180000,
          85000,
          465000,
          450000,
          156600,
          252000,
          339000,
          270000,
          307400,
          259500,
          415000,
          148300,
          110000,
          108000,
          470000,
          143100,
          408300,
          479000,
          239000,
          171200,
          335360,
          298000,
          863000,
          257000,
          194600,
          599000,
          312700,
          460000,
          170500,
          235400,
          480000,
          199500,
          163500,
          218500,
          395000,
          209490,
          112500,
          104280,
          295000,
          385000,
          175725,
          301000,
          160000,
          189000,
          148000,
          369000,
          550000,
          243000,
          372500,
          32900,
          160000,
          163525,
          630000,
          183000,
          370000,
          630000,
          175000,
          1197800,
          99000,
          187000,
          129900,
          555000,
          525000,
          225000,
          795000,
          102000,
          75950,
          129000,
          787500,
          499990,
          325000,
          441630,
          390000,
          640000,
          357518,
          220000,
          320000,
          214900,
          295000,
          194000,
          360000,
          95000,
          219000,
          84000,
          123625,
          245000,
          149900,
          472000,
          540000,
          109350,
          130000,
          445000,
          329000,
          345000,
          179990,
          360000,
          99900,
          319000,
          530000,
          149000,
          361000,
          739900,
          379900,
          349000,
          422000,
          170000,
          295000,
          296500,
          171000,
          109900,
          349000,
          165000,
          380000,
          198100,
          138550,
          386000,
          175000,
          95000,
          649000,
          671000,
          545425,
          229899,
          99500,
          670000,
          170000,
          228700,
          542000,
          1590000,
          300000,
          335000,
          159000,
          563000,
          418000,
          164740,
          359000,
          173000,
          221000,
          158000,
          190000,
          570000,
          199000,
          344000,
          210000,
          435000,
          183500,
          160000,
          180000,
          299900,
          242650,
          265000,
          59900,
          344500,
          149000,
          59000,
          360000,
          325000,
          303000,
          190000,
          225800,
          129500,
          558000,
          199000,
          381400,
          525000,
          40000,
          320000,
          297800,
          173000,
          859000,
          111000,
          259500,
          219000,
          214000,
          315000,
          630000,
          299000,
          168700,
          245000,
          364000,
          219500,
          199000,
          342898,
          165000,
          239000,
          287000,
          170000,
          218000,
          150000,
          279000,
          325000,
          381150,
          139000,
          549000,
          59900,
          294000,
          150000,
          192000,
          144450,
          950000,
          275600,
          250000,
          212000,
          137800,
          49900,
          259900,
          259900,
          74900,
          527725,
          297900,
          220000,
          540000,
          600000,
          45000,
          259000,
          42000,
          289000,
          141500,
          650000,
          199500,
          234000,
          219000,
          229000,
          349000,
          495000,
          180200,
          615000,
          280000,
          429900,
          128800,
          225800,
          175000,
          538000,
          599000,
          250000,
          219500,
          219000,
          470000,
          115000,
          169000,
          330000,
          128400,
          232000,
          129000,
          209000,
          226000,
          410000,
          399000,
          435000,
          410000,
          180000,
          123840,
          395000,
          370000,
          202640,
          314000,
          279500,
          262500,
          665000,
          546000,
          299500,
          117700,
          357000,
          317000,
          474000,
          474000,
          650000,
          121000,
          132000,
          277000,
          277000,
          88800,
          326000,
          345000,
          330000,
          105000,
          525000,
          195650,
          320000,
          404250,
          299000,
          394000,
          57000,
          188640,
          359000,
          137000,
          731750,
          175000,
          173000,
          420000,
          35000,
          355000,
          280000,
          150000,
          449000,
          675000,
          128500,
          157900,
          275500,
          319000,
          396000,
          201450,
          365000,
          425000,
          172000,
          66000,
          215000,
          272000,
          390000,
          249915,
          269000,
          149000,
          999900,
          273000,
          156000,
          240000,
          120000,
          900000,
          1490000,
          380000,
          512000,
          370000,
          104500,
          255000,
          185000,
          205000,
          119000,
          370000,
          400000,
          429900,
          99000,
          129000,
          680000,
          245000,
          430500,
          265000,
          720000,
          229000,
          330000,
          198000,
          267000,
          110000,
          313000,
          420000,
          469000,
          523000,
          126000,
          178500,
          183000,
          628000,
          200000,
          277000,
          315000,
          165000,
          45790,
          229000,
          144000,
          208000,
          690000,
          229000,
          360000,
          140000,
          110000,
          499000,
          110000,
          690000,
          316000,
          215000,
          179900,
          194000,
          449000,
          320000,
          122500,
          340000,
          320000,
          200500,
          315000,
          140500,
          482000,
          185000,
          289000,
          108000,
          439000,
          250000,
          217500,
          420000,
          129000,
          56000,
          321000,
          732000,
          90000,
          476000,
          140500,
          230000,
          212000,
          96000,
          130400,
          649000,
          299000,
          192000,
          175000,
          580000,
          695000,
          695000,
          695000,
          420000,
          420000,
          1197000,
          578000,
          359900,
          129000,
          105000,
          170000,
          1070000,
          38000,
          197000,
          213000,
          295000,
          299000,
          609000,
          318000,
          1135000,
          665000,
          128400,
          124000,
          248000,
          480000,
          273000,
          799000,
          610000,
          530000,
          399000,
          335000,
          445200,
          265000,
          160000,
          179950,
          267000,
          340000,
          299000,
          66000,
          199000,
          249500,
          199500,
          399000,
          325000,
          255500,
          210000,
          214000,
          265000,
          553200,
          424900,
          553200,
          129600,
          85000,
          330000,
          365000,
          33000,
          216000,
          439000,
          191950,
          99000,
          238000,
          40000,
          418000,
          100290,
          139000,
          211000,
          561600,
          169000,
          179990,
          175000,
          207640,
          578000,
          578000,
          72000,
          430000,
          208000,
          71000,
          238000,
          299000,
          745500,
          690000,
          322000,
          354000,
          385000,
          179900,
          119000,
          56000,
          222600,
          120000,
          92000,
          199000,
          222000,
          574500,
          200000,
          590000,
          150000,
          435000,
          545000,
          197000,
          399000,
          269000,
          800000,
          402500,
          228000,
          120000,
          44500,
          159000,
          219000,
          525000,
          239000,
          262000,
          135200,
          139000,
          290000,
          87540,
          190000,
          163000,
          260000,
          1200000,
          945000,
          220000,
          189500,
          109000,
          450000,
          357500,
          390000,
          368000,
          56000,
          260000,
          124000,
          189000,
          128500,
          222600,
          241500,
          180000,
          172000,
          159000,
          151800,
          200000,
          276595,
          97500,
          99000,
          330000,
          77000,
          263000,
          744000,
          924000,
          198500,
          96000,
          275000,
          197000,
          80000,
          252600,
          294000,
          359990,
          224250,
          142500,
          390000,
          488000,
          325500,
          229460,
          149000,
          79000,
          120000,
          96000,
          51000,
          291000,
          157000,
          236000,
          370000,
          45000,
          214000,
          40000,
          221500,
          269900,
          440000,
          230000,
          49200,
          92000
         ],
         "yaxis": "y"
        }
       ],
       "layout": {
        "legend": {
         "tracegroupgap": 0
        },
        "margin": {
         "t": 60
        },
        "template": {
         "data": {
          "bar": [
           {
            "error_x": {
             "color": "#2a3f5f"
            },
            "error_y": {
             "color": "#2a3f5f"
            },
            "marker": {
             "line": {
              "color": "#E5ECF6",
              "width": 0.5
             },
             "pattern": {
              "fillmode": "overlay",
              "size": 10,
              "solidity": 0.2
             }
            },
            "type": "bar"
           }
          ],
          "barpolar": [
           {
            "marker": {
             "line": {
              "color": "#E5ECF6",
              "width": 0.5
             },
             "pattern": {
              "fillmode": "overlay",
              "size": 10,
              "solidity": 0.2
             }
            },
            "type": "barpolar"
           }
          ],
          "carpet": [
           {
            "aaxis": {
             "endlinecolor": "#2a3f5f",
             "gridcolor": "white",
             "linecolor": "white",
             "minorgridcolor": "white",
             "startlinecolor": "#2a3f5f"
            },
            "baxis": {
             "endlinecolor": "#2a3f5f",
             "gridcolor": "white",
             "linecolor": "white",
             "minorgridcolor": "white",
             "startlinecolor": "#2a3f5f"
            },
            "type": "carpet"
           }
          ],
          "choropleth": [
           {
            "colorbar": {
             "outlinewidth": 0,
             "ticks": ""
            },
            "type": "choropleth"
           }
          ],
          "contour": [
           {
            "colorbar": {
             "outlinewidth": 0,
             "ticks": ""
            },
            "colorscale": [
             [
              0,
              "#0d0887"
             ],
             [
              0.1111111111111111,
              "#46039f"
             ],
             [
              0.2222222222222222,
              "#7201a8"
             ],
             [
              0.3333333333333333,
              "#9c179e"
             ],
             [
              0.4444444444444444,
              "#bd3786"
             ],
             [
              0.5555555555555556,
              "#d8576b"
             ],
             [
              0.6666666666666666,
              "#ed7953"
             ],
             [
              0.7777777777777778,
              "#fb9f3a"
             ],
             [
              0.8888888888888888,
              "#fdca26"
             ],
             [
              1,
              "#f0f921"
             ]
            ],
            "type": "contour"
           }
          ],
          "contourcarpet": [
           {
            "colorbar": {
             "outlinewidth": 0,
             "ticks": ""
            },
            "type": "contourcarpet"
           }
          ],
          "heatmap": [
           {
            "colorbar": {
             "outlinewidth": 0,
             "ticks": ""
            },
            "colorscale": [
             [
              0,
              "#0d0887"
             ],
             [
              0.1111111111111111,
              "#46039f"
             ],
             [
              0.2222222222222222,
              "#7201a8"
             ],
             [
              0.3333333333333333,
              "#9c179e"
             ],
             [
              0.4444444444444444,
              "#bd3786"
             ],
             [
              0.5555555555555556,
              "#d8576b"
             ],
             [
              0.6666666666666666,
              "#ed7953"
             ],
             [
              0.7777777777777778,
              "#fb9f3a"
             ],
             [
              0.8888888888888888,
              "#fdca26"
             ],
             [
              1,
              "#f0f921"
             ]
            ],
            "type": "heatmap"
           }
          ],
          "heatmapgl": [
           {
            "colorbar": {
             "outlinewidth": 0,
             "ticks": ""
            },
            "colorscale": [
             [
              0,
              "#0d0887"
             ],
             [
              0.1111111111111111,
              "#46039f"
             ],
             [
              0.2222222222222222,
              "#7201a8"
             ],
             [
              0.3333333333333333,
              "#9c179e"
             ],
             [
              0.4444444444444444,
              "#bd3786"
             ],
             [
              0.5555555555555556,
              "#d8576b"
             ],
             [
              0.6666666666666666,
              "#ed7953"
             ],
             [
              0.7777777777777778,
              "#fb9f3a"
             ],
             [
              0.8888888888888888,
              "#fdca26"
             ],
             [
              1,
              "#f0f921"
             ]
            ],
            "type": "heatmapgl"
           }
          ],
          "histogram": [
           {
            "marker": {
             "pattern": {
              "fillmode": "overlay",
              "size": 10,
              "solidity": 0.2
             }
            },
            "type": "histogram"
           }
          ],
          "histogram2d": [
           {
            "colorbar": {
             "outlinewidth": 0,
             "ticks": ""
            },
            "colorscale": [
             [
              0,
              "#0d0887"
             ],
             [
              0.1111111111111111,
              "#46039f"
             ],
             [
              0.2222222222222222,
              "#7201a8"
             ],
             [
              0.3333333333333333,
              "#9c179e"
             ],
             [
              0.4444444444444444,
              "#bd3786"
             ],
             [
              0.5555555555555556,
              "#d8576b"
             ],
             [
              0.6666666666666666,
              "#ed7953"
             ],
             [
              0.7777777777777778,
              "#fb9f3a"
             ],
             [
              0.8888888888888888,
              "#fdca26"
             ],
             [
              1,
              "#f0f921"
             ]
            ],
            "type": "histogram2d"
           }
          ],
          "histogram2dcontour": [
           {
            "colorbar": {
             "outlinewidth": 0,
             "ticks": ""
            },
            "colorscale": [
             [
              0,
              "#0d0887"
             ],
             [
              0.1111111111111111,
              "#46039f"
             ],
             [
              0.2222222222222222,
              "#7201a8"
             ],
             [
              0.3333333333333333,
              "#9c179e"
             ],
             [
              0.4444444444444444,
              "#bd3786"
             ],
             [
              0.5555555555555556,
              "#d8576b"
             ],
             [
              0.6666666666666666,
              "#ed7953"
             ],
             [
              0.7777777777777778,
              "#fb9f3a"
             ],
             [
              0.8888888888888888,
              "#fdca26"
             ],
             [
              1,
              "#f0f921"
             ]
            ],
            "type": "histogram2dcontour"
           }
          ],
          "mesh3d": [
           {
            "colorbar": {
             "outlinewidth": 0,
             "ticks": ""
            },
            "type": "mesh3d"
           }
          ],
          "parcoords": [
           {
            "line": {
             "colorbar": {
              "outlinewidth": 0,
              "ticks": ""
             }
            },
            "type": "parcoords"
           }
          ],
          "pie": [
           {
            "automargin": true,
            "type": "pie"
           }
          ],
          "scatter": [
           {
            "fillpattern": {
             "fillmode": "overlay",
             "size": 10,
             "solidity": 0.2
            },
            "type": "scatter"
           }
          ],
          "scatter3d": [
           {
            "line": {
             "colorbar": {
              "outlinewidth": 0,
              "ticks": ""
             }
            },
            "marker": {
             "colorbar": {
              "outlinewidth": 0,
              "ticks": ""
             }
            },
            "type": "scatter3d"
           }
          ],
          "scattercarpet": [
           {
            "marker": {
             "colorbar": {
              "outlinewidth": 0,
              "ticks": ""
             }
            },
            "type": "scattercarpet"
           }
          ],
          "scattergeo": [
           {
            "marker": {
             "colorbar": {
              "outlinewidth": 0,
              "ticks": ""
             }
            },
            "type": "scattergeo"
           }
          ],
          "scattergl": [
           {
            "marker": {
             "colorbar": {
              "outlinewidth": 0,
              "ticks": ""
             }
            },
            "type": "scattergl"
           }
          ],
          "scattermapbox": [
           {
            "marker": {
             "colorbar": {
              "outlinewidth": 0,
              "ticks": ""
             }
            },
            "type": "scattermapbox"
           }
          ],
          "scatterpolar": [
           {
            "marker": {
             "colorbar": {
              "outlinewidth": 0,
              "ticks": ""
             }
            },
            "type": "scatterpolar"
           }
          ],
          "scatterpolargl": [
           {
            "marker": {
             "colorbar": {
              "outlinewidth": 0,
              "ticks": ""
             }
            },
            "type": "scatterpolargl"
           }
          ],
          "scatterternary": [
           {
            "marker": {
             "colorbar": {
              "outlinewidth": 0,
              "ticks": ""
             }
            },
            "type": "scatterternary"
           }
          ],
          "surface": [
           {
            "colorbar": {
             "outlinewidth": 0,
             "ticks": ""
            },
            "colorscale": [
             [
              0,
              "#0d0887"
             ],
             [
              0.1111111111111111,
              "#46039f"
             ],
             [
              0.2222222222222222,
              "#7201a8"
             ],
             [
              0.3333333333333333,
              "#9c179e"
             ],
             [
              0.4444444444444444,
              "#bd3786"
             ],
             [
              0.5555555555555556,
              "#d8576b"
             ],
             [
              0.6666666666666666,
              "#ed7953"
             ],
             [
              0.7777777777777778,
              "#fb9f3a"
             ],
             [
              0.8888888888888888,
              "#fdca26"
             ],
             [
              1,
              "#f0f921"
             ]
            ],
            "type": "surface"
           }
          ],
          "table": [
           {
            "cells": {
             "fill": {
              "color": "#EBF0F8"
             },
             "line": {
              "color": "white"
             }
            },
            "header": {
             "fill": {
              "color": "#C8D4E3"
             },
             "line": {
              "color": "white"
             }
            },
            "type": "table"
           }
          ]
         },
         "layout": {
          "annotationdefaults": {
           "arrowcolor": "#2a3f5f",
           "arrowhead": 0,
           "arrowwidth": 1
          },
          "autotypenumbers": "strict",
          "coloraxis": {
           "colorbar": {
            "outlinewidth": 0,
            "ticks": ""
           }
          },
          "colorscale": {
           "diverging": [
            [
             0,
             "#8e0152"
            ],
            [
             0.1,
             "#c51b7d"
            ],
            [
             0.2,
             "#de77ae"
            ],
            [
             0.3,
             "#f1b6da"
            ],
            [
             0.4,
             "#fde0ef"
            ],
            [
             0.5,
             "#f7f7f7"
            ],
            [
             0.6,
             "#e6f5d0"
            ],
            [
             0.7,
             "#b8e186"
            ],
            [
             0.8,
             "#7fbc41"
            ],
            [
             0.9,
             "#4d9221"
            ],
            [
             1,
             "#276419"
            ]
           ],
           "sequential": [
            [
             0,
             "#0d0887"
            ],
            [
             0.1111111111111111,
             "#46039f"
            ],
            [
             0.2222222222222222,
             "#7201a8"
            ],
            [
             0.3333333333333333,
             "#9c179e"
            ],
            [
             0.4444444444444444,
             "#bd3786"
            ],
            [
             0.5555555555555556,
             "#d8576b"
            ],
            [
             0.6666666666666666,
             "#ed7953"
            ],
            [
             0.7777777777777778,
             "#fb9f3a"
            ],
            [
             0.8888888888888888,
             "#fdca26"
            ],
            [
             1,
             "#f0f921"
            ]
           ],
           "sequentialminus": [
            [
             0,
             "#0d0887"
            ],
            [
             0.1111111111111111,
             "#46039f"
            ],
            [
             0.2222222222222222,
             "#7201a8"
            ],
            [
             0.3333333333333333,
             "#9c179e"
            ],
            [
             0.4444444444444444,
             "#bd3786"
            ],
            [
             0.5555555555555556,
             "#d8576b"
            ],
            [
             0.6666666666666666,
             "#ed7953"
            ],
            [
             0.7777777777777778,
             "#fb9f3a"
            ],
            [
             0.8888888888888888,
             "#fdca26"
            ],
            [
             1,
             "#f0f921"
            ]
           ]
          },
          "colorway": [
           "#636efa",
           "#EF553B",
           "#00cc96",
           "#ab63fa",
           "#FFA15A",
           "#19d3f3",
           "#FF6692",
           "#B6E880",
           "#FF97FF",
           "#FECB52"
          ],
          "font": {
           "color": "#2a3f5f"
          },
          "geo": {
           "bgcolor": "white",
           "lakecolor": "white",
           "landcolor": "#E5ECF6",
           "showlakes": true,
           "showland": true,
           "subunitcolor": "white"
          },
          "hoverlabel": {
           "align": "left"
          },
          "hovermode": "closest",
          "mapbox": {
           "style": "light"
          },
          "paper_bgcolor": "white",
          "plot_bgcolor": "#E5ECF6",
          "polar": {
           "angularaxis": {
            "gridcolor": "white",
            "linecolor": "white",
            "ticks": ""
           },
           "bgcolor": "#E5ECF6",
           "radialaxis": {
            "gridcolor": "white",
            "linecolor": "white",
            "ticks": ""
           }
          },
          "scene": {
           "xaxis": {
            "backgroundcolor": "#E5ECF6",
            "gridcolor": "white",
            "gridwidth": 2,
            "linecolor": "white",
            "showbackground": true,
            "ticks": "",
            "zerolinecolor": "white"
           },
           "yaxis": {
            "backgroundcolor": "#E5ECF6",
            "gridcolor": "white",
            "gridwidth": 2,
            "linecolor": "white",
            "showbackground": true,
            "ticks": "",
            "zerolinecolor": "white"
           },
           "zaxis": {
            "backgroundcolor": "#E5ECF6",
            "gridcolor": "white",
            "gridwidth": 2,
            "linecolor": "white",
            "showbackground": true,
            "ticks": "",
            "zerolinecolor": "white"
           }
          },
          "shapedefaults": {
           "line": {
            "color": "#2a3f5f"
           }
          },
          "ternary": {
           "aaxis": {
            "gridcolor": "white",
            "linecolor": "white",
            "ticks": ""
           },
           "baxis": {
            "gridcolor": "white",
            "linecolor": "white",
            "ticks": ""
           },
           "bgcolor": "#E5ECF6",
           "caxis": {
            "gridcolor": "white",
            "linecolor": "white",
            "ticks": ""
           }
          },
          "title": {
           "x": 0.05
          },
          "xaxis": {
           "automargin": true,
           "gridcolor": "white",
           "linecolor": "white",
           "ticks": "",
           "title": {
            "standoff": 15
           },
           "zerolinecolor": "white",
           "zerolinewidth": 2
          },
          "yaxis": {
           "automargin": true,
           "gridcolor": "white",
           "linecolor": "white",
           "ticks": "",
           "title": {
            "standoff": 15
           },
           "zerolinecolor": "white",
           "zerolinewidth": 2
          }
         }
        },
        "title": {
         "text": "Evolution du prix en fonction de la surface"
        },
        "xaxis": {
         "anchor": "y",
         "domain": [
          0,
          1
         ],
         "title": {
          "text": "Surface (mètres carrés)"
         }
        },
        "yaxis": {
         "anchor": "x",
         "domain": [
          0,
          1
         ],
         "title": {
          "text": "Prix (milliers d'euros)"
         }
        },
        "yaxis2": {
         "overlaying": "y",
         "side": "right",
         "tickfont": {
          "color": "red"
         },
         "title": {
          "font": {
           "color": "red"
          },
          "text": "Prix (en milliers d'euros)"
         }
        }
       }
      }
     },
     "metadata": {},
     "output_type": "display_data"
    }
   ],
   "source": [
    "# on cree un graphique du prix en fonction de la surface\n",
    "fig = px.scatter(data, x='surface', y='prix')\n",
    "\n",
    "# on met un axe des ordonnées en milliers d'euros\n",
    "fig.update_layout(yaxis2=dict(title=\"Prix (en milliers d'euros)\", \n",
    "                              titlefont=dict(color='red'), \n",
    "                              tickfont=dict(color='red'), \n",
    "                              overlaying='y', \n",
    "                              side='right'))\n",
    "\n",
    "#on met un titre et des valeurs pour les axes\n",
    "fig.update_layout(\n",
    "    title='Evolution du prix en fonction de la surface',\n",
    "    xaxis_title='Surface (mètres carrés)',\n",
    "    yaxis_title=\"Prix (milliers d'euros)\"\n",
    ")\n",
    "\n",
    "fig.show()\n"
   ]
  },
  {
   "cell_type": "markdown",
   "metadata": {},
   "source": [
    "On voit une corrélation positive, mais pas totalement puisque le prix egalement de la localisation."
   ]
  },
  {
   "cell_type": "code",
   "execution_count": 54,
   "metadata": {},
   "outputs": [
    {
     "name": "stderr",
     "output_type": "stream",
     "text": [
      "C:\\Users\\Jade Esper\\AppData\\Local\\Temp\\ipykernel_15796\\726735197.py:2: FutureWarning:\n",
      "\n",
      "The default value of numeric_only in DataFrameGroupBy.mean is deprecated. In a future version, numeric_only will default to False. Either specify numeric_only or select only columns which should be valid for the function.\n",
      "\n"
     ]
    },
    {
     "data": {
      "application/vnd.plotly.v1+json": {
       "config": {
        "plotlyServerURL": "https://plot.ly"
       },
       "data": [
        {
         "alignmentgroup": "True",
         "hovertemplate": "piscine=%{x}<br>prix=%{marker.color}<extra></extra>",
         "legendgroup": "",
         "marker": {
          "color": [
           320166.5448536355,
           463882.26829268294
          ],
          "coloraxis": "coloraxis",
          "pattern": {
           "shape": ""
          }
         },
         "name": "",
         "offsetgroup": "",
         "orientation": "v",
         "showlegend": false,
         "textposition": "auto",
         "type": "bar",
         "x": [
          0,
          1
         ],
         "xaxis": "x",
         "y": [
          320166.5448536355,
          463882.26829268294
         ],
         "yaxis": "y"
        }
       ],
       "layout": {
        "barmode": "relative",
        "coloraxis": {
         "colorbar": {
          "title": {
           "text": "prix"
          }
         },
         "colorscale": [
          [
           0,
           "#0d0887"
          ],
          [
           0.1111111111111111,
           "#46039f"
          ],
          [
           0.2222222222222222,
           "#7201a8"
          ],
          [
           0.3333333333333333,
           "#9c179e"
          ],
          [
           0.4444444444444444,
           "#bd3786"
          ],
          [
           0.5555555555555556,
           "#d8576b"
          ],
          [
           0.6666666666666666,
           "#ed7953"
          ],
          [
           0.7777777777777778,
           "#fb9f3a"
          ],
          [
           0.8888888888888888,
           "#fdca26"
          ],
          [
           1,
           "#f0f921"
          ]
         ]
        },
        "legend": {
         "tracegroupgap": 0
        },
        "margin": {
         "t": 60
        },
        "template": {
         "data": {
          "bar": [
           {
            "error_x": {
             "color": "#2a3f5f"
            },
            "error_y": {
             "color": "#2a3f5f"
            },
            "marker": {
             "line": {
              "color": "#E5ECF6",
              "width": 0.5
             },
             "pattern": {
              "fillmode": "overlay",
              "size": 10,
              "solidity": 0.2
             }
            },
            "type": "bar"
           }
          ],
          "barpolar": [
           {
            "marker": {
             "line": {
              "color": "#E5ECF6",
              "width": 0.5
             },
             "pattern": {
              "fillmode": "overlay",
              "size": 10,
              "solidity": 0.2
             }
            },
            "type": "barpolar"
           }
          ],
          "carpet": [
           {
            "aaxis": {
             "endlinecolor": "#2a3f5f",
             "gridcolor": "white",
             "linecolor": "white",
             "minorgridcolor": "white",
             "startlinecolor": "#2a3f5f"
            },
            "baxis": {
             "endlinecolor": "#2a3f5f",
             "gridcolor": "white",
             "linecolor": "white",
             "minorgridcolor": "white",
             "startlinecolor": "#2a3f5f"
            },
            "type": "carpet"
           }
          ],
          "choropleth": [
           {
            "colorbar": {
             "outlinewidth": 0,
             "ticks": ""
            },
            "type": "choropleth"
           }
          ],
          "contour": [
           {
            "colorbar": {
             "outlinewidth": 0,
             "ticks": ""
            },
            "colorscale": [
             [
              0,
              "#0d0887"
             ],
             [
              0.1111111111111111,
              "#46039f"
             ],
             [
              0.2222222222222222,
              "#7201a8"
             ],
             [
              0.3333333333333333,
              "#9c179e"
             ],
             [
              0.4444444444444444,
              "#bd3786"
             ],
             [
              0.5555555555555556,
              "#d8576b"
             ],
             [
              0.6666666666666666,
              "#ed7953"
             ],
             [
              0.7777777777777778,
              "#fb9f3a"
             ],
             [
              0.8888888888888888,
              "#fdca26"
             ],
             [
              1,
              "#f0f921"
             ]
            ],
            "type": "contour"
           }
          ],
          "contourcarpet": [
           {
            "colorbar": {
             "outlinewidth": 0,
             "ticks": ""
            },
            "type": "contourcarpet"
           }
          ],
          "heatmap": [
           {
            "colorbar": {
             "outlinewidth": 0,
             "ticks": ""
            },
            "colorscale": [
             [
              0,
              "#0d0887"
             ],
             [
              0.1111111111111111,
              "#46039f"
             ],
             [
              0.2222222222222222,
              "#7201a8"
             ],
             [
              0.3333333333333333,
              "#9c179e"
             ],
             [
              0.4444444444444444,
              "#bd3786"
             ],
             [
              0.5555555555555556,
              "#d8576b"
             ],
             [
              0.6666666666666666,
              "#ed7953"
             ],
             [
              0.7777777777777778,
              "#fb9f3a"
             ],
             [
              0.8888888888888888,
              "#fdca26"
             ],
             [
              1,
              "#f0f921"
             ]
            ],
            "type": "heatmap"
           }
          ],
          "heatmapgl": [
           {
            "colorbar": {
             "outlinewidth": 0,
             "ticks": ""
            },
            "colorscale": [
             [
              0,
              "#0d0887"
             ],
             [
              0.1111111111111111,
              "#46039f"
             ],
             [
              0.2222222222222222,
              "#7201a8"
             ],
             [
              0.3333333333333333,
              "#9c179e"
             ],
             [
              0.4444444444444444,
              "#bd3786"
             ],
             [
              0.5555555555555556,
              "#d8576b"
             ],
             [
              0.6666666666666666,
              "#ed7953"
             ],
             [
              0.7777777777777778,
              "#fb9f3a"
             ],
             [
              0.8888888888888888,
              "#fdca26"
             ],
             [
              1,
              "#f0f921"
             ]
            ],
            "type": "heatmapgl"
           }
          ],
          "histogram": [
           {
            "marker": {
             "pattern": {
              "fillmode": "overlay",
              "size": 10,
              "solidity": 0.2
             }
            },
            "type": "histogram"
           }
          ],
          "histogram2d": [
           {
            "colorbar": {
             "outlinewidth": 0,
             "ticks": ""
            },
            "colorscale": [
             [
              0,
              "#0d0887"
             ],
             [
              0.1111111111111111,
              "#46039f"
             ],
             [
              0.2222222222222222,
              "#7201a8"
             ],
             [
              0.3333333333333333,
              "#9c179e"
             ],
             [
              0.4444444444444444,
              "#bd3786"
             ],
             [
              0.5555555555555556,
              "#d8576b"
             ],
             [
              0.6666666666666666,
              "#ed7953"
             ],
             [
              0.7777777777777778,
              "#fb9f3a"
             ],
             [
              0.8888888888888888,
              "#fdca26"
             ],
             [
              1,
              "#f0f921"
             ]
            ],
            "type": "histogram2d"
           }
          ],
          "histogram2dcontour": [
           {
            "colorbar": {
             "outlinewidth": 0,
             "ticks": ""
            },
            "colorscale": [
             [
              0,
              "#0d0887"
             ],
             [
              0.1111111111111111,
              "#46039f"
             ],
             [
              0.2222222222222222,
              "#7201a8"
             ],
             [
              0.3333333333333333,
              "#9c179e"
             ],
             [
              0.4444444444444444,
              "#bd3786"
             ],
             [
              0.5555555555555556,
              "#d8576b"
             ],
             [
              0.6666666666666666,
              "#ed7953"
             ],
             [
              0.7777777777777778,
              "#fb9f3a"
             ],
             [
              0.8888888888888888,
              "#fdca26"
             ],
             [
              1,
              "#f0f921"
             ]
            ],
            "type": "histogram2dcontour"
           }
          ],
          "mesh3d": [
           {
            "colorbar": {
             "outlinewidth": 0,
             "ticks": ""
            },
            "type": "mesh3d"
           }
          ],
          "parcoords": [
           {
            "line": {
             "colorbar": {
              "outlinewidth": 0,
              "ticks": ""
             }
            },
            "type": "parcoords"
           }
          ],
          "pie": [
           {
            "automargin": true,
            "type": "pie"
           }
          ],
          "scatter": [
           {
            "fillpattern": {
             "fillmode": "overlay",
             "size": 10,
             "solidity": 0.2
            },
            "type": "scatter"
           }
          ],
          "scatter3d": [
           {
            "line": {
             "colorbar": {
              "outlinewidth": 0,
              "ticks": ""
             }
            },
            "marker": {
             "colorbar": {
              "outlinewidth": 0,
              "ticks": ""
             }
            },
            "type": "scatter3d"
           }
          ],
          "scattercarpet": [
           {
            "marker": {
             "colorbar": {
              "outlinewidth": 0,
              "ticks": ""
             }
            },
            "type": "scattercarpet"
           }
          ],
          "scattergeo": [
           {
            "marker": {
             "colorbar": {
              "outlinewidth": 0,
              "ticks": ""
             }
            },
            "type": "scattergeo"
           }
          ],
          "scattergl": [
           {
            "marker": {
             "colorbar": {
              "outlinewidth": 0,
              "ticks": ""
             }
            },
            "type": "scattergl"
           }
          ],
          "scattermapbox": [
           {
            "marker": {
             "colorbar": {
              "outlinewidth": 0,
              "ticks": ""
             }
            },
            "type": "scattermapbox"
           }
          ],
          "scatterpolar": [
           {
            "marker": {
             "colorbar": {
              "outlinewidth": 0,
              "ticks": ""
             }
            },
            "type": "scatterpolar"
           }
          ],
          "scatterpolargl": [
           {
            "marker": {
             "colorbar": {
              "outlinewidth": 0,
              "ticks": ""
             }
            },
            "type": "scatterpolargl"
           }
          ],
          "scatterternary": [
           {
            "marker": {
             "colorbar": {
              "outlinewidth": 0,
              "ticks": ""
             }
            },
            "type": "scatterternary"
           }
          ],
          "surface": [
           {
            "colorbar": {
             "outlinewidth": 0,
             "ticks": ""
            },
            "colorscale": [
             [
              0,
              "#0d0887"
             ],
             [
              0.1111111111111111,
              "#46039f"
             ],
             [
              0.2222222222222222,
              "#7201a8"
             ],
             [
              0.3333333333333333,
              "#9c179e"
             ],
             [
              0.4444444444444444,
              "#bd3786"
             ],
             [
              0.5555555555555556,
              "#d8576b"
             ],
             [
              0.6666666666666666,
              "#ed7953"
             ],
             [
              0.7777777777777778,
              "#fb9f3a"
             ],
             [
              0.8888888888888888,
              "#fdca26"
             ],
             [
              1,
              "#f0f921"
             ]
            ],
            "type": "surface"
           }
          ],
          "table": [
           {
            "cells": {
             "fill": {
              "color": "#EBF0F8"
             },
             "line": {
              "color": "white"
             }
            },
            "header": {
             "fill": {
              "color": "#C8D4E3"
             },
             "line": {
              "color": "white"
             }
            },
            "type": "table"
           }
          ]
         },
         "layout": {
          "annotationdefaults": {
           "arrowcolor": "#2a3f5f",
           "arrowhead": 0,
           "arrowwidth": 1
          },
          "autotypenumbers": "strict",
          "coloraxis": {
           "colorbar": {
            "outlinewidth": 0,
            "ticks": ""
           }
          },
          "colorscale": {
           "diverging": [
            [
             0,
             "#8e0152"
            ],
            [
             0.1,
             "#c51b7d"
            ],
            [
             0.2,
             "#de77ae"
            ],
            [
             0.3,
             "#f1b6da"
            ],
            [
             0.4,
             "#fde0ef"
            ],
            [
             0.5,
             "#f7f7f7"
            ],
            [
             0.6,
             "#e6f5d0"
            ],
            [
             0.7,
             "#b8e186"
            ],
            [
             0.8,
             "#7fbc41"
            ],
            [
             0.9,
             "#4d9221"
            ],
            [
             1,
             "#276419"
            ]
           ],
           "sequential": [
            [
             0,
             "#0d0887"
            ],
            [
             0.1111111111111111,
             "#46039f"
            ],
            [
             0.2222222222222222,
             "#7201a8"
            ],
            [
             0.3333333333333333,
             "#9c179e"
            ],
            [
             0.4444444444444444,
             "#bd3786"
            ],
            [
             0.5555555555555556,
             "#d8576b"
            ],
            [
             0.6666666666666666,
             "#ed7953"
            ],
            [
             0.7777777777777778,
             "#fb9f3a"
            ],
            [
             0.8888888888888888,
             "#fdca26"
            ],
            [
             1,
             "#f0f921"
            ]
           ],
           "sequentialminus": [
            [
             0,
             "#0d0887"
            ],
            [
             0.1111111111111111,
             "#46039f"
            ],
            [
             0.2222222222222222,
             "#7201a8"
            ],
            [
             0.3333333333333333,
             "#9c179e"
            ],
            [
             0.4444444444444444,
             "#bd3786"
            ],
            [
             0.5555555555555556,
             "#d8576b"
            ],
            [
             0.6666666666666666,
             "#ed7953"
            ],
            [
             0.7777777777777778,
             "#fb9f3a"
            ],
            [
             0.8888888888888888,
             "#fdca26"
            ],
            [
             1,
             "#f0f921"
            ]
           ]
          },
          "colorway": [
           "#636efa",
           "#EF553B",
           "#00cc96",
           "#ab63fa",
           "#FFA15A",
           "#19d3f3",
           "#FF6692",
           "#B6E880",
           "#FF97FF",
           "#FECB52"
          ],
          "font": {
           "color": "#2a3f5f"
          },
          "geo": {
           "bgcolor": "white",
           "lakecolor": "white",
           "landcolor": "#E5ECF6",
           "showlakes": true,
           "showland": true,
           "subunitcolor": "white"
          },
          "hoverlabel": {
           "align": "left"
          },
          "hovermode": "closest",
          "mapbox": {
           "style": "light"
          },
          "paper_bgcolor": "white",
          "plot_bgcolor": "#E5ECF6",
          "polar": {
           "angularaxis": {
            "gridcolor": "white",
            "linecolor": "white",
            "ticks": ""
           },
           "bgcolor": "#E5ECF6",
           "radialaxis": {
            "gridcolor": "white",
            "linecolor": "white",
            "ticks": ""
           }
          },
          "scene": {
           "xaxis": {
            "backgroundcolor": "#E5ECF6",
            "gridcolor": "white",
            "gridwidth": 2,
            "linecolor": "white",
            "showbackground": true,
            "ticks": "",
            "zerolinecolor": "white"
           },
           "yaxis": {
            "backgroundcolor": "#E5ECF6",
            "gridcolor": "white",
            "gridwidth": 2,
            "linecolor": "white",
            "showbackground": true,
            "ticks": "",
            "zerolinecolor": "white"
           },
           "zaxis": {
            "backgroundcolor": "#E5ECF6",
            "gridcolor": "white",
            "gridwidth": 2,
            "linecolor": "white",
            "showbackground": true,
            "ticks": "",
            "zerolinecolor": "white"
           }
          },
          "shapedefaults": {
           "line": {
            "color": "#2a3f5f"
           }
          },
          "ternary": {
           "aaxis": {
            "gridcolor": "white",
            "linecolor": "white",
            "ticks": ""
           },
           "baxis": {
            "gridcolor": "white",
            "linecolor": "white",
            "ticks": ""
           },
           "bgcolor": "#E5ECF6",
           "caxis": {
            "gridcolor": "white",
            "linecolor": "white",
            "ticks": ""
           }
          },
          "title": {
           "x": 0.05
          },
          "xaxis": {
           "automargin": true,
           "gridcolor": "white",
           "linecolor": "white",
           "ticks": "",
           "title": {
            "standoff": 15
           },
           "zerolinecolor": "white",
           "zerolinewidth": 2
          },
          "yaxis": {
           "automargin": true,
           "gridcolor": "white",
           "linecolor": "white",
           "ticks": "",
           "title": {
            "standoff": 15
           },
           "zerolinecolor": "white",
           "zerolinewidth": 2
          }
         }
        },
        "title": {
         "font": {
          "size": 22
         },
         "text": "Prix moyen en fonction de la présence ou non de piscine",
         "x": 0.5,
         "xanchor": "center"
        },
        "xaxis": {
         "anchor": "y",
         "domain": [
          0,
          1
         ],
         "title": {
          "text": "piscine"
         }
        },
        "yaxis": {
         "anchor": "x",
         "domain": [
          0,
          1
         ],
         "title": {
          "text": "prix"
         }
        }
       }
      }
     },
     "metadata": {},
     "output_type": "display_data"
    }
   ],
   "source": [
    "# On regarde le prix des logements en fonction de la presence ou non d'une piscine\n",
    "\n",
    "grouped = data.groupby('piscine').mean()\n",
    "\n",
    "#creation du graphique\n",
    "fig = px.bar(grouped, x=grouped.index, y='prix', color='prix')\n",
    "\n",
    "# on ajoute le titre\n",
    "fig.update_layout(title={'text': \"Prix moyen en fonction de la présence ou non de piscine\",\n",
    "                          'font': {'size': 22},\n",
    "                          'x': 0.5, 'xanchor': 'center'})\n",
    "\n",
    "fig.show()\n"
   ]
  },
  {
   "cell_type": "code",
   "execution_count": 73,
   "metadata": {},
   "outputs": [
    {
     "data": {
      "application/vnd.plotly.v1+json": {
       "config": {
        "plotlyServerURL": "https://plot.ly"
       },
       "data": [
        {
         "hovertemplate": "annee_constr=%{x}<br>prix=%{y}<extra></extra>",
         "legendgroup": "",
         "marker": {
          "color": "#636efa",
          "symbol": "circle"
         },
         "mode": "markers",
         "name": "",
         "orientation": "v",
         "showlegend": false,
         "type": "scatter",
         "x": [
          2005,
          1970,
          1948,
          1970,
          1970,
          1970,
          1970,
          1985,
          1880,
          1850,
          1850,
          1990,
          1968,
          2021,
          2013,
          1949,
          1927,
          1965,
          1965,
          1971,
          1830,
          1972,
          2018,
          1890,
          1995,
          2021,
          1890,
          1880,
          1932,
          1930,
          1883,
          1910,
          2012,
          2008,
          1964,
          1962,
          1970,
          1930,
          2004,
          1974,
          1880,
          1979,
          1975,
          1898,
          1980,
          2010,
          1960,
          1986,
          1910,
          1970,
          1986,
          2007,
          1907,
          1980,
          2013,
          2007,
          1969,
          1930,
          1979,
          2017,
          1860,
          1914,
          1970,
          1965,
          1971,
          1930,
          2016,
          1930,
          1890,
          1890,
          1968,
          1963,
          1875,
          1967,
          2006,
          1936,
          1960,
          1880,
          2006,
          1930,
          1983,
          1980,
          1906,
          1998,
          1960,
          1990,
          2014,
          2019,
          2023,
          1973,
          1933,
          2005,
          2017,
          1930,
          1970,
          1970,
          2020,
          1961,
          1962,
          1995,
          1930,
          2008,
          1970,
          1925,
          1958,
          1890,
          1968,
          1974,
          1816,
          1970,
          1973,
          1970,
          2001,
          1952,
          1986,
          1958,
          1890,
          1960,
          1860,
          1940,
          1970,
          2004,
          1975,
          1860,
          1973,
          1973,
          1880,
          2017,
          2010,
          1978,
          1979,
          2019,
          2000,
          1964,
          2001,
          1957,
          1881,
          1865,
          1880,
          1930,
          1930,
          1970,
          1970,
          1968,
          2021,
          2001,
          1990,
          1895,
          1890,
          1860,
          1970,
          1972,
          1970,
          1861,
          1950,
          1960,
          1968,
          2020,
          2006,
          2020,
          1970,
          1980,
          1967,
          1930,
          1987,
          1965,
          2011,
          1974,
          2010,
          1970,
          1989,
          1980,
          1961,
          2000,
          1957,
          1960,
          1905,
          1962,
          2021,
          2021,
          1970,
          2012,
          2004,
          2023,
          1930,
          1960,
          2018,
          1989,
          1860,
          2011,
          1965,
          1975,
          2011,
          2002,
          1930,
          1970,
          2015,
          1970,
          2022,
          1930,
          2010,
          1974,
          1960,
          1930,
          1970,
          1989,
          1870,
          2022,
          2005,
          1985,
          1979,
          1970,
          2009,
          1998,
          1992,
          1860,
          2019,
          1930,
          1954,
          1930,
          1960,
          2018,
          1970,
          1850,
          1976,
          2004,
          2011,
          1970,
          2018,
          1825,
          1970,
          2004,
          2019,
          2022,
          1962,
          1973,
          1982,
          1927,
          1979,
          1950,
          1967,
          1977,
          2005,
          1960,
          1965,
          1974,
          2005,
          1980,
          1880,
          1999,
          2002,
          2006,
          1842,
          1880,
          1945,
          1992,
          1994,
          1973,
          1996,
          2011,
          1936,
          1985,
          1933,
          1996,
          2013,
          1973,
          1880,
          1880,
          1975,
          1930,
          1930,
          1970,
          1964,
          1980,
          1964,
          1940,
          1966,
          2005,
          1970,
          2015,
          1958,
          2007,
          1980,
          2018,
          2014,
          2018,
          2018,
          1949,
          1968,
          2007,
          1973,
          1948,
          2001,
          2007,
          1960,
          1979,
          1967,
          1972,
          1930,
          1974,
          1930,
          1955,
          2011,
          1995,
          1949,
          1954,
          1925,
          1975,
          1950,
          1880,
          1920,
          1990,
          1880,
          1880,
          1979,
          2015,
          1970,
          1977,
          1930,
          1988,
          1968,
          2000,
          2003,
          2013,
          1999,
          1978,
          1975,
          1960,
          2022,
          1950,
          1960,
          1920,
          1974,
          2004,
          2012,
          1959,
          1970,
          2012,
          1980,
          2006,
          1965,
          1970,
          1930,
          1975,
          1920,
          1980,
          1981,
          1820,
          1971,
          1950,
          1988,
          2005,
          2006,
          2012,
          1960,
          1997,
          1960,
          2002,
          2011,
          1970,
          1959,
          1960,
          1955,
          1992,
          1993,
          1930,
          1970,
          1970,
          1963,
          1987,
          2018,
          2014,
          2003,
          1960,
          1930,
          1960,
          1984,
          2022,
          2006,
          1960,
          1930,
          2020,
          1972,
          2005,
          1970,
          1956,
          2004,
          2012,
          1972,
          1980,
          1971,
          1990,
          1995,
          1985,
          1969,
          1930,
          1830,
          1959,
          1950,
          1970,
          2019,
          1850,
          1880,
          1992,
          1976,
          1970,
          2009,
          1930,
          1972,
          2008,
          1822,
          1880,
          1977,
          1965,
          1995,
          2022,
          1967,
          2016,
          1992,
          2022,
          1994,
          1930,
          1925,
          2008,
          1950,
          2013,
          1970,
          2006,
          1952,
          1890,
          1880,
          1880,
          1880,
          1972,
          1974,
          2019,
          2013,
          1901,
          1970,
          1929,
          1930,
          1974,
          1996,
          1930,
          2011,
          1880,
          1965,
          1972,
          1960,
          2014,
          1960,
          2009,
          1975,
          1960,
          1961,
          1930,
          1974,
          1960,
          1985,
          1930,
          2006,
          1959,
          1880,
          1982,
          2020,
          2004,
          1970,
          1914,
          1972,
          1977,
          1930,
          1970,
          1970,
          1970,
          2001,
          1930,
          1963,
          2000,
          1996,
          1998,
          2021,
          1995,
          1967,
          2005,
          2015,
          1999,
          1965,
          1872,
          1989,
          1974,
          1969,
          1998,
          1956,
          2006,
          1999,
          1998,
          1968,
          1989,
          1972,
          2019,
          1999,
          2009,
          1976,
          1940,
          2020,
          1880,
          1946,
          2011,
          1850,
          2022,
          1880,
          2000,
          1960,
          1930,
          2022,
          1910,
          1870,
          2018,
          1965,
          1974,
          1850,
          1913,
          2022,
          1989,
          1950,
          2012,
          1970,
          1975,
          2004,
          2014,
          1969,
          1974,
          2008,
          1977,
          2008,
          2018,
          1975,
          1956,
          1998,
          1930,
          2019,
          1999,
          1975,
          1965,
          2000,
          1960,
          1930,
          1952,
          2003,
          1806,
          1971,
          1930,
          1940,
          2018,
          1998,
          1925,
          1970,
          1970,
          1970,
          1976,
          1950,
          2005,
          1982,
          1970,
          2015,
          2010,
          1990,
          1930,
          1992,
          1985,
          1940,
          1950,
          2018,
          1984,
          1980,
          1958,
          1971,
          1981,
          1968,
          1986,
          1945,
          1993,
          1964,
          1988,
          1954,
          1970,
          1980,
          1950,
          1880,
          1920,
          1880,
          1954,
          1997,
          1997,
          1930,
          1970,
          2007,
          1952,
          1970,
          2002,
          1930,
          1980,
          1970,
          2014,
          1980,
          1980,
          1930,
          2005,
          1980,
          1974,
          1973,
          2014,
          1882,
          2012,
          2010,
          2006,
          1960,
          2020,
          2018,
          1938,
          1960,
          2009,
          1948,
          1998,
          1970,
          2012,
          2019,
          1972,
          1988,
          1990,
          1970,
          1910,
          1860,
          1998,
          1960,
          2009,
          2013,
          2010,
          1970,
          1990,
          1994,
          1954,
          1939,
          1976,
          1980,
          2005,
          1998,
          2008,
          2001,
          1884,
          1968,
          1956,
          2014,
          1970,
          2017,
          1930,
          1957,
          1970,
          1975,
          1985,
          1930,
          2008,
          1998,
          2000,
          2005,
          1988,
          2008,
          1960,
          1974,
          1979,
          1949
         ],
         "xaxis": "x",
         "y": [
          211700,
          725500,
          336000,
          249000,
          673000,
          673000,
          830000,
          116300,
          380000,
          351000,
          300000,
          199900,
          424000,
          289000,
          118000,
          83000,
          378420,
          68000,
          68000,
          61000,
          200000,
          630000,
          219000,
          525000,
          870000,
          447800,
          525000,
          389480,
          347750,
          315000,
          199000,
          190000,
          389500,
          310000,
          337000,
          262000,
          520000,
          222000,
          498000,
          430000,
          210000,
          207000,
          339000,
          1095000,
          310000,
          446000,
          428500,
          260000,
          275000,
          227000,
          214000,
          997000,
          179000,
          489000,
          540000,
          198740,
          229000,
          560000,
          579000,
          359990,
          315000,
          1420000,
          129000,
          68000,
          61000,
          131000,
          320000,
          570000,
          693000,
          530000,
          399000,
          448000,
          800000,
          910000,
          102000,
          445000,
          149300,
          311000,
          339000,
          730000,
          220000,
          730000,
          607100,
          479000,
          37000,
          443000,
          499000,
          452800,
          260000,
          599000,
          215000,
          355000,
          223000,
          313000,
          194000,
          225000,
          224700,
          300000,
          298000,
          530000,
          208600,
          310000,
          55000,
          639000,
          425000,
          365000,
          139000,
          700000,
          74120,
          673000,
          169890,
          187000,
          1020000,
          732000,
          526000,
          409000,
          365000,
          349000,
          155000,
          115000,
          297800,
          76923,
          362000,
          315000,
          1190000,
          1190000,
          485000,
          255000,
          117700,
          337400,
          604000,
          330000,
          299000,
          590000,
          245000,
          450000,
          331000,
          292000,
          593000,
          140000,
          150000,
          945000,
          945000,
          424000,
          418000,
          565000,
          620000,
          386000,
          299000,
          245000,
          799900,
          395000,
          160000,
          233275,
          275000,
          335000,
          285000,
          459000,
          116000,
          459000,
          368000,
          242000,
          177500,
          326000,
          99000,
          77000,
          254600,
          395000,
          224000,
          195000,
          175000,
          310000,
          109000,
          152000,
          205000,
          349000,
          647900,
          273000,
          227900,
          289000,
          54000,
          298680,
          1050000,
          471600,
          235000,
          200000,
          133500,
          179400,
          269000,
          139500,
          68000,
          265000,
          1320000,
          452000,
          138000,
          520000,
          565000,
          265000,
          779000,
          925000,
          147500,
          700000,
          410000,
          210500,
          125000,
          499500,
          790000,
          285000,
          279500,
          199000,
          370000,
          270000,
          159000,
          379000,
          430000,
          269000,
          649000,
          186000,
          525000,
          346000,
          627000,
          491150,
          169000,
          82540,
          184830,
          229000,
          276000,
          280900,
          90000,
          199000,
          372500,
          359000,
          360000,
          189500,
          192400,
          250000,
          550000,
          378420,
          549000,
          525000,
          192500,
          425000,
          579000,
          159000,
          349000,
          179000,
          355000,
          205000,
          294000,
          139500,
          385000,
          275500,
          216000,
          252000,
          118000,
          950000,
          196000,
          199000,
          163900,
          255600,
          330200,
          232200,
          365000,
          469000,
          118000,
          175490,
          956800,
          956800,
          735000,
          925000,
          140000,
          179000,
          125000,
          273600,
          139900,
          308800,
          598500,
          360000,
          394000,
          255000,
          313000,
          273000,
          360000,
          529000,
          295000,
          499500,
          499500,
          275000,
          235000,
          549900,
          265000,
          78000,
          1020000,
          206700,
          156000,
          229000,
          177500,
          199000,
          145000,
          549000,
          210000,
          485000,
          128500,
          200000,
          695000,
          625000,
          309000,
          180000,
          85000,
          465000,
          450000,
          156600,
          252000,
          339000,
          270000,
          307400,
          259500,
          415000,
          110000,
          470000,
          143100,
          408300,
          239000,
          335360,
          863000,
          257000,
          599000,
          235400,
          480000,
          199500,
          163500,
          385000,
          175725,
          301000,
          148000,
          369000,
          372500,
          160000,
          163525,
          630000,
          183000,
          370000,
          630000,
          1197800,
          225000,
          795000,
          102000,
          75950,
          129000,
          499990,
          325000,
          441630,
          390000,
          357518,
          220000,
          320000,
          295000,
          194000,
          219000,
          123625,
          245000,
          149900,
          472000,
          540000,
          130000,
          445000,
          345000,
          360000,
          99900,
          319000,
          361000,
          422000,
          170000,
          296500,
          171000,
          349000,
          165000,
          380000,
          198100,
          95000,
          229899,
          670000,
          228700,
          1590000,
          300000,
          159000,
          418000,
          164740,
          359000,
          221000,
          158000,
          344000,
          210000,
          435000,
          183500,
          160000,
          299900,
          265000,
          344500,
          149000,
          325000,
          190000,
          225800,
          558000,
          381400,
          297800,
          173000,
          859000,
          259500,
          219000,
          214000,
          630000,
          299000,
          168700,
          364000,
          219500,
          199000,
          342898,
          165000,
          287000,
          170000,
          279000,
          325000,
          381150,
          139000,
          549000,
          192000,
          144450,
          950000,
          275600,
          137800,
          259900,
          259900,
          527725,
          297900,
          220000,
          540000,
          600000,
          259000,
          141500,
          650000,
          219000,
          229000,
          349000,
          495000,
          225800,
          175000,
          538000,
          599000,
          250000,
          219500,
          219000,
          128400,
          232000,
          129000,
          209000,
          410000,
          399000,
          435000,
          410000,
          180000,
          395000,
          370000,
          202640,
          314000,
          279500,
          665000,
          546000,
          299500,
          357000,
          650000,
          277000,
          277000,
          326000,
          345000,
          330000,
          105000,
          525000,
          195650,
          320000,
          404250,
          299000,
          394000,
          57000,
          359000,
          175000,
          173000,
          420000,
          355000,
          280000,
          150000,
          449000,
          675000,
          275500,
          319000,
          396000,
          201450,
          365000,
          425000,
          215000,
          272000,
          249915,
          269000,
          149000,
          999900,
          273000,
          156000,
          120000,
          900000,
          1490000,
          370000,
          255000,
          400000,
          429900,
          680000,
          245000,
          430500,
          265000,
          720000,
          330000,
          267000,
          313000,
          420000,
          523000,
          183000,
          628000,
          277000,
          165000,
          229000,
          690000,
          229000,
          360000,
          110000,
          499000,
          110000,
          316000,
          179900,
          449000,
          340000,
          315000,
          482000,
          439000,
          250000,
          217500,
          420000,
          129000,
          321000,
          732000,
          476000,
          140500,
          230000,
          212000,
          130400,
          649000,
          175000,
          580000,
          695000,
          695000,
          695000,
          420000,
          578000,
          359900,
          129000,
          105000,
          1070000,
          197000,
          213000,
          299000,
          609000,
          665000,
          248000,
          480000,
          273000,
          799000,
          610000,
          530000,
          399000,
          445200,
          265000,
          160000,
          179950,
          199000,
          199500,
          325000,
          255500,
          210000,
          214000,
          265000,
          553200,
          424900,
          553200,
          129600,
          330000,
          365000,
          439000,
          191950,
          418000,
          139000,
          211000,
          561600,
          169000,
          179990,
          175000,
          207640,
          578000,
          578000,
          430000,
          71000,
          238000,
          299000,
          745500,
          690000,
          322000,
          385000,
          179900,
          222600,
          120000,
          199000,
          222000,
          574500,
          200000,
          590000,
          197000,
          228000,
          120000,
          159000,
          219000,
          239000,
          262000,
          135200,
          87540,
          190000,
          260000,
          1200000,
          945000,
          220000,
          189500,
          450000,
          357500,
          390000,
          368000,
          260000,
          124000,
          189000,
          222600,
          180000,
          200000,
          276595,
          330000,
          744000,
          198500,
          197000,
          252600,
          294000,
          359990,
          142500,
          390000,
          488000,
          325500,
          229460,
          149000,
          291000,
          236000,
          370000,
          45000,
          214000,
          221500,
          269900,
          440000,
          230000,
          49200
         ],
         "yaxis": "y"
        },
        {
         "hovertemplate": "<b>OLS trendline</b><br>prix = 65.8129 * annee_constr + 222896<br>R<sup>2</sup>=0.000153<br><br>annee_constr=%{x}<br>prix=%{y} <b>(trend)</b><extra></extra>",
         "legendgroup": "",
         "marker": {
          "color": "#636efa",
          "symbol": "circle"
         },
         "mode": "lines",
         "name": "",
         "showlegend": false,
         "type": "scatter",
         "x": [
          1806,
          1816,
          1820,
          1822,
          1825,
          1830,
          1830,
          1842,
          1850,
          1850,
          1850,
          1850,
          1850,
          1850,
          1860,
          1860,
          1860,
          1860,
          1860,
          1860,
          1860,
          1861,
          1865,
          1870,
          1870,
          1872,
          1875,
          1880,
          1880,
          1880,
          1880,
          1880,
          1880,
          1880,
          1880,
          1880,
          1880,
          1880,
          1880,
          1880,
          1880,
          1880,
          1880,
          1880,
          1880,
          1880,
          1880,
          1880,
          1880,
          1880,
          1880,
          1881,
          1882,
          1883,
          1884,
          1890,
          1890,
          1890,
          1890,
          1890,
          1890,
          1890,
          1890,
          1895,
          1898,
          1901,
          1905,
          1906,
          1907,
          1910,
          1910,
          1910,
          1910,
          1913,
          1914,
          1914,
          1920,
          1920,
          1920,
          1920,
          1925,
          1925,
          1925,
          1925,
          1927,
          1927,
          1929,
          1930,
          1930,
          1930,
          1930,
          1930,
          1930,
          1930,
          1930,
          1930,
          1930,
          1930,
          1930,
          1930,
          1930,
          1930,
          1930,
          1930,
          1930,
          1930,
          1930,
          1930,
          1930,
          1930,
          1930,
          1930,
          1930,
          1930,
          1930,
          1930,
          1930,
          1930,
          1930,
          1930,
          1930,
          1930,
          1930,
          1930,
          1930,
          1930,
          1930,
          1930,
          1930,
          1930,
          1930,
          1930,
          1932,
          1933,
          1933,
          1936,
          1936,
          1938,
          1939,
          1940,
          1940,
          1940,
          1940,
          1940,
          1945,
          1945,
          1946,
          1948,
          1948,
          1948,
          1949,
          1949,
          1949,
          1949,
          1950,
          1950,
          1950,
          1950,
          1950,
          1950,
          1950,
          1950,
          1950,
          1950,
          1950,
          1952,
          1952,
          1952,
          1952,
          1954,
          1954,
          1954,
          1954,
          1954,
          1955,
          1955,
          1956,
          1956,
          1956,
          1956,
          1957,
          1957,
          1957,
          1958,
          1958,
          1958,
          1958,
          1959,
          1959,
          1959,
          1959,
          1960,
          1960,
          1960,
          1960,
          1960,
          1960,
          1960,
          1960,
          1960,
          1960,
          1960,
          1960,
          1960,
          1960,
          1960,
          1960,
          1960,
          1960,
          1960,
          1960,
          1960,
          1960,
          1960,
          1960,
          1960,
          1960,
          1960,
          1960,
          1960,
          1961,
          1961,
          1961,
          1962,
          1962,
          1962,
          1962,
          1963,
          1963,
          1963,
          1964,
          1964,
          1964,
          1964,
          1964,
          1965,
          1965,
          1965,
          1965,
          1965,
          1965,
          1965,
          1965,
          1965,
          1965,
          1965,
          1965,
          1966,
          1967,
          1967,
          1967,
          1967,
          1967,
          1967,
          1968,
          1968,
          1968,
          1968,
          1968,
          1968,
          1968,
          1968,
          1968,
          1968,
          1969,
          1969,
          1969,
          1969,
          1970,
          1970,
          1970,
          1970,
          1970,
          1970,
          1970,
          1970,
          1970,
          1970,
          1970,
          1970,
          1970,
          1970,
          1970,
          1970,
          1970,
          1970,
          1970,
          1970,
          1970,
          1970,
          1970,
          1970,
          1970,
          1970,
          1970,
          1970,
          1970,
          1970,
          1970,
          1970,
          1970,
          1970,
          1970,
          1970,
          1970,
          1970,
          1970,
          1970,
          1970,
          1970,
          1970,
          1970,
          1970,
          1970,
          1970,
          1970,
          1970,
          1970,
          1970,
          1970,
          1970,
          1970,
          1970,
          1970,
          1970,
          1970,
          1970,
          1971,
          1971,
          1971,
          1971,
          1971,
          1971,
          1972,
          1972,
          1972,
          1972,
          1972,
          1972,
          1972,
          1972,
          1972,
          1972,
          1972,
          1973,
          1973,
          1973,
          1973,
          1973,
          1973,
          1973,
          1973,
          1973,
          1974,
          1974,
          1974,
          1974,
          1974,
          1974,
          1974,
          1974,
          1974,
          1974,
          1974,
          1974,
          1974,
          1974,
          1974,
          1975,
          1975,
          1975,
          1975,
          1975,
          1975,
          1975,
          1975,
          1975,
          1975,
          1975,
          1975,
          1976,
          1976,
          1976,
          1976,
          1976,
          1977,
          1977,
          1977,
          1977,
          1977,
          1978,
          1978,
          1979,
          1979,
          1979,
          1979,
          1979,
          1979,
          1979,
          1979,
          1980,
          1980,
          1980,
          1980,
          1980,
          1980,
          1980,
          1980,
          1980,
          1980,
          1980,
          1980,
          1980,
          1980,
          1980,
          1980,
          1980,
          1980,
          1981,
          1981,
          1982,
          1982,
          1982,
          1983,
          1984,
          1984,
          1985,
          1985,
          1985,
          1985,
          1985,
          1985,
          1985,
          1986,
          1986,
          1986,
          1986,
          1987,
          1987,
          1988,
          1988,
          1988,
          1988,
          1988,
          1989,
          1989,
          1989,
          1989,
          1989,
          1989,
          1990,
          1990,
          1990,
          1990,
          1990,
          1990,
          1990,
          1990,
          1992,
          1992,
          1992,
          1992,
          1992,
          1992,
          1993,
          1993,
          1994,
          1994,
          1994,
          1995,
          1995,
          1995,
          1995,
          1995,
          1995,
          1996,
          1996,
          1996,
          1996,
          1997,
          1997,
          1997,
          1998,
          1998,
          1998,
          1998,
          1998,
          1998,
          1998,
          1998,
          1998,
          1998,
          1998,
          1999,
          1999,
          1999,
          1999,
          1999,
          1999,
          2000,
          2000,
          2000,
          2000,
          2000,
          2000,
          2000,
          2001,
          2001,
          2001,
          2001,
          2001,
          2001,
          2002,
          2002,
          2002,
          2002,
          2003,
          2003,
          2003,
          2004,
          2004,
          2004,
          2004,
          2004,
          2004,
          2004,
          2004,
          2004,
          2005,
          2005,
          2005,
          2005,
          2005,
          2005,
          2005,
          2005,
          2005,
          2005,
          2005,
          2005,
          2005,
          2006,
          2006,
          2006,
          2006,
          2006,
          2006,
          2006,
          2006,
          2006,
          2006,
          2006,
          2007,
          2007,
          2007,
          2007,
          2007,
          2007,
          2008,
          2008,
          2008,
          2008,
          2008,
          2008,
          2008,
          2008,
          2008,
          2009,
          2009,
          2009,
          2009,
          2009,
          2009,
          2010,
          2010,
          2010,
          2010,
          2010,
          2010,
          2010,
          2011,
          2011,
          2011,
          2011,
          2011,
          2011,
          2011,
          2011,
          2011,
          2012,
          2012,
          2012,
          2012,
          2012,
          2012,
          2012,
          2012,
          2012,
          2013,
          2013,
          2013,
          2013,
          2013,
          2013,
          2013,
          2014,
          2014,
          2014,
          2014,
          2014,
          2014,
          2014,
          2014,
          2015,
          2015,
          2015,
          2015,
          2015,
          2016,
          2016,
          2017,
          2017,
          2017,
          2017,
          2018,
          2018,
          2018,
          2018,
          2018,
          2018,
          2018,
          2018,
          2018,
          2018,
          2018,
          2018,
          2018,
          2019,
          2019,
          2019,
          2019,
          2019,
          2019,
          2019,
          2019,
          2019,
          2020,
          2020,
          2020,
          2020,
          2020,
          2020,
          2020,
          2021,
          2021,
          2021,
          2021,
          2021,
          2021,
          2022,
          2022,
          2022,
          2022,
          2022,
          2022,
          2022,
          2022,
          2022,
          2022,
          2023,
          2023
         ],
         "xaxis": "x",
         "y": [
          341754.2521268964,
          342412.3806995135,
          342675.63212856033,
          342807.2578430838,
          343004.69641486893,
          343333.7607011775,
          343333.7607011775,
          344123.5149883181,
          344650.0178464118,
          344650.0178464118,
          344650.0178464118,
          344650.0178464118,
          344650.0178464118,
          344650.0178464118,
          345308.14641902887,
          345308.14641902887,
          345308.14641902887,
          345308.14641902887,
          345308.14641902887,
          345308.14641902887,
          345308.14641902887,
          345373.9592762906,
          345637.21070533746,
          345966.27499164606,
          345966.27499164606,
          346097.9007061694,
          346295.3392779546,
          346624.40356426314,
          346624.40356426314,
          346624.40356426314,
          346624.40356426314,
          346624.40356426314,
          346624.40356426314,
          346624.40356426314,
          346624.40356426314,
          346624.40356426314,
          346624.40356426314,
          346624.40356426314,
          346624.40356426314,
          346624.40356426314,
          346624.40356426314,
          346624.40356426314,
          346624.40356426314,
          346624.40356426314,
          346624.40356426314,
          346624.40356426314,
          346624.40356426314,
          346624.40356426314,
          346624.40356426314,
          346624.40356426314,
          346624.40356426314,
          346690.2164215249,
          346756.0292787866,
          346821.8421360483,
          346887.65499331,
          347282.5321368803,
          347282.5321368803,
          347282.5321368803,
          347282.5321368803,
          347282.5321368803,
          347282.5321368803,
          347282.5321368803,
          347282.5321368803,
          347611.59642318886,
          347809.034994974,
          348006.47356675914,
          348269.724995806,
          348335.5378530677,
          348401.3507103294,
          348598.78928211454,
          348598.78928211454,
          348598.78928211454,
          348598.78928211454,
          348796.2278538997,
          348862.0407111614,
          348862.0407111614,
          349256.91785473167,
          349256.91785473167,
          349256.91785473167,
          349256.91785473167,
          349585.98214104027,
          349585.98214104027,
          349585.98214104027,
          349585.98214104027,
          349717.6078555637,
          349717.6078555637,
          349849.2335700871,
          349915.0464273488,
          349915.0464273488,
          349915.0464273488,
          349915.0464273488,
          349915.0464273488,
          349915.0464273488,
          349915.0464273488,
          349915.0464273488,
          349915.0464273488,
          349915.0464273488,
          349915.0464273488,
          349915.0464273488,
          349915.0464273488,
          349915.0464273488,
          349915.0464273488,
          349915.0464273488,
          349915.0464273488,
          349915.0464273488,
          349915.0464273488,
          349915.0464273488,
          349915.0464273488,
          349915.0464273488,
          349915.0464273488,
          349915.0464273488,
          349915.0464273488,
          349915.0464273488,
          349915.0464273488,
          349915.0464273488,
          349915.0464273488,
          349915.0464273488,
          349915.0464273488,
          349915.0464273488,
          349915.0464273488,
          349915.0464273488,
          349915.0464273488,
          349915.0464273488,
          349915.0464273488,
          349915.0464273488,
          349915.0464273488,
          349915.0464273488,
          349915.0464273488,
          349915.0464273488,
          349915.0464273488,
          349915.0464273488,
          349915.0464273488,
          350046.67214187223,
          350112.484999134,
          350112.484999134,
          350309.9235709191,
          350309.9235709191,
          350441.5492854425,
          350507.36214270425,
          350573.17499996594,
          350573.17499996594,
          350573.17499996594,
          350573.17499996594,
          350573.17499996594,
          350902.23928627453,
          350902.23928627453,
          350968.0521435362,
          351099.67785805964,
          351099.67785805964,
          351099.67785805964,
          351165.4907153214,
          351165.4907153214,
          351165.4907153214,
          351165.4907153214,
          351231.30357258307,
          351231.30357258307,
          351231.30357258307,
          351231.30357258307,
          351231.30357258307,
          351231.30357258307,
          351231.30357258307,
          351231.30357258307,
          351231.30357258307,
          351231.30357258307,
          351231.30357258307,
          351362.9292871065,
          351362.9292871065,
          351362.9292871065,
          351362.9292871065,
          351494.5550016299,
          351494.5550016299,
          351494.5550016299,
          351494.5550016299,
          351494.5550016299,
          351560.36785889167,
          351560.36785889167,
          351626.18071615335,
          351626.18071615335,
          351626.18071615335,
          351626.18071615335,
          351691.9935734151,
          351691.9935734151,
          351691.9935734151,
          351757.8064306768,
          351757.8064306768,
          351757.8064306768,
          351757.8064306768,
          351823.6192879385,
          351823.6192879385,
          351823.6192879385,
          351823.6192879385,
          351889.4321452002,
          351889.4321452002,
          351889.4321452002,
          351889.4321452002,
          351889.4321452002,
          351889.4321452002,
          351889.4321452002,
          351889.4321452002,
          351889.4321452002,
          351889.4321452002,
          351889.4321452002,
          351889.4321452002,
          351889.4321452002,
          351889.4321452002,
          351889.4321452002,
          351889.4321452002,
          351889.4321452002,
          351889.4321452002,
          351889.4321452002,
          351889.4321452002,
          351889.4321452002,
          351889.4321452002,
          351889.4321452002,
          351889.4321452002,
          351889.4321452002,
          351889.4321452002,
          351889.4321452002,
          351889.4321452002,
          351889.4321452002,
          351955.24500246195,
          351955.24500246195,
          351955.24500246195,
          352021.05785972363,
          352021.05785972363,
          352021.05785972363,
          352021.05785972363,
          352086.8707169854,
          352086.8707169854,
          352086.8707169854,
          352152.68357424706,
          352152.68357424706,
          352152.68357424706,
          352152.68357424706,
          352152.68357424706,
          352218.4964315088,
          352218.4964315088,
          352218.4964315088,
          352218.4964315088,
          352218.4964315088,
          352218.4964315088,
          352218.4964315088,
          352218.4964315088,
          352218.4964315088,
          352218.4964315088,
          352218.4964315088,
          352218.4964315088,
          352284.3092887705,
          352350.1221460322,
          352350.1221460322,
          352350.1221460322,
          352350.1221460322,
          352350.1221460322,
          352350.1221460322,
          352415.9350032939,
          352415.9350032939,
          352415.9350032939,
          352415.9350032939,
          352415.9350032939,
          352415.9350032939,
          352415.9350032939,
          352415.9350032939,
          352415.9350032939,
          352415.9350032939,
          352481.74786055565,
          352481.74786055565,
          352481.74786055565,
          352481.74786055565,
          352547.56071781734,
          352547.56071781734,
          352547.56071781734,
          352547.56071781734,
          352547.56071781734,
          352547.56071781734,
          352547.56071781734,
          352547.56071781734,
          352547.56071781734,
          352547.56071781734,
          352547.56071781734,
          352547.56071781734,
          352547.56071781734,
          352547.56071781734,
          352547.56071781734,
          352547.56071781734,
          352547.56071781734,
          352547.56071781734,
          352547.56071781734,
          352547.56071781734,
          352547.56071781734,
          352547.56071781734,
          352547.56071781734,
          352547.56071781734,
          352547.56071781734,
          352547.56071781734,
          352547.56071781734,
          352547.56071781734,
          352547.56071781734,
          352547.56071781734,
          352547.56071781734,
          352547.56071781734,
          352547.56071781734,
          352547.56071781734,
          352547.56071781734,
          352547.56071781734,
          352547.56071781734,
          352547.56071781734,
          352547.56071781734,
          352547.56071781734,
          352547.56071781734,
          352547.56071781734,
          352547.56071781734,
          352547.56071781734,
          352547.56071781734,
          352547.56071781734,
          352547.56071781734,
          352547.56071781734,
          352547.56071781734,
          352547.56071781734,
          352547.56071781734,
          352547.56071781734,
          352547.56071781734,
          352547.56071781734,
          352547.56071781734,
          352547.56071781734,
          352547.56071781734,
          352547.56071781734,
          352547.56071781734,
          352613.3735750791,
          352613.3735750791,
          352613.3735750791,
          352613.3735750791,
          352613.3735750791,
          352613.3735750791,
          352679.18643234076,
          352679.18643234076,
          352679.18643234076,
          352679.18643234076,
          352679.18643234076,
          352679.18643234076,
          352679.18643234076,
          352679.18643234076,
          352679.18643234076,
          352679.18643234076,
          352679.18643234076,
          352744.9992896025,
          352744.9992896025,
          352744.9992896025,
          352744.9992896025,
          352744.9992896025,
          352744.9992896025,
          352744.9992896025,
          352744.9992896025,
          352744.9992896025,
          352810.8121468642,
          352810.8121468642,
          352810.8121468642,
          352810.8121468642,
          352810.8121468642,
          352810.8121468642,
          352810.8121468642,
          352810.8121468642,
          352810.8121468642,
          352810.8121468642,
          352810.8121468642,
          352810.8121468642,
          352810.8121468642,
          352810.8121468642,
          352810.8121468642,
          352876.62500412593,
          352876.62500412593,
          352876.62500412593,
          352876.62500412593,
          352876.62500412593,
          352876.62500412593,
          352876.62500412593,
          352876.62500412593,
          352876.62500412593,
          352876.62500412593,
          352876.62500412593,
          352876.62500412593,
          352942.4378613876,
          352942.4378613876,
          352942.4378613876,
          352942.4378613876,
          352942.4378613876,
          353008.25071864936,
          353008.25071864936,
          353008.25071864936,
          353008.25071864936,
          353008.25071864936,
          353074.06357591104,
          353074.06357591104,
          353139.8764331728,
          353139.8764331728,
          353139.8764331728,
          353139.8764331728,
          353139.8764331728,
          353139.8764331728,
          353139.8764331728,
          353139.8764331728,
          353205.6892904345,
          353205.6892904345,
          353205.6892904345,
          353205.6892904345,
          353205.6892904345,
          353205.6892904345,
          353205.6892904345,
          353205.6892904345,
          353205.6892904345,
          353205.6892904345,
          353205.6892904345,
          353205.6892904345,
          353205.6892904345,
          353205.6892904345,
          353205.6892904345,
          353205.6892904345,
          353205.6892904345,
          353205.6892904345,
          353271.5021476962,
          353271.5021476962,
          353337.3150049579,
          353337.3150049579,
          353337.3150049579,
          353403.12786221964,
          353468.9407194813,
          353468.9407194813,
          353534.75357674307,
          353534.75357674307,
          353534.75357674307,
          353534.75357674307,
          353534.75357674307,
          353534.75357674307,
          353534.75357674307,
          353600.56643400475,
          353600.56643400475,
          353600.56643400475,
          353600.56643400475,
          353666.3792912665,
          353666.3792912665,
          353732.1921485282,
          353732.1921485282,
          353732.1921485282,
          353732.1921485282,
          353732.1921485282,
          353798.0050057899,
          353798.0050057899,
          353798.0050057899,
          353798.0050057899,
          353798.0050057899,
          353798.0050057899,
          353863.8178630516,
          353863.8178630516,
          353863.8178630516,
          353863.8178630516,
          353863.8178630516,
          353863.8178630516,
          353863.8178630516,
          353863.8178630516,
          353995.44357757503,
          353995.44357757503,
          353995.44357757503,
          353995.44357757503,
          353995.44357757503,
          353995.44357757503,
          354061.2564348368,
          354061.2564348368,
          354127.06929209846,
          354127.06929209846,
          354127.06929209846,
          354192.88214936014,
          354192.88214936014,
          354192.88214936014,
          354192.88214936014,
          354192.88214936014,
          354192.88214936014,
          354258.6950066219,
          354258.6950066219,
          354258.6950066219,
          354258.6950066219,
          354324.5078638836,
          354324.5078638836,
          354324.5078638836,
          354390.3207211453,
          354390.3207211453,
          354390.3207211453,
          354390.3207211453,
          354390.3207211453,
          354390.3207211453,
          354390.3207211453,
          354390.3207211453,
          354390.3207211453,
          354390.3207211453,
          354390.3207211453,
          354456.133578407,
          354456.133578407,
          354456.133578407,
          354456.133578407,
          354456.133578407,
          354456.133578407,
          354521.94643566874,
          354521.94643566874,
          354521.94643566874,
          354521.94643566874,
          354521.94643566874,
          354521.94643566874,
          354521.94643566874,
          354587.7592929305,
          354587.7592929305,
          354587.7592929305,
          354587.7592929305,
          354587.7592929305,
          354587.7592929305,
          354653.57215019217,
          354653.57215019217,
          354653.57215019217,
          354653.57215019217,
          354719.38500745385,
          354719.38500745385,
          354719.38500745385,
          354785.1978647156,
          354785.1978647156,
          354785.1978647156,
          354785.1978647156,
          354785.1978647156,
          354785.1978647156,
          354785.1978647156,
          354785.1978647156,
          354785.1978647156,
          354851.01072197733,
          354851.01072197733,
          354851.01072197733,
          354851.01072197733,
          354851.01072197733,
          354851.01072197733,
          354851.01072197733,
          354851.01072197733,
          354851.01072197733,
          354851.01072197733,
          354851.01072197733,
          354851.01072197733,
          354851.01072197733,
          354916.823579239,
          354916.823579239,
          354916.823579239,
          354916.823579239,
          354916.823579239,
          354916.823579239,
          354916.823579239,
          354916.823579239,
          354916.823579239,
          354916.823579239,
          354916.823579239,
          354982.6364365007,
          354982.6364365007,
          354982.6364365007,
          354982.6364365007,
          354982.6364365007,
          354982.6364365007,
          355048.44929376245,
          355048.44929376245,
          355048.44929376245,
          355048.44929376245,
          355048.44929376245,
          355048.44929376245,
          355048.44929376245,
          355048.44929376245,
          355048.44929376245,
          355114.2621510242,
          355114.2621510242,
          355114.2621510242,
          355114.2621510242,
          355114.2621510242,
          355114.2621510242,
          355180.0750082859,
          355180.0750082859,
          355180.0750082859,
          355180.0750082859,
          355180.0750082859,
          355180.0750082859,
          355180.0750082859,
          355245.88786554756,
          355245.88786554756,
          355245.88786554756,
          355245.88786554756,
          355245.88786554756,
          355245.88786554756,
          355245.88786554756,
          355245.88786554756,
          355245.88786554756,
          355311.7007228093,
          355311.7007228093,
          355311.7007228093,
          355311.7007228093,
          355311.7007228093,
          355311.7007228093,
          355311.7007228093,
          355311.7007228093,
          355311.7007228093,
          355377.51358007104,
          355377.51358007104,
          355377.51358007104,
          355377.51358007104,
          355377.51358007104,
          355377.51358007104,
          355377.51358007104,
          355443.3264373327,
          355443.3264373327,
          355443.3264373327,
          355443.3264373327,
          355443.3264373327,
          355443.3264373327,
          355443.3264373327,
          355443.3264373327,
          355509.1392945944,
          355509.1392945944,
          355509.1392945944,
          355509.1392945944,
          355509.1392945944,
          355574.95215185615,
          355574.95215185615,
          355640.7650091179,
          355640.7650091179,
          355640.7650091179,
          355640.7650091179,
          355706.5778663796,
          355706.5778663796,
          355706.5778663796,
          355706.5778663796,
          355706.5778663796,
          355706.5778663796,
          355706.5778663796,
          355706.5778663796,
          355706.5778663796,
          355706.5778663796,
          355706.5778663796,
          355706.5778663796,
          355706.5778663796,
          355772.39072364126,
          355772.39072364126,
          355772.39072364126,
          355772.39072364126,
          355772.39072364126,
          355772.39072364126,
          355772.39072364126,
          355772.39072364126,
          355772.39072364126,
          355838.203580903,
          355838.203580903,
          355838.203580903,
          355838.203580903,
          355838.203580903,
          355838.203580903,
          355838.203580903,
          355904.01643816475,
          355904.01643816475,
          355904.01643816475,
          355904.01643816475,
          355904.01643816475,
          355904.01643816475,
          355969.82929542643,
          355969.82929542643,
          355969.82929542643,
          355969.82929542643,
          355969.82929542643,
          355969.82929542643,
          355969.82929542643,
          355969.82929542643,
          355969.82929542643,
          355969.82929542643,
          356035.6421526881,
          356035.6421526881
         ],
         "yaxis": "y"
        }
       ],
       "layout": {
        "legend": {
         "tracegroupgap": 0
        },
        "margin": {
         "t": 60
        },
        "template": {
         "data": {
          "bar": [
           {
            "error_x": {
             "color": "#2a3f5f"
            },
            "error_y": {
             "color": "#2a3f5f"
            },
            "marker": {
             "line": {
              "color": "#E5ECF6",
              "width": 0.5
             },
             "pattern": {
              "fillmode": "overlay",
              "size": 10,
              "solidity": 0.2
             }
            },
            "type": "bar"
           }
          ],
          "barpolar": [
           {
            "marker": {
             "line": {
              "color": "#E5ECF6",
              "width": 0.5
             },
             "pattern": {
              "fillmode": "overlay",
              "size": 10,
              "solidity": 0.2
             }
            },
            "type": "barpolar"
           }
          ],
          "carpet": [
           {
            "aaxis": {
             "endlinecolor": "#2a3f5f",
             "gridcolor": "white",
             "linecolor": "white",
             "minorgridcolor": "white",
             "startlinecolor": "#2a3f5f"
            },
            "baxis": {
             "endlinecolor": "#2a3f5f",
             "gridcolor": "white",
             "linecolor": "white",
             "minorgridcolor": "white",
             "startlinecolor": "#2a3f5f"
            },
            "type": "carpet"
           }
          ],
          "choropleth": [
           {
            "colorbar": {
             "outlinewidth": 0,
             "ticks": ""
            },
            "type": "choropleth"
           }
          ],
          "contour": [
           {
            "colorbar": {
             "outlinewidth": 0,
             "ticks": ""
            },
            "colorscale": [
             [
              0,
              "#0d0887"
             ],
             [
              0.1111111111111111,
              "#46039f"
             ],
             [
              0.2222222222222222,
              "#7201a8"
             ],
             [
              0.3333333333333333,
              "#9c179e"
             ],
             [
              0.4444444444444444,
              "#bd3786"
             ],
             [
              0.5555555555555556,
              "#d8576b"
             ],
             [
              0.6666666666666666,
              "#ed7953"
             ],
             [
              0.7777777777777778,
              "#fb9f3a"
             ],
             [
              0.8888888888888888,
              "#fdca26"
             ],
             [
              1,
              "#f0f921"
             ]
            ],
            "type": "contour"
           }
          ],
          "contourcarpet": [
           {
            "colorbar": {
             "outlinewidth": 0,
             "ticks": ""
            },
            "type": "contourcarpet"
           }
          ],
          "heatmap": [
           {
            "colorbar": {
             "outlinewidth": 0,
             "ticks": ""
            },
            "colorscale": [
             [
              0,
              "#0d0887"
             ],
             [
              0.1111111111111111,
              "#46039f"
             ],
             [
              0.2222222222222222,
              "#7201a8"
             ],
             [
              0.3333333333333333,
              "#9c179e"
             ],
             [
              0.4444444444444444,
              "#bd3786"
             ],
             [
              0.5555555555555556,
              "#d8576b"
             ],
             [
              0.6666666666666666,
              "#ed7953"
             ],
             [
              0.7777777777777778,
              "#fb9f3a"
             ],
             [
              0.8888888888888888,
              "#fdca26"
             ],
             [
              1,
              "#f0f921"
             ]
            ],
            "type": "heatmap"
           }
          ],
          "heatmapgl": [
           {
            "colorbar": {
             "outlinewidth": 0,
             "ticks": ""
            },
            "colorscale": [
             [
              0,
              "#0d0887"
             ],
             [
              0.1111111111111111,
              "#46039f"
             ],
             [
              0.2222222222222222,
              "#7201a8"
             ],
             [
              0.3333333333333333,
              "#9c179e"
             ],
             [
              0.4444444444444444,
              "#bd3786"
             ],
             [
              0.5555555555555556,
              "#d8576b"
             ],
             [
              0.6666666666666666,
              "#ed7953"
             ],
             [
              0.7777777777777778,
              "#fb9f3a"
             ],
             [
              0.8888888888888888,
              "#fdca26"
             ],
             [
              1,
              "#f0f921"
             ]
            ],
            "type": "heatmapgl"
           }
          ],
          "histogram": [
           {
            "marker": {
             "pattern": {
              "fillmode": "overlay",
              "size": 10,
              "solidity": 0.2
             }
            },
            "type": "histogram"
           }
          ],
          "histogram2d": [
           {
            "colorbar": {
             "outlinewidth": 0,
             "ticks": ""
            },
            "colorscale": [
             [
              0,
              "#0d0887"
             ],
             [
              0.1111111111111111,
              "#46039f"
             ],
             [
              0.2222222222222222,
              "#7201a8"
             ],
             [
              0.3333333333333333,
              "#9c179e"
             ],
             [
              0.4444444444444444,
              "#bd3786"
             ],
             [
              0.5555555555555556,
              "#d8576b"
             ],
             [
              0.6666666666666666,
              "#ed7953"
             ],
             [
              0.7777777777777778,
              "#fb9f3a"
             ],
             [
              0.8888888888888888,
              "#fdca26"
             ],
             [
              1,
              "#f0f921"
             ]
            ],
            "type": "histogram2d"
           }
          ],
          "histogram2dcontour": [
           {
            "colorbar": {
             "outlinewidth": 0,
             "ticks": ""
            },
            "colorscale": [
             [
              0,
              "#0d0887"
             ],
             [
              0.1111111111111111,
              "#46039f"
             ],
             [
              0.2222222222222222,
              "#7201a8"
             ],
             [
              0.3333333333333333,
              "#9c179e"
             ],
             [
              0.4444444444444444,
              "#bd3786"
             ],
             [
              0.5555555555555556,
              "#d8576b"
             ],
             [
              0.6666666666666666,
              "#ed7953"
             ],
             [
              0.7777777777777778,
              "#fb9f3a"
             ],
             [
              0.8888888888888888,
              "#fdca26"
             ],
             [
              1,
              "#f0f921"
             ]
            ],
            "type": "histogram2dcontour"
           }
          ],
          "mesh3d": [
           {
            "colorbar": {
             "outlinewidth": 0,
             "ticks": ""
            },
            "type": "mesh3d"
           }
          ],
          "parcoords": [
           {
            "line": {
             "colorbar": {
              "outlinewidth": 0,
              "ticks": ""
             }
            },
            "type": "parcoords"
           }
          ],
          "pie": [
           {
            "automargin": true,
            "type": "pie"
           }
          ],
          "scatter": [
           {
            "fillpattern": {
             "fillmode": "overlay",
             "size": 10,
             "solidity": 0.2
            },
            "type": "scatter"
           }
          ],
          "scatter3d": [
           {
            "line": {
             "colorbar": {
              "outlinewidth": 0,
              "ticks": ""
             }
            },
            "marker": {
             "colorbar": {
              "outlinewidth": 0,
              "ticks": ""
             }
            },
            "type": "scatter3d"
           }
          ],
          "scattercarpet": [
           {
            "marker": {
             "colorbar": {
              "outlinewidth": 0,
              "ticks": ""
             }
            },
            "type": "scattercarpet"
           }
          ],
          "scattergeo": [
           {
            "marker": {
             "colorbar": {
              "outlinewidth": 0,
              "ticks": ""
             }
            },
            "type": "scattergeo"
           }
          ],
          "scattergl": [
           {
            "marker": {
             "colorbar": {
              "outlinewidth": 0,
              "ticks": ""
             }
            },
            "type": "scattergl"
           }
          ],
          "scattermapbox": [
           {
            "marker": {
             "colorbar": {
              "outlinewidth": 0,
              "ticks": ""
             }
            },
            "type": "scattermapbox"
           }
          ],
          "scatterpolar": [
           {
            "marker": {
             "colorbar": {
              "outlinewidth": 0,
              "ticks": ""
             }
            },
            "type": "scatterpolar"
           }
          ],
          "scatterpolargl": [
           {
            "marker": {
             "colorbar": {
              "outlinewidth": 0,
              "ticks": ""
             }
            },
            "type": "scatterpolargl"
           }
          ],
          "scatterternary": [
           {
            "marker": {
             "colorbar": {
              "outlinewidth": 0,
              "ticks": ""
             }
            },
            "type": "scatterternary"
           }
          ],
          "surface": [
           {
            "colorbar": {
             "outlinewidth": 0,
             "ticks": ""
            },
            "colorscale": [
             [
              0,
              "#0d0887"
             ],
             [
              0.1111111111111111,
              "#46039f"
             ],
             [
              0.2222222222222222,
              "#7201a8"
             ],
             [
              0.3333333333333333,
              "#9c179e"
             ],
             [
              0.4444444444444444,
              "#bd3786"
             ],
             [
              0.5555555555555556,
              "#d8576b"
             ],
             [
              0.6666666666666666,
              "#ed7953"
             ],
             [
              0.7777777777777778,
              "#fb9f3a"
             ],
             [
              0.8888888888888888,
              "#fdca26"
             ],
             [
              1,
              "#f0f921"
             ]
            ],
            "type": "surface"
           }
          ],
          "table": [
           {
            "cells": {
             "fill": {
              "color": "#EBF0F8"
             },
             "line": {
              "color": "white"
             }
            },
            "header": {
             "fill": {
              "color": "#C8D4E3"
             },
             "line": {
              "color": "white"
             }
            },
            "type": "table"
           }
          ]
         },
         "layout": {
          "annotationdefaults": {
           "arrowcolor": "#2a3f5f",
           "arrowhead": 0,
           "arrowwidth": 1
          },
          "autotypenumbers": "strict",
          "coloraxis": {
           "colorbar": {
            "outlinewidth": 0,
            "ticks": ""
           }
          },
          "colorscale": {
           "diverging": [
            [
             0,
             "#8e0152"
            ],
            [
             0.1,
             "#c51b7d"
            ],
            [
             0.2,
             "#de77ae"
            ],
            [
             0.3,
             "#f1b6da"
            ],
            [
             0.4,
             "#fde0ef"
            ],
            [
             0.5,
             "#f7f7f7"
            ],
            [
             0.6,
             "#e6f5d0"
            ],
            [
             0.7,
             "#b8e186"
            ],
            [
             0.8,
             "#7fbc41"
            ],
            [
             0.9,
             "#4d9221"
            ],
            [
             1,
             "#276419"
            ]
           ],
           "sequential": [
            [
             0,
             "#0d0887"
            ],
            [
             0.1111111111111111,
             "#46039f"
            ],
            [
             0.2222222222222222,
             "#7201a8"
            ],
            [
             0.3333333333333333,
             "#9c179e"
            ],
            [
             0.4444444444444444,
             "#bd3786"
            ],
            [
             0.5555555555555556,
             "#d8576b"
            ],
            [
             0.6666666666666666,
             "#ed7953"
            ],
            [
             0.7777777777777778,
             "#fb9f3a"
            ],
            [
             0.8888888888888888,
             "#fdca26"
            ],
            [
             1,
             "#f0f921"
            ]
           ],
           "sequentialminus": [
            [
             0,
             "#0d0887"
            ],
            [
             0.1111111111111111,
             "#46039f"
            ],
            [
             0.2222222222222222,
             "#7201a8"
            ],
            [
             0.3333333333333333,
             "#9c179e"
            ],
            [
             0.4444444444444444,
             "#bd3786"
            ],
            [
             0.5555555555555556,
             "#d8576b"
            ],
            [
             0.6666666666666666,
             "#ed7953"
            ],
            [
             0.7777777777777778,
             "#fb9f3a"
            ],
            [
             0.8888888888888888,
             "#fdca26"
            ],
            [
             1,
             "#f0f921"
            ]
           ]
          },
          "colorway": [
           "#636efa",
           "#EF553B",
           "#00cc96",
           "#ab63fa",
           "#FFA15A",
           "#19d3f3",
           "#FF6692",
           "#B6E880",
           "#FF97FF",
           "#FECB52"
          ],
          "font": {
           "color": "#2a3f5f"
          },
          "geo": {
           "bgcolor": "white",
           "lakecolor": "white",
           "landcolor": "#E5ECF6",
           "showlakes": true,
           "showland": true,
           "subunitcolor": "white"
          },
          "hoverlabel": {
           "align": "left"
          },
          "hovermode": "closest",
          "mapbox": {
           "style": "light"
          },
          "paper_bgcolor": "white",
          "plot_bgcolor": "#E5ECF6",
          "polar": {
           "angularaxis": {
            "gridcolor": "white",
            "linecolor": "white",
            "ticks": ""
           },
           "bgcolor": "#E5ECF6",
           "radialaxis": {
            "gridcolor": "white",
            "linecolor": "white",
            "ticks": ""
           }
          },
          "scene": {
           "xaxis": {
            "backgroundcolor": "#E5ECF6",
            "gridcolor": "white",
            "gridwidth": 2,
            "linecolor": "white",
            "showbackground": true,
            "ticks": "",
            "zerolinecolor": "white"
           },
           "yaxis": {
            "backgroundcolor": "#E5ECF6",
            "gridcolor": "white",
            "gridwidth": 2,
            "linecolor": "white",
            "showbackground": true,
            "ticks": "",
            "zerolinecolor": "white"
           },
           "zaxis": {
            "backgroundcolor": "#E5ECF6",
            "gridcolor": "white",
            "gridwidth": 2,
            "linecolor": "white",
            "showbackground": true,
            "ticks": "",
            "zerolinecolor": "white"
           }
          },
          "shapedefaults": {
           "line": {
            "color": "#2a3f5f"
           }
          },
          "ternary": {
           "aaxis": {
            "gridcolor": "white",
            "linecolor": "white",
            "ticks": ""
           },
           "baxis": {
            "gridcolor": "white",
            "linecolor": "white",
            "ticks": ""
           },
           "bgcolor": "#E5ECF6",
           "caxis": {
            "gridcolor": "white",
            "linecolor": "white",
            "ticks": ""
           }
          },
          "title": {
           "x": 0.05
          },
          "xaxis": {
           "automargin": true,
           "gridcolor": "white",
           "linecolor": "white",
           "ticks": "",
           "title": {
            "standoff": 15
           },
           "zerolinecolor": "white",
           "zerolinewidth": 2
          },
          "yaxis": {
           "automargin": true,
           "gridcolor": "white",
           "linecolor": "white",
           "ticks": "",
           "title": {
            "standoff": 15
           },
           "zerolinecolor": "white",
           "zerolinewidth": 2
          }
         }
        },
        "xaxis": {
         "anchor": "y",
         "domain": [
          0,
          1
         ],
         "title": {
          "text": "annee_constr"
         }
        },
        "yaxis": {
         "anchor": "x",
         "domain": [
          0,
          1
         ],
         "title": {
          "text": "prix"
         }
        }
       }
      }
     },
     "metadata": {},
     "output_type": "display_data"
    }
   ],
   "source": [
    "\n",
    "# filter out the rows where annee_constr is equal to 0\n",
    "data2 = data[data['annee_constr'] > 1800]\n",
    "\n",
    "# plot the data\n",
    "fig = px.scatter(data2, x='annee_constr', y='prix', trendline='ols')\n",
    "\n",
    "# show plot\n",
    "fig.show()\n"
   ]
  },
  {
   "cell_type": "markdown",
   "metadata": {},
   "source": [
    "### Analyse des features des logements"
   ]
  },
  {
   "cell_type": "code",
   "execution_count": 37,
   "metadata": {},
   "outputs": [],
   "source": [
    "#on peut mettre les lofts dans la catégorie 'appartement' pour une meilleure lisibilité\n",
    "data['type'] = data['type'].replace('Loft', 'Appartement')\n"
   ]
  },
  {
   "cell_type": "code",
   "execution_count": 38,
   "metadata": {},
   "outputs": [
    {
     "name": "stderr",
     "output_type": "stream",
     "text": [
      "C:\\Users\\Jade Esper\\AppData\\Local\\Temp\\ipykernel_15796\\4008610296.py:2: FutureWarning:\n",
      "\n",
      "The default value of numeric_only in DataFrameGroupBy.mean is deprecated. In a future version, numeric_only will default to False. Either specify numeric_only or select only columns which should be valid for the function.\n",
      "\n"
     ]
    },
    {
     "data": {
      "application/vnd.plotly.v1+json": {
       "config": {
        "plotlyServerURL": "https://plot.ly"
       },
       "data": [
        {
         "alignmentgroup": "True",
         "hovertemplate": "type=%{y}<br>nb_features_int=%{x}<extra></extra>",
         "legendgroup": "Appartement",
         "marker": {
          "color": "#636efa",
          "pattern": {
           "shape": ""
          }
         },
         "name": "Appartement",
         "offsetgroup": "Appartement",
         "orientation": "h",
         "showlegend": true,
         "textposition": "auto",
         "type": "bar",
         "x": [
          4.700581395348837
         ],
         "xaxis": "x",
         "y": [
          "Appartement"
         ],
         "yaxis": "y"
        },
        {
         "alignmentgroup": "True",
         "hovertemplate": "type=%{y}<br>nb_features_int=%{x}<extra></extra>",
         "legendgroup": "Maison",
         "marker": {
          "color": "#EF553B",
          "pattern": {
           "shape": ""
          }
         },
         "name": "Maison",
         "offsetgroup": "Maison",
         "orientation": "h",
         "showlegend": true,
         "textposition": "auto",
         "type": "bar",
         "x": [
          3.8349514563106797
         ],
         "xaxis": "x",
         "y": [
          "Maison"
         ],
         "yaxis": "y"
        }
       ],
       "layout": {
        "barmode": "relative",
        "legend": {
         "title": {
          "text": "type"
         },
         "tracegroupgap": 0
        },
        "margin": {
         "t": 60
        },
        "template": {
         "data": {
          "bar": [
           {
            "error_x": {
             "color": "#2a3f5f"
            },
            "error_y": {
             "color": "#2a3f5f"
            },
            "marker": {
             "line": {
              "color": "#E5ECF6",
              "width": 0.5
             },
             "pattern": {
              "fillmode": "overlay",
              "size": 10,
              "solidity": 0.2
             }
            },
            "type": "bar"
           }
          ],
          "barpolar": [
           {
            "marker": {
             "line": {
              "color": "#E5ECF6",
              "width": 0.5
             },
             "pattern": {
              "fillmode": "overlay",
              "size": 10,
              "solidity": 0.2
             }
            },
            "type": "barpolar"
           }
          ],
          "carpet": [
           {
            "aaxis": {
             "endlinecolor": "#2a3f5f",
             "gridcolor": "white",
             "linecolor": "white",
             "minorgridcolor": "white",
             "startlinecolor": "#2a3f5f"
            },
            "baxis": {
             "endlinecolor": "#2a3f5f",
             "gridcolor": "white",
             "linecolor": "white",
             "minorgridcolor": "white",
             "startlinecolor": "#2a3f5f"
            },
            "type": "carpet"
           }
          ],
          "choropleth": [
           {
            "colorbar": {
             "outlinewidth": 0,
             "ticks": ""
            },
            "type": "choropleth"
           }
          ],
          "contour": [
           {
            "colorbar": {
             "outlinewidth": 0,
             "ticks": ""
            },
            "colorscale": [
             [
              0,
              "#0d0887"
             ],
             [
              0.1111111111111111,
              "#46039f"
             ],
             [
              0.2222222222222222,
              "#7201a8"
             ],
             [
              0.3333333333333333,
              "#9c179e"
             ],
             [
              0.4444444444444444,
              "#bd3786"
             ],
             [
              0.5555555555555556,
              "#d8576b"
             ],
             [
              0.6666666666666666,
              "#ed7953"
             ],
             [
              0.7777777777777778,
              "#fb9f3a"
             ],
             [
              0.8888888888888888,
              "#fdca26"
             ],
             [
              1,
              "#f0f921"
             ]
            ],
            "type": "contour"
           }
          ],
          "contourcarpet": [
           {
            "colorbar": {
             "outlinewidth": 0,
             "ticks": ""
            },
            "type": "contourcarpet"
           }
          ],
          "heatmap": [
           {
            "colorbar": {
             "outlinewidth": 0,
             "ticks": ""
            },
            "colorscale": [
             [
              0,
              "#0d0887"
             ],
             [
              0.1111111111111111,
              "#46039f"
             ],
             [
              0.2222222222222222,
              "#7201a8"
             ],
             [
              0.3333333333333333,
              "#9c179e"
             ],
             [
              0.4444444444444444,
              "#bd3786"
             ],
             [
              0.5555555555555556,
              "#d8576b"
             ],
             [
              0.6666666666666666,
              "#ed7953"
             ],
             [
              0.7777777777777778,
              "#fb9f3a"
             ],
             [
              0.8888888888888888,
              "#fdca26"
             ],
             [
              1,
              "#f0f921"
             ]
            ],
            "type": "heatmap"
           }
          ],
          "heatmapgl": [
           {
            "colorbar": {
             "outlinewidth": 0,
             "ticks": ""
            },
            "colorscale": [
             [
              0,
              "#0d0887"
             ],
             [
              0.1111111111111111,
              "#46039f"
             ],
             [
              0.2222222222222222,
              "#7201a8"
             ],
             [
              0.3333333333333333,
              "#9c179e"
             ],
             [
              0.4444444444444444,
              "#bd3786"
             ],
             [
              0.5555555555555556,
              "#d8576b"
             ],
             [
              0.6666666666666666,
              "#ed7953"
             ],
             [
              0.7777777777777778,
              "#fb9f3a"
             ],
             [
              0.8888888888888888,
              "#fdca26"
             ],
             [
              1,
              "#f0f921"
             ]
            ],
            "type": "heatmapgl"
           }
          ],
          "histogram": [
           {
            "marker": {
             "pattern": {
              "fillmode": "overlay",
              "size": 10,
              "solidity": 0.2
             }
            },
            "type": "histogram"
           }
          ],
          "histogram2d": [
           {
            "colorbar": {
             "outlinewidth": 0,
             "ticks": ""
            },
            "colorscale": [
             [
              0,
              "#0d0887"
             ],
             [
              0.1111111111111111,
              "#46039f"
             ],
             [
              0.2222222222222222,
              "#7201a8"
             ],
             [
              0.3333333333333333,
              "#9c179e"
             ],
             [
              0.4444444444444444,
              "#bd3786"
             ],
             [
              0.5555555555555556,
              "#d8576b"
             ],
             [
              0.6666666666666666,
              "#ed7953"
             ],
             [
              0.7777777777777778,
              "#fb9f3a"
             ],
             [
              0.8888888888888888,
              "#fdca26"
             ],
             [
              1,
              "#f0f921"
             ]
            ],
            "type": "histogram2d"
           }
          ],
          "histogram2dcontour": [
           {
            "colorbar": {
             "outlinewidth": 0,
             "ticks": ""
            },
            "colorscale": [
             [
              0,
              "#0d0887"
             ],
             [
              0.1111111111111111,
              "#46039f"
             ],
             [
              0.2222222222222222,
              "#7201a8"
             ],
             [
              0.3333333333333333,
              "#9c179e"
             ],
             [
              0.4444444444444444,
              "#bd3786"
             ],
             [
              0.5555555555555556,
              "#d8576b"
             ],
             [
              0.6666666666666666,
              "#ed7953"
             ],
             [
              0.7777777777777778,
              "#fb9f3a"
             ],
             [
              0.8888888888888888,
              "#fdca26"
             ],
             [
              1,
              "#f0f921"
             ]
            ],
            "type": "histogram2dcontour"
           }
          ],
          "mesh3d": [
           {
            "colorbar": {
             "outlinewidth": 0,
             "ticks": ""
            },
            "type": "mesh3d"
           }
          ],
          "parcoords": [
           {
            "line": {
             "colorbar": {
              "outlinewidth": 0,
              "ticks": ""
             }
            },
            "type": "parcoords"
           }
          ],
          "pie": [
           {
            "automargin": true,
            "type": "pie"
           }
          ],
          "scatter": [
           {
            "fillpattern": {
             "fillmode": "overlay",
             "size": 10,
             "solidity": 0.2
            },
            "type": "scatter"
           }
          ],
          "scatter3d": [
           {
            "line": {
             "colorbar": {
              "outlinewidth": 0,
              "ticks": ""
             }
            },
            "marker": {
             "colorbar": {
              "outlinewidth": 0,
              "ticks": ""
             }
            },
            "type": "scatter3d"
           }
          ],
          "scattercarpet": [
           {
            "marker": {
             "colorbar": {
              "outlinewidth": 0,
              "ticks": ""
             }
            },
            "type": "scattercarpet"
           }
          ],
          "scattergeo": [
           {
            "marker": {
             "colorbar": {
              "outlinewidth": 0,
              "ticks": ""
             }
            },
            "type": "scattergeo"
           }
          ],
          "scattergl": [
           {
            "marker": {
             "colorbar": {
              "outlinewidth": 0,
              "ticks": ""
             }
            },
            "type": "scattergl"
           }
          ],
          "scattermapbox": [
           {
            "marker": {
             "colorbar": {
              "outlinewidth": 0,
              "ticks": ""
             }
            },
            "type": "scattermapbox"
           }
          ],
          "scatterpolar": [
           {
            "marker": {
             "colorbar": {
              "outlinewidth": 0,
              "ticks": ""
             }
            },
            "type": "scatterpolar"
           }
          ],
          "scatterpolargl": [
           {
            "marker": {
             "colorbar": {
              "outlinewidth": 0,
              "ticks": ""
             }
            },
            "type": "scatterpolargl"
           }
          ],
          "scatterternary": [
           {
            "marker": {
             "colorbar": {
              "outlinewidth": 0,
              "ticks": ""
             }
            },
            "type": "scatterternary"
           }
          ],
          "surface": [
           {
            "colorbar": {
             "outlinewidth": 0,
             "ticks": ""
            },
            "colorscale": [
             [
              0,
              "#0d0887"
             ],
             [
              0.1111111111111111,
              "#46039f"
             ],
             [
              0.2222222222222222,
              "#7201a8"
             ],
             [
              0.3333333333333333,
              "#9c179e"
             ],
             [
              0.4444444444444444,
              "#bd3786"
             ],
             [
              0.5555555555555556,
              "#d8576b"
             ],
             [
              0.6666666666666666,
              "#ed7953"
             ],
             [
              0.7777777777777778,
              "#fb9f3a"
             ],
             [
              0.8888888888888888,
              "#fdca26"
             ],
             [
              1,
              "#f0f921"
             ]
            ],
            "type": "surface"
           }
          ],
          "table": [
           {
            "cells": {
             "fill": {
              "color": "#EBF0F8"
             },
             "line": {
              "color": "white"
             }
            },
            "header": {
             "fill": {
              "color": "#C8D4E3"
             },
             "line": {
              "color": "white"
             }
            },
            "type": "table"
           }
          ]
         },
         "layout": {
          "annotationdefaults": {
           "arrowcolor": "#2a3f5f",
           "arrowhead": 0,
           "arrowwidth": 1
          },
          "autotypenumbers": "strict",
          "coloraxis": {
           "colorbar": {
            "outlinewidth": 0,
            "ticks": ""
           }
          },
          "colorscale": {
           "diverging": [
            [
             0,
             "#8e0152"
            ],
            [
             0.1,
             "#c51b7d"
            ],
            [
             0.2,
             "#de77ae"
            ],
            [
             0.3,
             "#f1b6da"
            ],
            [
             0.4,
             "#fde0ef"
            ],
            [
             0.5,
             "#f7f7f7"
            ],
            [
             0.6,
             "#e6f5d0"
            ],
            [
             0.7,
             "#b8e186"
            ],
            [
             0.8,
             "#7fbc41"
            ],
            [
             0.9,
             "#4d9221"
            ],
            [
             1,
             "#276419"
            ]
           ],
           "sequential": [
            [
             0,
             "#0d0887"
            ],
            [
             0.1111111111111111,
             "#46039f"
            ],
            [
             0.2222222222222222,
             "#7201a8"
            ],
            [
             0.3333333333333333,
             "#9c179e"
            ],
            [
             0.4444444444444444,
             "#bd3786"
            ],
            [
             0.5555555555555556,
             "#d8576b"
            ],
            [
             0.6666666666666666,
             "#ed7953"
            ],
            [
             0.7777777777777778,
             "#fb9f3a"
            ],
            [
             0.8888888888888888,
             "#fdca26"
            ],
            [
             1,
             "#f0f921"
            ]
           ],
           "sequentialminus": [
            [
             0,
             "#0d0887"
            ],
            [
             0.1111111111111111,
             "#46039f"
            ],
            [
             0.2222222222222222,
             "#7201a8"
            ],
            [
             0.3333333333333333,
             "#9c179e"
            ],
            [
             0.4444444444444444,
             "#bd3786"
            ],
            [
             0.5555555555555556,
             "#d8576b"
            ],
            [
             0.6666666666666666,
             "#ed7953"
            ],
            [
             0.7777777777777778,
             "#fb9f3a"
            ],
            [
             0.8888888888888888,
             "#fdca26"
            ],
            [
             1,
             "#f0f921"
            ]
           ]
          },
          "colorway": [
           "#636efa",
           "#EF553B",
           "#00cc96",
           "#ab63fa",
           "#FFA15A",
           "#19d3f3",
           "#FF6692",
           "#B6E880",
           "#FF97FF",
           "#FECB52"
          ],
          "font": {
           "color": "#2a3f5f"
          },
          "geo": {
           "bgcolor": "white",
           "lakecolor": "white",
           "landcolor": "#E5ECF6",
           "showlakes": true,
           "showland": true,
           "subunitcolor": "white"
          },
          "hoverlabel": {
           "align": "left"
          },
          "hovermode": "closest",
          "mapbox": {
           "style": "light"
          },
          "paper_bgcolor": "white",
          "plot_bgcolor": "#E5ECF6",
          "polar": {
           "angularaxis": {
            "gridcolor": "white",
            "linecolor": "white",
            "ticks": ""
           },
           "bgcolor": "#E5ECF6",
           "radialaxis": {
            "gridcolor": "white",
            "linecolor": "white",
            "ticks": ""
           }
          },
          "scene": {
           "xaxis": {
            "backgroundcolor": "#E5ECF6",
            "gridcolor": "white",
            "gridwidth": 2,
            "linecolor": "white",
            "showbackground": true,
            "ticks": "",
            "zerolinecolor": "white"
           },
           "yaxis": {
            "backgroundcolor": "#E5ECF6",
            "gridcolor": "white",
            "gridwidth": 2,
            "linecolor": "white",
            "showbackground": true,
            "ticks": "",
            "zerolinecolor": "white"
           },
           "zaxis": {
            "backgroundcolor": "#E5ECF6",
            "gridcolor": "white",
            "gridwidth": 2,
            "linecolor": "white",
            "showbackground": true,
            "ticks": "",
            "zerolinecolor": "white"
           }
          },
          "shapedefaults": {
           "line": {
            "color": "#2a3f5f"
           }
          },
          "ternary": {
           "aaxis": {
            "gridcolor": "white",
            "linecolor": "white",
            "ticks": ""
           },
           "baxis": {
            "gridcolor": "white",
            "linecolor": "white",
            "ticks": ""
           },
           "bgcolor": "#E5ECF6",
           "caxis": {
            "gridcolor": "white",
            "linecolor": "white",
            "ticks": ""
           }
          },
          "title": {
           "x": 0.05
          },
          "xaxis": {
           "automargin": true,
           "gridcolor": "white",
           "linecolor": "white",
           "ticks": "",
           "title": {
            "standoff": 15
           },
           "zerolinecolor": "white",
           "zerolinewidth": 2
          },
          "yaxis": {
           "automargin": true,
           "gridcolor": "white",
           "linecolor": "white",
           "ticks": "",
           "title": {
            "standoff": 15
           },
           "zerolinecolor": "white",
           "zerolinewidth": 2
          }
         }
        },
        "title": {
         "text": "Moyenne du nombre de features interieurs en fonction du type de logement"
        },
        "xaxis": {
         "anchor": "y",
         "domain": [
          0,
          1
         ],
         "title": {
          "text": "Nombre de features"
         }
        },
        "yaxis": {
         "anchor": "x",
         "categoryarray": [
          "Maison",
          "Appartement"
         ],
         "categoryorder": "array",
         "domain": [
          0,
          1
         ],
         "title": {
          "text": "Type de logement"
         }
        }
       }
      }
     },
     "metadata": {},
     "output_type": "display_data"
    }
   ],
   "source": [
    "\n",
    "# on regarde le nombre de features moyen par type d'habitation\n",
    "grouped_df = data.groupby(by='type').mean()\n",
    "\n",
    "# On fait un bar plot horizontal\n",
    "fig = px.bar(grouped_df, x='nb_features_int', y=grouped_df.index, orientation='h', color=grouped_df.index)\n",
    "\n",
    "#on met un titre et des valeurs pour les axes\n",
    "fig.update_layout(\n",
    "    title='Moyenne du nombre de features interieurs en fonction du type de logement',\n",
    "    xaxis_title='Nombre de features',\n",
    "    yaxis_title=\"Type de logement\"\n",
    ")\n",
    "\n",
    "# Show the plot\n",
    "fig.show()\n"
   ]
  },
  {
   "cell_type": "code",
   "execution_count": 42,
   "metadata": {},
   "outputs": [],
   "source": [
    "data['nb_features_ext']= data['piscine']+data['place_parking']"
   ]
  },
  {
   "cell_type": "code",
   "execution_count": 46,
   "metadata": {},
   "outputs": [
    {
     "name": "stderr",
     "output_type": "stream",
     "text": [
      "C:\\Users\\Jade Esper\\AppData\\Local\\Temp\\ipykernel_15796\\145110136.py:3: FutureWarning:\n",
      "\n",
      "The default value of numeric_only in DataFrameGroupBy.mean is deprecated. In a future version, numeric_only will default to False. Either specify numeric_only or select only columns which should be valid for the function.\n",
      "\n"
     ]
    },
    {
     "data": {
      "application/vnd.plotly.v1+json": {
       "config": {
        "plotlyServerURL": "https://plot.ly"
       },
       "data": [
        {
         "alignmentgroup": "True",
         "hovertemplate": "type=%{y}<br>nb_features_ext=%{x}<extra></extra>",
         "legendgroup": "Appartement",
         "marker": {
          "color": "#636efa",
          "pattern": {
           "shape": ""
          }
         },
         "name": "Appartement",
         "offsetgroup": "Appartement",
         "orientation": "h",
         "showlegend": true,
         "textposition": "auto",
         "type": "bar",
         "x": [
          0.12063953488372094
         ],
         "xaxis": "x",
         "y": [
          "Appartement"
         ],
         "yaxis": "y"
        },
        {
         "alignmentgroup": "True",
         "hovertemplate": "type=%{y}<br>nb_features_ext=%{x}<extra></extra>",
         "legendgroup": "Maison",
         "marker": {
          "color": "#EF553B",
          "pattern": {
           "shape": ""
          }
         },
         "name": "Maison",
         "offsetgroup": "Maison",
         "orientation": "h",
         "showlegend": true,
         "textposition": "auto",
         "type": "bar",
         "x": [
          0.16990291262135923
         ],
         "xaxis": "x",
         "y": [
          "Maison"
         ],
         "yaxis": "y"
        }
       ],
       "layout": {
        "barmode": "relative",
        "legend": {
         "title": {
          "text": "type"
         },
         "tracegroupgap": 0
        },
        "margin": {
         "t": 60
        },
        "template": {
         "data": {
          "bar": [
           {
            "error_x": {
             "color": "#2a3f5f"
            },
            "error_y": {
             "color": "#2a3f5f"
            },
            "marker": {
             "line": {
              "color": "#E5ECF6",
              "width": 0.5
             },
             "pattern": {
              "fillmode": "overlay",
              "size": 10,
              "solidity": 0.2
             }
            },
            "type": "bar"
           }
          ],
          "barpolar": [
           {
            "marker": {
             "line": {
              "color": "#E5ECF6",
              "width": 0.5
             },
             "pattern": {
              "fillmode": "overlay",
              "size": 10,
              "solidity": 0.2
             }
            },
            "type": "barpolar"
           }
          ],
          "carpet": [
           {
            "aaxis": {
             "endlinecolor": "#2a3f5f",
             "gridcolor": "white",
             "linecolor": "white",
             "minorgridcolor": "white",
             "startlinecolor": "#2a3f5f"
            },
            "baxis": {
             "endlinecolor": "#2a3f5f",
             "gridcolor": "white",
             "linecolor": "white",
             "minorgridcolor": "white",
             "startlinecolor": "#2a3f5f"
            },
            "type": "carpet"
           }
          ],
          "choropleth": [
           {
            "colorbar": {
             "outlinewidth": 0,
             "ticks": ""
            },
            "type": "choropleth"
           }
          ],
          "contour": [
           {
            "colorbar": {
             "outlinewidth": 0,
             "ticks": ""
            },
            "colorscale": [
             [
              0,
              "#0d0887"
             ],
             [
              0.1111111111111111,
              "#46039f"
             ],
             [
              0.2222222222222222,
              "#7201a8"
             ],
             [
              0.3333333333333333,
              "#9c179e"
             ],
             [
              0.4444444444444444,
              "#bd3786"
             ],
             [
              0.5555555555555556,
              "#d8576b"
             ],
             [
              0.6666666666666666,
              "#ed7953"
             ],
             [
              0.7777777777777778,
              "#fb9f3a"
             ],
             [
              0.8888888888888888,
              "#fdca26"
             ],
             [
              1,
              "#f0f921"
             ]
            ],
            "type": "contour"
           }
          ],
          "contourcarpet": [
           {
            "colorbar": {
             "outlinewidth": 0,
             "ticks": ""
            },
            "type": "contourcarpet"
           }
          ],
          "heatmap": [
           {
            "colorbar": {
             "outlinewidth": 0,
             "ticks": ""
            },
            "colorscale": [
             [
              0,
              "#0d0887"
             ],
             [
              0.1111111111111111,
              "#46039f"
             ],
             [
              0.2222222222222222,
              "#7201a8"
             ],
             [
              0.3333333333333333,
              "#9c179e"
             ],
             [
              0.4444444444444444,
              "#bd3786"
             ],
             [
              0.5555555555555556,
              "#d8576b"
             ],
             [
              0.6666666666666666,
              "#ed7953"
             ],
             [
              0.7777777777777778,
              "#fb9f3a"
             ],
             [
              0.8888888888888888,
              "#fdca26"
             ],
             [
              1,
              "#f0f921"
             ]
            ],
            "type": "heatmap"
           }
          ],
          "heatmapgl": [
           {
            "colorbar": {
             "outlinewidth": 0,
             "ticks": ""
            },
            "colorscale": [
             [
              0,
              "#0d0887"
             ],
             [
              0.1111111111111111,
              "#46039f"
             ],
             [
              0.2222222222222222,
              "#7201a8"
             ],
             [
              0.3333333333333333,
              "#9c179e"
             ],
             [
              0.4444444444444444,
              "#bd3786"
             ],
             [
              0.5555555555555556,
              "#d8576b"
             ],
             [
              0.6666666666666666,
              "#ed7953"
             ],
             [
              0.7777777777777778,
              "#fb9f3a"
             ],
             [
              0.8888888888888888,
              "#fdca26"
             ],
             [
              1,
              "#f0f921"
             ]
            ],
            "type": "heatmapgl"
           }
          ],
          "histogram": [
           {
            "marker": {
             "pattern": {
              "fillmode": "overlay",
              "size": 10,
              "solidity": 0.2
             }
            },
            "type": "histogram"
           }
          ],
          "histogram2d": [
           {
            "colorbar": {
             "outlinewidth": 0,
             "ticks": ""
            },
            "colorscale": [
             [
              0,
              "#0d0887"
             ],
             [
              0.1111111111111111,
              "#46039f"
             ],
             [
              0.2222222222222222,
              "#7201a8"
             ],
             [
              0.3333333333333333,
              "#9c179e"
             ],
             [
              0.4444444444444444,
              "#bd3786"
             ],
             [
              0.5555555555555556,
              "#d8576b"
             ],
             [
              0.6666666666666666,
              "#ed7953"
             ],
             [
              0.7777777777777778,
              "#fb9f3a"
             ],
             [
              0.8888888888888888,
              "#fdca26"
             ],
             [
              1,
              "#f0f921"
             ]
            ],
            "type": "histogram2d"
           }
          ],
          "histogram2dcontour": [
           {
            "colorbar": {
             "outlinewidth": 0,
             "ticks": ""
            },
            "colorscale": [
             [
              0,
              "#0d0887"
             ],
             [
              0.1111111111111111,
              "#46039f"
             ],
             [
              0.2222222222222222,
              "#7201a8"
             ],
             [
              0.3333333333333333,
              "#9c179e"
             ],
             [
              0.4444444444444444,
              "#bd3786"
             ],
             [
              0.5555555555555556,
              "#d8576b"
             ],
             [
              0.6666666666666666,
              "#ed7953"
             ],
             [
              0.7777777777777778,
              "#fb9f3a"
             ],
             [
              0.8888888888888888,
              "#fdca26"
             ],
             [
              1,
              "#f0f921"
             ]
            ],
            "type": "histogram2dcontour"
           }
          ],
          "mesh3d": [
           {
            "colorbar": {
             "outlinewidth": 0,
             "ticks": ""
            },
            "type": "mesh3d"
           }
          ],
          "parcoords": [
           {
            "line": {
             "colorbar": {
              "outlinewidth": 0,
              "ticks": ""
             }
            },
            "type": "parcoords"
           }
          ],
          "pie": [
           {
            "automargin": true,
            "type": "pie"
           }
          ],
          "scatter": [
           {
            "fillpattern": {
             "fillmode": "overlay",
             "size": 10,
             "solidity": 0.2
            },
            "type": "scatter"
           }
          ],
          "scatter3d": [
           {
            "line": {
             "colorbar": {
              "outlinewidth": 0,
              "ticks": ""
             }
            },
            "marker": {
             "colorbar": {
              "outlinewidth": 0,
              "ticks": ""
             }
            },
            "type": "scatter3d"
           }
          ],
          "scattercarpet": [
           {
            "marker": {
             "colorbar": {
              "outlinewidth": 0,
              "ticks": ""
             }
            },
            "type": "scattercarpet"
           }
          ],
          "scattergeo": [
           {
            "marker": {
             "colorbar": {
              "outlinewidth": 0,
              "ticks": ""
             }
            },
            "type": "scattergeo"
           }
          ],
          "scattergl": [
           {
            "marker": {
             "colorbar": {
              "outlinewidth": 0,
              "ticks": ""
             }
            },
            "type": "scattergl"
           }
          ],
          "scattermapbox": [
           {
            "marker": {
             "colorbar": {
              "outlinewidth": 0,
              "ticks": ""
             }
            },
            "type": "scattermapbox"
           }
          ],
          "scatterpolar": [
           {
            "marker": {
             "colorbar": {
              "outlinewidth": 0,
              "ticks": ""
             }
            },
            "type": "scatterpolar"
           }
          ],
          "scatterpolargl": [
           {
            "marker": {
             "colorbar": {
              "outlinewidth": 0,
              "ticks": ""
             }
            },
            "type": "scatterpolargl"
           }
          ],
          "scatterternary": [
           {
            "marker": {
             "colorbar": {
              "outlinewidth": 0,
              "ticks": ""
             }
            },
            "type": "scatterternary"
           }
          ],
          "surface": [
           {
            "colorbar": {
             "outlinewidth": 0,
             "ticks": ""
            },
            "colorscale": [
             [
              0,
              "#0d0887"
             ],
             [
              0.1111111111111111,
              "#46039f"
             ],
             [
              0.2222222222222222,
              "#7201a8"
             ],
             [
              0.3333333333333333,
              "#9c179e"
             ],
             [
              0.4444444444444444,
              "#bd3786"
             ],
             [
              0.5555555555555556,
              "#d8576b"
             ],
             [
              0.6666666666666666,
              "#ed7953"
             ],
             [
              0.7777777777777778,
              "#fb9f3a"
             ],
             [
              0.8888888888888888,
              "#fdca26"
             ],
             [
              1,
              "#f0f921"
             ]
            ],
            "type": "surface"
           }
          ],
          "table": [
           {
            "cells": {
             "fill": {
              "color": "#EBF0F8"
             },
             "line": {
              "color": "white"
             }
            },
            "header": {
             "fill": {
              "color": "#C8D4E3"
             },
             "line": {
              "color": "white"
             }
            },
            "type": "table"
           }
          ]
         },
         "layout": {
          "annotationdefaults": {
           "arrowcolor": "#2a3f5f",
           "arrowhead": 0,
           "arrowwidth": 1
          },
          "autotypenumbers": "strict",
          "coloraxis": {
           "colorbar": {
            "outlinewidth": 0,
            "ticks": ""
           }
          },
          "colorscale": {
           "diverging": [
            [
             0,
             "#8e0152"
            ],
            [
             0.1,
             "#c51b7d"
            ],
            [
             0.2,
             "#de77ae"
            ],
            [
             0.3,
             "#f1b6da"
            ],
            [
             0.4,
             "#fde0ef"
            ],
            [
             0.5,
             "#f7f7f7"
            ],
            [
             0.6,
             "#e6f5d0"
            ],
            [
             0.7,
             "#b8e186"
            ],
            [
             0.8,
             "#7fbc41"
            ],
            [
             0.9,
             "#4d9221"
            ],
            [
             1,
             "#276419"
            ]
           ],
           "sequential": [
            [
             0,
             "#0d0887"
            ],
            [
             0.1111111111111111,
             "#46039f"
            ],
            [
             0.2222222222222222,
             "#7201a8"
            ],
            [
             0.3333333333333333,
             "#9c179e"
            ],
            [
             0.4444444444444444,
             "#bd3786"
            ],
            [
             0.5555555555555556,
             "#d8576b"
            ],
            [
             0.6666666666666666,
             "#ed7953"
            ],
            [
             0.7777777777777778,
             "#fb9f3a"
            ],
            [
             0.8888888888888888,
             "#fdca26"
            ],
            [
             1,
             "#f0f921"
            ]
           ],
           "sequentialminus": [
            [
             0,
             "#0d0887"
            ],
            [
             0.1111111111111111,
             "#46039f"
            ],
            [
             0.2222222222222222,
             "#7201a8"
            ],
            [
             0.3333333333333333,
             "#9c179e"
            ],
            [
             0.4444444444444444,
             "#bd3786"
            ],
            [
             0.5555555555555556,
             "#d8576b"
            ],
            [
             0.6666666666666666,
             "#ed7953"
            ],
            [
             0.7777777777777778,
             "#fb9f3a"
            ],
            [
             0.8888888888888888,
             "#fdca26"
            ],
            [
             1,
             "#f0f921"
            ]
           ]
          },
          "colorway": [
           "#636efa",
           "#EF553B",
           "#00cc96",
           "#ab63fa",
           "#FFA15A",
           "#19d3f3",
           "#FF6692",
           "#B6E880",
           "#FF97FF",
           "#FECB52"
          ],
          "font": {
           "color": "#2a3f5f"
          },
          "geo": {
           "bgcolor": "white",
           "lakecolor": "white",
           "landcolor": "#E5ECF6",
           "showlakes": true,
           "showland": true,
           "subunitcolor": "white"
          },
          "hoverlabel": {
           "align": "left"
          },
          "hovermode": "closest",
          "mapbox": {
           "style": "light"
          },
          "paper_bgcolor": "white",
          "plot_bgcolor": "#E5ECF6",
          "polar": {
           "angularaxis": {
            "gridcolor": "white",
            "linecolor": "white",
            "ticks": ""
           },
           "bgcolor": "#E5ECF6",
           "radialaxis": {
            "gridcolor": "white",
            "linecolor": "white",
            "ticks": ""
           }
          },
          "scene": {
           "xaxis": {
            "backgroundcolor": "#E5ECF6",
            "gridcolor": "white",
            "gridwidth": 2,
            "linecolor": "white",
            "showbackground": true,
            "ticks": "",
            "zerolinecolor": "white"
           },
           "yaxis": {
            "backgroundcolor": "#E5ECF6",
            "gridcolor": "white",
            "gridwidth": 2,
            "linecolor": "white",
            "showbackground": true,
            "ticks": "",
            "zerolinecolor": "white"
           },
           "zaxis": {
            "backgroundcolor": "#E5ECF6",
            "gridcolor": "white",
            "gridwidth": 2,
            "linecolor": "white",
            "showbackground": true,
            "ticks": "",
            "zerolinecolor": "white"
           }
          },
          "shapedefaults": {
           "line": {
            "color": "#2a3f5f"
           }
          },
          "ternary": {
           "aaxis": {
            "gridcolor": "white",
            "linecolor": "white",
            "ticks": ""
           },
           "baxis": {
            "gridcolor": "white",
            "linecolor": "white",
            "ticks": ""
           },
           "bgcolor": "#E5ECF6",
           "caxis": {
            "gridcolor": "white",
            "linecolor": "white",
            "ticks": ""
           }
          },
          "title": {
           "x": 0.05
          },
          "xaxis": {
           "automargin": true,
           "gridcolor": "white",
           "linecolor": "white",
           "ticks": "",
           "title": {
            "standoff": 15
           },
           "zerolinecolor": "white",
           "zerolinewidth": 2
          },
          "yaxis": {
           "automargin": true,
           "gridcolor": "white",
           "linecolor": "white",
           "ticks": "",
           "title": {
            "standoff": 15
           },
           "zerolinecolor": "white",
           "zerolinewidth": 2
          }
         }
        },
        "title": {
         "text": "Moyenne du nombre de features exterieurs en fonction du type de logement"
        },
        "xaxis": {
         "anchor": "y",
         "domain": [
          0,
          1
         ],
         "title": {
          "text": "Nombre de features"
         }
        },
        "yaxis": {
         "anchor": "x",
         "categoryarray": [
          "Maison",
          "Appartement"
         ],
         "categoryorder": "array",
         "domain": [
          0,
          1
         ],
         "title": {
          "text": "Type de logement"
         }
        }
       }
      }
     },
     "metadata": {},
     "output_type": "display_data"
    }
   ],
   "source": [
    "# on regarde le nombre de features moyen par type d'habitation\n",
    "\n",
    "grouped_df = data.groupby(by='type').mean()\n",
    "\n",
    "\n",
    "# On fait un bar plot horizontal\n",
    "fig = px.bar(grouped_df, x='nb_features_ext', y=grouped_df.index, orientation='h', color=grouped_df.index)\n",
    "\n",
    "#on met un titre et des valeurs pour les axes\n",
    "fig.update_layout(\n",
    "    title='Moyenne du nombre de features exterieurs en fonction du type de logement',\n",
    "    xaxis_title='Nombre de features',\n",
    "    yaxis_title=\"Type de logement\"\n",
    ")\n",
    "\n",
    "# Show the plot\n",
    "fig.show()"
   ]
  },
  {
   "cell_type": "markdown",
   "metadata": {},
   "source": [
    "On remarque donc, sans surprise, que les maisons ont en moyenne plus de features exterieurs et que les appartements ont en moyenne plus de features interieurs"
   ]
  },
  {
   "cell_type": "markdown",
   "metadata": {},
   "source": [
    "### Bar plot de la présence ou non des différents features de logements "
   ]
  },
  {
   "cell_type": "code",
   "execution_count": 63,
   "metadata": {},
   "outputs": [],
   "source": [
    "#on fait des regroupements de features\n",
    "\n",
    "data['espace_suppl'] = data['caves'] + data['sous_sol']\n",
    "data['espace_ext'] = data['terrasses'] + data['balcons']\n",
    "data['parking'] = data['place_parking'] + data['garages']\n"
   ]
  },
  {
   "cell_type": "code",
   "execution_count": 69,
   "metadata": {},
   "outputs": [
    {
     "data": {
      "application/vnd.plotly.v1+json": {
       "config": {
        "plotlyServerURL": "https://plot.ly"
       },
       "data": [
        {
         "name": "Terrain",
         "type": "bar",
         "x": [
          "Oui",
          "Non"
         ],
         "xaxis": "x",
         "y": [
          686,
          414
         ],
         "yaxis": "y"
        },
        {
         "name": "Ascenseur",
         "type": "bar",
         "x": [
          "Oui",
          "Non"
         ],
         "xaxis": "x2",
         "y": [
          789,
          311
         ],
         "yaxis": "y2"
        },
        {
         "name": "Cuisine Aménagée",
         "type": "bar",
         "x": [
          "Oui",
          "Non"
         ],
         "xaxis": "x3",
         "y": [
          792,
          308
         ],
         "yaxis": "y3"
        },
        {
         "name": "Cave ou sous-sol",
         "type": "bar",
         "x": [
          "Oui",
          "Non"
         ],
         "xaxis": "x4",
         "y": [
          539,
          452,
          102,
          4,
          1,
          1,
          1
         ],
         "yaxis": "y4"
        },
        {
         "name": "Terrasse ou Balcon",
         "type": "bar",
         "x": [
          "Oui",
          "Non"
         ],
         "xaxis": "x5",
         "y": [
          621,
          375,
          84,
          16,
          4
         ],
         "yaxis": "y5"
        },
        {
         "name": "Parking ou garage",
         "type": "bar",
         "x": [
          "Oui",
          "Non"
         ],
         "xaxis": "x6",
         "y": [
          841,
          210,
          36,
          5,
          4,
          2,
          1,
          1
         ],
         "yaxis": "y6"
        }
       ],
       "layout": {
        "template": {
         "data": {
          "bar": [
           {
            "error_x": {
             "color": "#2a3f5f"
            },
            "error_y": {
             "color": "#2a3f5f"
            },
            "marker": {
             "line": {
              "color": "#E5ECF6",
              "width": 0.5
             },
             "pattern": {
              "fillmode": "overlay",
              "size": 10,
              "solidity": 0.2
             }
            },
            "type": "bar"
           }
          ],
          "barpolar": [
           {
            "marker": {
             "line": {
              "color": "#E5ECF6",
              "width": 0.5
             },
             "pattern": {
              "fillmode": "overlay",
              "size": 10,
              "solidity": 0.2
             }
            },
            "type": "barpolar"
           }
          ],
          "carpet": [
           {
            "aaxis": {
             "endlinecolor": "#2a3f5f",
             "gridcolor": "white",
             "linecolor": "white",
             "minorgridcolor": "white",
             "startlinecolor": "#2a3f5f"
            },
            "baxis": {
             "endlinecolor": "#2a3f5f",
             "gridcolor": "white",
             "linecolor": "white",
             "minorgridcolor": "white",
             "startlinecolor": "#2a3f5f"
            },
            "type": "carpet"
           }
          ],
          "choropleth": [
           {
            "colorbar": {
             "outlinewidth": 0,
             "ticks": ""
            },
            "type": "choropleth"
           }
          ],
          "contour": [
           {
            "colorbar": {
             "outlinewidth": 0,
             "ticks": ""
            },
            "colorscale": [
             [
              0,
              "#0d0887"
             ],
             [
              0.1111111111111111,
              "#46039f"
             ],
             [
              0.2222222222222222,
              "#7201a8"
             ],
             [
              0.3333333333333333,
              "#9c179e"
             ],
             [
              0.4444444444444444,
              "#bd3786"
             ],
             [
              0.5555555555555556,
              "#d8576b"
             ],
             [
              0.6666666666666666,
              "#ed7953"
             ],
             [
              0.7777777777777778,
              "#fb9f3a"
             ],
             [
              0.8888888888888888,
              "#fdca26"
             ],
             [
              1,
              "#f0f921"
             ]
            ],
            "type": "contour"
           }
          ],
          "contourcarpet": [
           {
            "colorbar": {
             "outlinewidth": 0,
             "ticks": ""
            },
            "type": "contourcarpet"
           }
          ],
          "heatmap": [
           {
            "colorbar": {
             "outlinewidth": 0,
             "ticks": ""
            },
            "colorscale": [
             [
              0,
              "#0d0887"
             ],
             [
              0.1111111111111111,
              "#46039f"
             ],
             [
              0.2222222222222222,
              "#7201a8"
             ],
             [
              0.3333333333333333,
              "#9c179e"
             ],
             [
              0.4444444444444444,
              "#bd3786"
             ],
             [
              0.5555555555555556,
              "#d8576b"
             ],
             [
              0.6666666666666666,
              "#ed7953"
             ],
             [
              0.7777777777777778,
              "#fb9f3a"
             ],
             [
              0.8888888888888888,
              "#fdca26"
             ],
             [
              1,
              "#f0f921"
             ]
            ],
            "type": "heatmap"
           }
          ],
          "heatmapgl": [
           {
            "colorbar": {
             "outlinewidth": 0,
             "ticks": ""
            },
            "colorscale": [
             [
              0,
              "#0d0887"
             ],
             [
              0.1111111111111111,
              "#46039f"
             ],
             [
              0.2222222222222222,
              "#7201a8"
             ],
             [
              0.3333333333333333,
              "#9c179e"
             ],
             [
              0.4444444444444444,
              "#bd3786"
             ],
             [
              0.5555555555555556,
              "#d8576b"
             ],
             [
              0.6666666666666666,
              "#ed7953"
             ],
             [
              0.7777777777777778,
              "#fb9f3a"
             ],
             [
              0.8888888888888888,
              "#fdca26"
             ],
             [
              1,
              "#f0f921"
             ]
            ],
            "type": "heatmapgl"
           }
          ],
          "histogram": [
           {
            "marker": {
             "pattern": {
              "fillmode": "overlay",
              "size": 10,
              "solidity": 0.2
             }
            },
            "type": "histogram"
           }
          ],
          "histogram2d": [
           {
            "colorbar": {
             "outlinewidth": 0,
             "ticks": ""
            },
            "colorscale": [
             [
              0,
              "#0d0887"
             ],
             [
              0.1111111111111111,
              "#46039f"
             ],
             [
              0.2222222222222222,
              "#7201a8"
             ],
             [
              0.3333333333333333,
              "#9c179e"
             ],
             [
              0.4444444444444444,
              "#bd3786"
             ],
             [
              0.5555555555555556,
              "#d8576b"
             ],
             [
              0.6666666666666666,
              "#ed7953"
             ],
             [
              0.7777777777777778,
              "#fb9f3a"
             ],
             [
              0.8888888888888888,
              "#fdca26"
             ],
             [
              1,
              "#f0f921"
             ]
            ],
            "type": "histogram2d"
           }
          ],
          "histogram2dcontour": [
           {
            "colorbar": {
             "outlinewidth": 0,
             "ticks": ""
            },
            "colorscale": [
             [
              0,
              "#0d0887"
             ],
             [
              0.1111111111111111,
              "#46039f"
             ],
             [
              0.2222222222222222,
              "#7201a8"
             ],
             [
              0.3333333333333333,
              "#9c179e"
             ],
             [
              0.4444444444444444,
              "#bd3786"
             ],
             [
              0.5555555555555556,
              "#d8576b"
             ],
             [
              0.6666666666666666,
              "#ed7953"
             ],
             [
              0.7777777777777778,
              "#fb9f3a"
             ],
             [
              0.8888888888888888,
              "#fdca26"
             ],
             [
              1,
              "#f0f921"
             ]
            ],
            "type": "histogram2dcontour"
           }
          ],
          "mesh3d": [
           {
            "colorbar": {
             "outlinewidth": 0,
             "ticks": ""
            },
            "type": "mesh3d"
           }
          ],
          "parcoords": [
           {
            "line": {
             "colorbar": {
              "outlinewidth": 0,
              "ticks": ""
             }
            },
            "type": "parcoords"
           }
          ],
          "pie": [
           {
            "automargin": true,
            "type": "pie"
           }
          ],
          "scatter": [
           {
            "fillpattern": {
             "fillmode": "overlay",
             "size": 10,
             "solidity": 0.2
            },
            "type": "scatter"
           }
          ],
          "scatter3d": [
           {
            "line": {
             "colorbar": {
              "outlinewidth": 0,
              "ticks": ""
             }
            },
            "marker": {
             "colorbar": {
              "outlinewidth": 0,
              "ticks": ""
             }
            },
            "type": "scatter3d"
           }
          ],
          "scattercarpet": [
           {
            "marker": {
             "colorbar": {
              "outlinewidth": 0,
              "ticks": ""
             }
            },
            "type": "scattercarpet"
           }
          ],
          "scattergeo": [
           {
            "marker": {
             "colorbar": {
              "outlinewidth": 0,
              "ticks": ""
             }
            },
            "type": "scattergeo"
           }
          ],
          "scattergl": [
           {
            "marker": {
             "colorbar": {
              "outlinewidth": 0,
              "ticks": ""
             }
            },
            "type": "scattergl"
           }
          ],
          "scattermapbox": [
           {
            "marker": {
             "colorbar": {
              "outlinewidth": 0,
              "ticks": ""
             }
            },
            "type": "scattermapbox"
           }
          ],
          "scatterpolar": [
           {
            "marker": {
             "colorbar": {
              "outlinewidth": 0,
              "ticks": ""
             }
            },
            "type": "scatterpolar"
           }
          ],
          "scatterpolargl": [
           {
            "marker": {
             "colorbar": {
              "outlinewidth": 0,
              "ticks": ""
             }
            },
            "type": "scatterpolargl"
           }
          ],
          "scatterternary": [
           {
            "marker": {
             "colorbar": {
              "outlinewidth": 0,
              "ticks": ""
             }
            },
            "type": "scatterternary"
           }
          ],
          "surface": [
           {
            "colorbar": {
             "outlinewidth": 0,
             "ticks": ""
            },
            "colorscale": [
             [
              0,
              "#0d0887"
             ],
             [
              0.1111111111111111,
              "#46039f"
             ],
             [
              0.2222222222222222,
              "#7201a8"
             ],
             [
              0.3333333333333333,
              "#9c179e"
             ],
             [
              0.4444444444444444,
              "#bd3786"
             ],
             [
              0.5555555555555556,
              "#d8576b"
             ],
             [
              0.6666666666666666,
              "#ed7953"
             ],
             [
              0.7777777777777778,
              "#fb9f3a"
             ],
             [
              0.8888888888888888,
              "#fdca26"
             ],
             [
              1,
              "#f0f921"
             ]
            ],
            "type": "surface"
           }
          ],
          "table": [
           {
            "cells": {
             "fill": {
              "color": "#EBF0F8"
             },
             "line": {
              "color": "white"
             }
            },
            "header": {
             "fill": {
              "color": "#C8D4E3"
             },
             "line": {
              "color": "white"
             }
            },
            "type": "table"
           }
          ]
         },
         "layout": {
          "annotationdefaults": {
           "arrowcolor": "#2a3f5f",
           "arrowhead": 0,
           "arrowwidth": 1
          },
          "autotypenumbers": "strict",
          "coloraxis": {
           "colorbar": {
            "outlinewidth": 0,
            "ticks": ""
           }
          },
          "colorscale": {
           "diverging": [
            [
             0,
             "#8e0152"
            ],
            [
             0.1,
             "#c51b7d"
            ],
            [
             0.2,
             "#de77ae"
            ],
            [
             0.3,
             "#f1b6da"
            ],
            [
             0.4,
             "#fde0ef"
            ],
            [
             0.5,
             "#f7f7f7"
            ],
            [
             0.6,
             "#e6f5d0"
            ],
            [
             0.7,
             "#b8e186"
            ],
            [
             0.8,
             "#7fbc41"
            ],
            [
             0.9,
             "#4d9221"
            ],
            [
             1,
             "#276419"
            ]
           ],
           "sequential": [
            [
             0,
             "#0d0887"
            ],
            [
             0.1111111111111111,
             "#46039f"
            ],
            [
             0.2222222222222222,
             "#7201a8"
            ],
            [
             0.3333333333333333,
             "#9c179e"
            ],
            [
             0.4444444444444444,
             "#bd3786"
            ],
            [
             0.5555555555555556,
             "#d8576b"
            ],
            [
             0.6666666666666666,
             "#ed7953"
            ],
            [
             0.7777777777777778,
             "#fb9f3a"
            ],
            [
             0.8888888888888888,
             "#fdca26"
            ],
            [
             1,
             "#f0f921"
            ]
           ],
           "sequentialminus": [
            [
             0,
             "#0d0887"
            ],
            [
             0.1111111111111111,
             "#46039f"
            ],
            [
             0.2222222222222222,
             "#7201a8"
            ],
            [
             0.3333333333333333,
             "#9c179e"
            ],
            [
             0.4444444444444444,
             "#bd3786"
            ],
            [
             0.5555555555555556,
             "#d8576b"
            ],
            [
             0.6666666666666666,
             "#ed7953"
            ],
            [
             0.7777777777777778,
             "#fb9f3a"
            ],
            [
             0.8888888888888888,
             "#fdca26"
            ],
            [
             1,
             "#f0f921"
            ]
           ]
          },
          "colorway": [
           "#636efa",
           "#EF553B",
           "#00cc96",
           "#ab63fa",
           "#FFA15A",
           "#19d3f3",
           "#FF6692",
           "#B6E880",
           "#FF97FF",
           "#FECB52"
          ],
          "font": {
           "color": "#2a3f5f"
          },
          "geo": {
           "bgcolor": "white",
           "lakecolor": "white",
           "landcolor": "#E5ECF6",
           "showlakes": true,
           "showland": true,
           "subunitcolor": "white"
          },
          "hoverlabel": {
           "align": "left"
          },
          "hovermode": "closest",
          "mapbox": {
           "style": "light"
          },
          "paper_bgcolor": "white",
          "plot_bgcolor": "#E5ECF6",
          "polar": {
           "angularaxis": {
            "gridcolor": "white",
            "linecolor": "white",
            "ticks": ""
           },
           "bgcolor": "#E5ECF6",
           "radialaxis": {
            "gridcolor": "white",
            "linecolor": "white",
            "ticks": ""
           }
          },
          "scene": {
           "xaxis": {
            "backgroundcolor": "#E5ECF6",
            "gridcolor": "white",
            "gridwidth": 2,
            "linecolor": "white",
            "showbackground": true,
            "ticks": "",
            "zerolinecolor": "white"
           },
           "yaxis": {
            "backgroundcolor": "#E5ECF6",
            "gridcolor": "white",
            "gridwidth": 2,
            "linecolor": "white",
            "showbackground": true,
            "ticks": "",
            "zerolinecolor": "white"
           },
           "zaxis": {
            "backgroundcolor": "#E5ECF6",
            "gridcolor": "white",
            "gridwidth": 2,
            "linecolor": "white",
            "showbackground": true,
            "ticks": "",
            "zerolinecolor": "white"
           }
          },
          "shapedefaults": {
           "line": {
            "color": "#2a3f5f"
           }
          },
          "ternary": {
           "aaxis": {
            "gridcolor": "white",
            "linecolor": "white",
            "ticks": ""
           },
           "baxis": {
            "gridcolor": "white",
            "linecolor": "white",
            "ticks": ""
           },
           "bgcolor": "#E5ECF6",
           "caxis": {
            "gridcolor": "white",
            "linecolor": "white",
            "ticks": ""
           }
          },
          "title": {
           "x": 0.05
          },
          "xaxis": {
           "automargin": true,
           "gridcolor": "white",
           "linecolor": "white",
           "ticks": "",
           "title": {
            "standoff": 15
           },
           "zerolinecolor": "white",
           "zerolinewidth": 2
          },
          "yaxis": {
           "automargin": true,
           "gridcolor": "white",
           "linecolor": "white",
           "ticks": "",
           "title": {
            "standoff": 15
           },
           "zerolinecolor": "white",
           "zerolinewidth": 2
          }
         }
        },
        "title": {
         "text": "Présence ou non de caractéristiques dans les logements"
        },
        "xaxis": {
         "anchor": "y",
         "domain": [
          0,
          0.2888888888888889
         ]
        },
        "xaxis2": {
         "anchor": "y2",
         "domain": [
          0.35555555555555557,
          0.6444444444444445
         ]
        },
        "xaxis3": {
         "anchor": "y3",
         "domain": [
          0.7111111111111111,
          1
         ]
        },
        "xaxis4": {
         "anchor": "y4",
         "domain": [
          0,
          0.2888888888888889
         ]
        },
        "xaxis5": {
         "anchor": "y5",
         "domain": [
          0.35555555555555557,
          0.6444444444444445
         ]
        },
        "xaxis6": {
         "anchor": "y6",
         "domain": [
          0.7111111111111111,
          1
         ]
        },
        "yaxis": {
         "anchor": "x",
         "domain": [
          0.575,
          1
         ]
        },
        "yaxis2": {
         "anchor": "x2",
         "domain": [
          0.575,
          1
         ]
        },
        "yaxis3": {
         "anchor": "x3",
         "domain": [
          0.575,
          1
         ]
        },
        "yaxis4": {
         "anchor": "x4",
         "domain": [
          0,
          0.425
         ]
        },
        "yaxis5": {
         "anchor": "x5",
         "domain": [
          0,
          0.425
         ]
        },
        "yaxis6": {
         "anchor": "x6",
         "domain": [
          0,
          0.425
         ]
        }
       }
      }
     },
     "metadata": {},
     "output_type": "display_data"
    }
   ],
   "source": [
    "import plotly.subplots as sp\n",
    "import plotly.graph_objs as go\n",
    "\n",
    "#on cree 6 subplots pour pouvoir faire la compairsaon visuelle entre les features\n",
    "\n",
    "terrain_count = data['terrain'].value_counts()\n",
    "ascenseur_count = data['ascenseur'].value_counts()\n",
    "cuisine_count = data['cuisine_amenagee'].value_counts()\n",
    "cave_count = data['espace_suppl'].value_counts()\n",
    "ext_count = data['espace_ext'].value_counts()\n",
    "parking = data['parking'].value_counts()\n",
    "\n",
    "\n",
    "fig = sp.make_subplots(rows=2, cols=3)\n",
    "\n",
    "trace1 = go.Bar(x=['Oui', 'Non'], y=terrain_count, name='Terrain')\n",
    "trace2 = go.Bar(x=['Oui', 'Non'], y=ascenseur_count, name='Ascenseur')\n",
    "trace3 = go.Bar(x=['Oui', 'Non'], y=cuisine_count, name='Cuisine Aménagée')\n",
    "trace4 = go.Bar(x=['Oui', 'Non'], y=cave_count, name='Cave ou sous-sol')\n",
    "trace5 = go.Bar(x=['Oui', 'Non'], y=ext_count, name='Terrasse ou Balcon')\n",
    "trace6 = go.Bar(x=['Oui', 'Non'], y=parking, name='Parking ou garage')\n",
    "\n",
    "\n",
    "fig.add_trace(trace1, row=1, col=1)\n",
    "fig.add_trace(trace2, row=1, col=2)\n",
    "fig.add_trace(trace3, row=1, col=3)\n",
    "fig.add_trace(trace4, row=2, col=1)\n",
    "fig.add_trace(trace5, row=2, col=2)\n",
    "fig.add_trace(trace6, row=2, col=3)\n",
    "\n",
    "fig.update_layout(\n",
    "    title='Présence ou non de caractéristiques dans les logements'\n",
    ")\n",
    "\n",
    "fig.show()"
   ]
  }
 ],
 "metadata": {
  "kernelspec": {
   "display_name": "advanced_python",
   "language": "python",
   "name": "advanced_python"
  },
  "language_info": {
   "codemirror_mode": {
    "name": "ipython",
    "version": 3
   },
   "file_extension": ".py",
   "mimetype": "text/x-python",
   "name": "python",
   "nbconvert_exporter": "python",
   "pygments_lexer": "ipython3",
   "version": "3.9.12"
  },
  "orig_nbformat": 4,
  "vscode": {
   "interpreter": {
    "hash": "b583c5b94c8084b8cf47f5d75b5d0f2d58267411625bfbb02acfac9c9f20b633"
   }
  }
 },
 "nbformat": 4,
 "nbformat_minor": 2
}
